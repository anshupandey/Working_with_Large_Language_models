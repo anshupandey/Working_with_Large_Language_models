{
  "cells": [
    {
      "cell_type": "markdown",
      "metadata": {
        "id": "view-in-github",
        "colab_type": "text"
      },
      "source": [
        "<a href=\"https://colab.research.google.com/github/anshupandey/Working_with_Large_Language_models/blob/main/WWL_C14_Product_description_Streamlit.ipynb\" target=\"_parent\"><img src=\"https://colab.research.google.com/assets/colab-badge.svg\" alt=\"Open In Colab\"/></a>"
      ]
    },
    {
      "cell_type": "code",
      "execution_count": 1,
      "metadata": {
        "id": "z4mF6go1HMCV",
        "outputId": "e6b101d5-3745-4f48-86ac-b72be602dd58",
        "colab": {
          "base_uri": "https://localhost:8080/"
        }
      },
      "outputs": [
        {
          "output_type": "stream",
          "name": "stdout",
          "text": [
            "\u001b[2K     \u001b[90m━━━━━━━━━━━━━━━━━━━━━━━━━━━━━━━━━━━━━━━━\u001b[0m \u001b[32m8.6/8.6 MB\u001b[0m \u001b[31m15.6 MB/s\u001b[0m eta \u001b[36m0:00:00\u001b[0m\n",
            "\u001b[2K     \u001b[90m━━━━━━━━━━━━━━━━━━━━━━━━━━━━━━━━━━━━━━━━\u001b[0m \u001b[32m61.4/61.4 kB\u001b[0m \u001b[31m1.7 MB/s\u001b[0m eta \u001b[36m0:00:00\u001b[0m\n",
            "\u001b[2K     \u001b[90m━━━━━━━━━━━━━━━━━━━━━━━━━━━━━━━━━━━━━━━━\u001b[0m \u001b[32m62.4/62.4 kB\u001b[0m \u001b[31m3.0 MB/s\u001b[0m eta \u001b[36m0:00:00\u001b[0m\n",
            "\u001b[2K     \u001b[90m━━━━━━━━━━━━━━━━━━━━━━━━━━━━━━━━━━━━━━━━\u001b[0m \u001b[32m207.3/207.3 kB\u001b[0m \u001b[31m2.9 MB/s\u001b[0m eta \u001b[36m0:00:00\u001b[0m\n",
            "\u001b[2K     \u001b[90m━━━━━━━━━━━━━━━━━━━━━━━━━━━━━━━━━━━━━━━━\u001b[0m \u001b[32m6.9/6.9 MB\u001b[0m \u001b[31m46.6 MB/s\u001b[0m eta \u001b[36m0:00:00\u001b[0m\n",
            "\u001b[2K     \u001b[90m━━━━━━━━━━━━━━━━━━━━━━━━━━━━━━━━━━━━━━━━\u001b[0m \u001b[32m83.0/83.0 kB\u001b[0m \u001b[31m2.5 MB/s\u001b[0m eta \u001b[36m0:00:00\u001b[0m\n",
            "\u001b[2K     \u001b[90m━━━━━━━━━━━━━━━━━━━━━━━━━━━━━━━━━━━━━━━━\u001b[0m \u001b[32m4.5/4.5 MB\u001b[0m \u001b[31m43.5 MB/s\u001b[0m eta \u001b[36m0:00:00\u001b[0m\n",
            "\u001b[2K     \u001b[90m━━━━━━━━━━━━━━━━━━━━━━━━━━━━━━━━━━━━━━━━\u001b[0m \u001b[32m58.3/58.3 kB\u001b[0m \u001b[31m4.9 MB/s\u001b[0m eta \u001b[36m0:00:00\u001b[0m\n",
            "\u001b[2K     \u001b[90m━━━━━━━━━━━━━━━━━━━━━━━━━━━━━━━━━━━━━━━━\u001b[0m \u001b[32m62.7/62.7 kB\u001b[0m \u001b[31m4.9 MB/s\u001b[0m eta \u001b[36m0:00:00\u001b[0m\n",
            "\u001b[?25h\u001b[31mERROR: pip's dependency resolver does not currently take into account all the packages that are installed. This behaviour is the source of the following dependency conflicts.\n",
            "imageio 2.31.6 requires pillow<10.1.0,>=8.3.2, but you have pillow 10.3.0 which is incompatible.\u001b[0m\u001b[31m\n",
            "\u001b[0m"
          ]
        }
      ],
      "source": [
        "!pip install streamlit together pyngrok uvicorn together --quiet"
      ]
    },
    {
      "cell_type": "code",
      "execution_count": 1,
      "metadata": {
        "colab": {
          "base_uri": "https://localhost:8080/"
        },
        "id": "gNNpeutWHqeH",
        "outputId": "56d625e4-1d17-49a0-e25f-ee562dc78686"
      },
      "outputs": [
        {
          "output_type": "stream",
          "name": "stdout",
          "text": [
            "Overwriting app.py\n"
          ]
        }
      ],
      "source": [
        "%%writefile app.py\n",
        "import streamlit as st\n",
        "import os\n",
        "from together import Together\n",
        "import time\n",
        "os.environ['TOGETHER_API_KEY'] = \"4faeef5f54789f54e13a6e05a6e413be38ba3b30c2059c6a8c9b955a413ce99b\"\n",
        "\n",
        "\n",
        "client = Together()\n",
        "\n",
        "def get_response(product_name, product_brief):\n",
        "  prompt = f\"\"\"\n",
        "  for the give product name and brief description, Generate a 2 line product description.\n",
        "  DO not add any additional information on your own which is not present in the information provided.\n",
        "  Write the brief description so that its easy to read and interpret,  Add call to action at the end.\n",
        "  Product Name: {product_name}\n",
        "  Brief Description: {product_brief}\n",
        "  \"\"\"\n",
        "  response = client.chat.completions.create(\n",
        "    model=\"meta-llama/Llama-3-8b-chat-hf\",\n",
        "    messages=[{\"role\": \"user\", \"content\": prompt}],)\n",
        "  return response.choices[0].message.content\n",
        "\n",
        "# Set up your web app\n",
        "st.title('Product Description Generator')\n",
        "st.header('Generate Product Description')\n",
        "\n",
        "product_name = st.text_area('Product Name:', height=50)\n",
        "product_brief = st.text_area('Product Name:', height=100)\n",
        "\n",
        "if st.button('Generate DEscription'):\n",
        "    with st.spinner('Generating description...'):\n",
        "        response = get_response(product_name, product_brief)\n",
        "        st.write(response)\n",
        "\n",
        "\n",
        "st.sidebar.markdown(\"## Guide\")\n",
        "st.sidebar.info(\"This tool uses Meta LLama 3 to generate Product Description\")\n",
        "st.sidebar.markdown(\"### Examples\")\n",
        "st.sidebar.write(\"1. sample.\")\n",
        "st.sidebar.write(\"2. Try different settings to see how the description changes.\")\n"
      ]
    },
    {
      "cell_type": "markdown",
      "source": [
        "https://dashboard.ngrok.com/get-started/your-authtoken"
      ],
      "metadata": {
        "id": "eioFDcE_dtOx"
      }
    },
    {
      "cell_type": "code",
      "execution_count": 2,
      "metadata": {
        "colab": {
          "base_uri": "https://localhost:8080/"
        },
        "id": "ZJFU-basHruN",
        "outputId": "4bc752da-0e8f-4aa4-cfac-d6eb4962470e"
      },
      "outputs": [
        {
          "output_type": "stream",
          "name": "stdout",
          "text": [
            "Authtoken saved to configuration file: /root/.config/ngrok/ngrok.yml\n"
          ]
        }
      ],
      "source": [
        "!ngrok config add-authtoken 2XZJQARM0jF7dy1RYWputT2aMlJ_5fw515ugXjXwDfTTRELAZ"
      ]
    },
    {
      "cell_type": "code",
      "execution_count": null,
      "metadata": {
        "colab": {
          "base_uri": "https://localhost:8080/"
        },
        "id": "mQCain-sHt11",
        "outputId": "71c591a5-fec0-40f8-b983-b4003783bb69"
      },
      "outputs": [
        {
          "output_type": "stream",
          "name": "stdout",
          "text": [
            "Public URL: https://5e9a-34-147-101-165.ngrok-free.app\n",
            "\u001b[K\u001b[?25hnpx: installed 22 in 2.334s\n",
            "your url is: https://every-words-bathe.loca.lt\n"
          ]
        }
      ],
      "source": [
        "import nest_asyncio\n",
        "from pyngrok import ngrok\n",
        "import uvicorn\n",
        "\n",
        "ngrok_tunnel = ngrok.connect(8501)\n",
        "print('Public URL:', ngrok_tunnel.public_url)\n",
        "nest_asyncio.apply()\n",
        "!streamlit run app.py &>./logs.txt & npx localtunnel --port 8501"
      ]
    },
    {
      "cell_type": "code",
      "execution_count": null,
      "metadata": {
        "colab": {
          "background_save": true,
          "base_uri": "https://localhost:8080/"
        },
        "id": "S12FTjNrHvLx",
        "outputId": "9dd70c7f-6f24-497d-c023-606d2e4c80dd"
      },
      "outputs": [
        {
          "name": "stdout",
          "output_type": "stream",
          "text": [
            "\u001b[K\u001b[?25hnpx: installed 22 in 6.108s\n",
            "your url is: https://four-wasps-behave.loca.lt\n"
          ]
        }
      ],
      "source": [
        "!streamlit run app.py &>./logs.txt & npx localtunnel --port 8501"
      ]
    },
    {
      "cell_type": "code",
      "execution_count": null,
      "metadata": {
        "id": "uExz5mRTHxQX"
      },
      "outputs": [],
      "source": []
    },
    {
      "cell_type": "code",
      "execution_count": null,
      "metadata": {
        "id": "5uliI9ZfdsHk"
      },
      "outputs": [],
      "source": []
    },
    {
      "cell_type": "code",
      "execution_count": null,
      "metadata": {
        "id": "Yil1CHPads10"
      },
      "outputs": [],
      "source": []
    }
  ],
  "metadata": {
    "colab": {
      "provenance": [],
      "include_colab_link": true
    },
    "kernelspec": {
      "display_name": "Python 3",
      "name": "python3"
    },
    "language_info": {
      "name": "python"
    }
  },
  "nbformat": 4,
  "nbformat_minor": 0
}