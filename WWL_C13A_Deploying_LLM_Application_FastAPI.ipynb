{
  "nbformat": 4,
  "nbformat_minor": 0,
  "metadata": {
    "colab": {
      "provenance": [],
      "authorship_tag": "ABX9TyOhZvbpZQsdZ7CLtorwGXzb",
      "include_colab_link": true
    },
    "kernelspec": {
      "name": "python3",
      "display_name": "Python 3"
    },
    "language_info": {
      "name": "python"
    }
  },
  "cells": [
    {
      "cell_type": "markdown",
      "metadata": {
        "id": "view-in-github",
        "colab_type": "text"
      },
      "source": [
        "<a href=\"https://colab.research.google.com/github/anshupandey/Working_with_Large_Language_models/blob/main/WWL_C13A_Deploying_LLM_Application_FastAPI.ipynb\" target=\"_parent\"><img src=\"https://colab.research.google.com/assets/colab-badge.svg\" alt=\"Open In Colab\"/></a>"
      ]
    },
    {
      "cell_type": "markdown",
      "source": [
        "# Product Description as a Web Service\n",
        "\n",
        "* Web Service Framework: FastAPI\n",
        "* LLM: Gemini 1.5 Flasj\n",
        "* Tunneling Tool: NGrok"
      ],
      "metadata": {
        "id": "PIXsWN4EPaFK"
      }
    },
    {
      "cell_type": "code",
      "source": [
        "!pip install fastapi nest-asyncio pyngrok uvicorn google-cloud-aiplatform --quiet"
      ],
      "metadata": {
        "id": "6tF_dlcES9sP"
      },
      "execution_count": 1,
      "outputs": []
    },
    {
      "cell_type": "code",
      "source": [
        "import sys\n",
        "if \"google.colab\" in sys.modules:\n",
        "    from google.colab import auth\n",
        "    auth.authenticate_user()"
      ],
      "metadata": {
        "id": "QTIDalFdOMeX"
      },
      "execution_count": 2,
      "outputs": []
    },
    {
      "cell_type": "code",
      "execution_count": 3,
      "metadata": {
        "id": "P3aw5RqZSMWz"
      },
      "outputs": [],
      "source": [
        "from fastapi import FastAPI, HTTPException\n",
        "from pydantic import BaseModel\n",
        "import vertexai\n",
        "from vertexai.generative_models import GenerationConfig, GenerativeModel\n",
        "\n",
        "PROJECT_ID = \"jrproject-402905\"\n",
        "LOCATION = \"us-central1\"\n",
        "MODEL_ID = \"gemini-1.5-flash-preview-0514\"\n",
        "vertexai.init(project=PROJECT_ID, location=LOCATION)\n",
        "model = GenerativeModel(MODEL_ID)\n",
        "generation_config = GenerationConfig( temperature=0.9, top_k=32,)\n",
        "\n",
        "# Initialize FastAPI client\n",
        "app = FastAPI()\n",
        "\n",
        "# Create class with pydantic BaseModel\n",
        "class SampleRequest(BaseModel):\n",
        "    product_name: str\n",
        "    product_brief: str\n",
        "\n",
        "def get_product_description(product_name,product_brief):\n",
        "  prompt = f\"\"\" For the given below product details, provide a 2 line product description.\n",
        "  Do not add any additional unknown information, just provide the product description.\n",
        "  Product Name: {product_name}\n",
        "  Product Brief: {product_brief} \"\"\"\n",
        "  response = model.generate_content([prompt], generation_config=generation_config,)\n",
        "  return response.text\n",
        "\n",
        "@app.post(\"/trial/\")  # This line decorates 'get_product_description' function as a POST endpoint\n",
        "async def generate(request: SampleRequest):\n",
        "    try:\n",
        "        product_desc = get_product_description(request.product_name,request.product_brief)\n",
        "        return {\"product_description\": product_desc}\n",
        "    except Exception as e:\n",
        "        # Handle exceptions or errors during text generation\n",
        "        raise HTTPException(status_code=500, detail=str(e))"
      ]
    },
    {
      "cell_type": "markdown",
      "source": [
        "# Setting up NGRok\n",
        "https://dashboard.ngrok.com/signup"
      ],
      "metadata": {
        "id": "HjPhK0LjTcxy"
      }
    },
    {
      "cell_type": "code",
      "source": [
        "!ngrok config add-authtoken 2id4ZvjA88kTS4ZDegoD2sRkirR_61gPMN1rcHWkEsajB7c1Z"
      ],
      "metadata": {
        "colab": {
          "base_uri": "https://localhost:8080/"
        },
        "id": "orndzXyrToyw",
        "outputId": "425bf420-b078-4e35-8cfa-679bcbe1f089"
      },
      "execution_count": 4,
      "outputs": [
        {
          "output_type": "stream",
          "name": "stdout",
          "text": [
            "Authtoken saved to configuration file: /root/.config/ngrok/ngrok.yml\n"
          ]
        }
      ]
    },
    {
      "cell_type": "code",
      "source": [
        "import nest_asyncio\n",
        "from pyngrok import ngrok\n",
        "import uvicorn\n",
        "\n",
        "ngrok_tunnel = ngrok.connect(8000)\n",
        "print('Public URL:', ngrok_tunnel.public_url)\n",
        "nest_asyncio.apply()\n",
        "uvicorn.run(app, port=8000)"
      ],
      "metadata": {
        "colab": {
          "base_uri": "https://localhost:8080/"
        },
        "id": "XcgXHSekSuSS",
        "outputId": "06589af3-7d9e-4fc9-980c-580f425598d5"
      },
      "execution_count": null,
      "outputs": [
        {
          "output_type": "stream",
          "name": "stderr",
          "text": [
            "INFO:     Started server process [2231]\n",
            "INFO:     Waiting for application startup.\n",
            "INFO:     Application startup complete.\n",
            "INFO:     Uvicorn running on http://127.0.0.1:8000 (Press CTRL+C to quit)\n"
          ]
        },
        {
          "output_type": "stream",
          "name": "stdout",
          "text": [
            "Public URL: https://759b-34-44-25-163.ngrok-free.app\n",
            "INFO:     35.230.75.87:0 - \"POST /trial HTTP/1.1\" 307 Temporary Redirect\n",
            "INFO:     35.230.75.87:0 - \"POST /trial/ HTTP/1.1\" 200 OK\n"
          ]
        }
      ]
    },
    {
      "cell_type": "code",
      "source": [],
      "metadata": {
        "id": "jOxhkG3lTWbY"
      },
      "execution_count": null,
      "outputs": []
    }
  ]
}