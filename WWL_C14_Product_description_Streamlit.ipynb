{
  "cells": [
    {
      "cell_type": "markdown",
      "metadata": {
        "id": "view-in-github",
        "colab_type": "text"
      },
      "source": [
        "<a href=\"https://colab.research.google.com/github/anshupandey/Working_with_Large_Language_models/blob/main/WWL_C14_Product_description_Streamlit.ipynb\" target=\"_parent\"><img src=\"https://colab.research.google.com/assets/colab-badge.svg\" alt=\"Open In Colab\"/></a>"
      ]
    },
    {
      "cell_type": "markdown",
      "source": [
        "\n",
        "# Deploying Product Description Generation App using Streamlit\n",
        "---\n",
        "\n"
      ],
      "metadata": {
        "id": "kszeP2ZPjG-H"
      }
    },
    {
      "cell_type": "code",
      "execution_count": 1,
      "metadata": {
        "id": "z4mF6go1HMCV",
        "outputId": "a4e3f744-4e34-49e5-8ae9-6b41d4dc7b5b",
        "colab": {
          "base_uri": "https://localhost:8080/"
        }
      },
      "outputs": [
        {
          "output_type": "stream",
          "name": "stdout",
          "text": [
            "\u001b[2K     \u001b[90m━━━━━━━━━━━━━━━━━━━━━━━━━━━━━━━━━━━━━━━━\u001b[0m \u001b[32m8.6/8.6 MB\u001b[0m \u001b[31m19.2 MB/s\u001b[0m eta \u001b[36m0:00:00\u001b[0m\n",
            "\u001b[2K     \u001b[90m━━━━━━━━━━━━━━━━━━━━━━━━━━━━━━━━━━━━━━━━\u001b[0m \u001b[32m61.4/61.4 kB\u001b[0m \u001b[31m3.2 MB/s\u001b[0m eta \u001b[36m0:00:00\u001b[0m\n",
            "\u001b[2K     \u001b[90m━━━━━━━━━━━━━━━━━━━━━━━━━━━━━━━━━━━━━━━━\u001b[0m \u001b[32m207.3/207.3 kB\u001b[0m \u001b[31m9.0 MB/s\u001b[0m eta \u001b[36m0:00:00\u001b[0m\n",
            "\u001b[2K     \u001b[90m━━━━━━━━━━━━━━━━━━━━━━━━━━━━━━━━━━━━━━━━\u001b[0m \u001b[32m6.9/6.9 MB\u001b[0m \u001b[31m60.6 MB/s\u001b[0m eta \u001b[36m0:00:00\u001b[0m\n",
            "\u001b[2K     \u001b[90m━━━━━━━━━━━━━━━━━━━━━━━━━━━━━━━━━━━━━━━━\u001b[0m \u001b[32m83.0/83.0 kB\u001b[0m \u001b[31m3.9 MB/s\u001b[0m eta \u001b[36m0:00:00\u001b[0m\n",
            "\u001b[2K     \u001b[90m━━━━━━━━━━━━━━━━━━━━━━━━━━━━━━━━━━━━━━━━\u001b[0m \u001b[32m4.5/4.5 MB\u001b[0m \u001b[31m33.0 MB/s\u001b[0m eta \u001b[36m0:00:00\u001b[0m\n",
            "\u001b[2K     \u001b[90m━━━━━━━━━━━━━━━━━━━━━━━━━━━━━━━━━━━━━━━━\u001b[0m \u001b[32m62.7/62.7 kB\u001b[0m \u001b[31m4.7 MB/s\u001b[0m eta \u001b[36m0:00:00\u001b[0m\n",
            "\u001b[?25h\u001b[31mERROR: pip's dependency resolver does not currently take into account all the packages that are installed. This behaviour is the source of the following dependency conflicts.\n",
            "imageio 2.31.6 requires pillow<10.1.0,>=8.3.2, but you have pillow 10.3.0 which is incompatible.\u001b[0m\u001b[31m\n",
            "\u001b[0m"
          ]
        }
      ],
      "source": [
        "!pip install streamlit pyngrok together --quiet"
      ]
    },
    {
      "cell_type": "code",
      "execution_count": 2,
      "metadata": {
        "colab": {
          "base_uri": "https://localhost:8080/"
        },
        "id": "gNNpeutWHqeH",
        "outputId": "a31e3716-7919-4121-cc79-54e001591464"
      },
      "outputs": [
        {
          "output_type": "stream",
          "name": "stdout",
          "text": [
            "Writing app.py\n"
          ]
        }
      ],
      "source": [
        "%%writefile app.py\n",
        "import streamlit as st\n",
        "import os\n",
        "from together import Together\n",
        "import time\n",
        "os.environ['TOGETHER_API_KEY'] = \"xxxxxxxxxxxxxxxxx\"\n",
        "\n",
        "client = Together()\n",
        "\n",
        "def get_response(product_name, product_brief):\n",
        "  prompt = f\"\"\"\n",
        "  for the give product name and brief description, Generate a 2 line product description.\n",
        "  DO not add any additional information on your own which is not present in the information provided.\n",
        "  Write the brief description so that its easy to read and interpret,  Add call to action at the end.\n",
        "  Product Name: {product_name}\n",
        "  Brief Description: {product_brief}\n",
        "  \"\"\"\n",
        "  response = client.chat.completions.create(\n",
        "    model=\"meta-llama/Llama-3-8b-chat-hf\",\n",
        "    messages=[{\"role\": \"user\", \"content\": prompt}],)\n",
        "  return response.choices[0].message.content\n",
        "\n",
        "# Set up your web app\n",
        "st.title('Product Description Generator')\n",
        "st.header('Generate Product Description')\n",
        "\n",
        "product_name = st.text_area('Product Name:', height=50)\n",
        "product_brief = st.text_area('Product Brief:', height=100)\n",
        "\n",
        "if st.button('Generate Description'):\n",
        "    with st.spinner('Generating description...'):\n",
        "        response = get_response(product_name, product_brief)\n",
        "        st.write(response)\n",
        "\n",
        "\n",
        "st.sidebar.markdown(\"## Guide\")\n",
        "st.sidebar.info(\"This tool uses Meta LLama 3 to generate Product Description\")\n",
        "st.sidebar.markdown(\"### Examples\")\n",
        "st.sidebar.write(\"1. sample.\")\n",
        "st.sidebar.write(\"2. Try different settings to see how the description changes.\")\n"
      ]
    },
    {
      "cell_type": "markdown",
      "source": [
        "https://dashboard.ngrok.com/get-started/your-authtoken"
      ],
      "metadata": {
        "id": "eioFDcE_dtOx"
      }
    },
    {
      "cell_type": "code",
      "execution_count": 5,
      "metadata": {
        "colab": {
          "base_uri": "https://localhost:8080/"
        },
        "id": "ZJFU-basHruN",
        "outputId": "678f0424-1881-41ec-cf36-d92c20fd51c7"
      },
      "outputs": [
        {
          "output_type": "stream",
          "name": "stdout",
          "text": [
            "Authtoken saved to configuration file: /root/.config/ngrok/ngrok.yml\n"
          ]
        }
      ],
      "source": [
        "!ngrok config add-authtoken xxxxxxxxxxxxxxxxxx"
      ]
    },
    {
      "cell_type": "code",
      "execution_count": null,
      "metadata": {
        "colab": {
          "base_uri": "https://localhost:8080/"
        },
        "id": "mQCain-sHt11",
        "outputId": "20717997-c32c-4011-d770-5322ad470045"
      },
      "outputs": [
        {
          "output_type": "stream",
          "name": "stdout",
          "text": [
            "Public URL: https://2b8e-35-243-139-244.ngrok-free.app\n",
            "\u001b[K\u001b[?25hnpx: installed 22 in 3.87s\n",
            "your url is: https://brave-dolls-drop.loca.lt\n"
          ]
        }
      ],
      "source": [
        "import nest_asyncio\n",
        "from pyngrok import ngrok\n",
        "\n",
        "ngrok_tunnel = ngrok.connect(8501)\n",
        "print('Public URL:', ngrok_tunnel.public_url)\n",
        "nest_asyncio.apply()\n",
        "!streamlit run app.py &>./logs.txt & npx localtunnel --port 8501"
      ]
    },
    {
      "cell_type": "code",
      "execution_count": null,
      "metadata": {
        "id": "Yil1CHPads10"
      },
      "outputs": [],
      "source": []
    }
  ],
  "metadata": {
    "colab": {
      "provenance": [],
      "include_colab_link": true
    },
    "kernelspec": {
      "display_name": "Python 3",
      "name": "python3"
    },
    "language_info": {
      "name": "python"
    }
  },
  "nbformat": 4,
  "nbformat_minor": 0
}