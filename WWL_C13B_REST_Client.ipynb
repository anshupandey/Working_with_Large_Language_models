{
  "nbformat": 4,
  "nbformat_minor": 0,
  "metadata": {
    "colab": {
      "provenance": [],
      "authorship_tag": "ABX9TyP/yj1HsypuYtgXQY4ksZW+",
      "include_colab_link": true
    },
    "kernelspec": {
      "name": "python3",
      "display_name": "Python 3"
    },
    "language_info": {
      "name": "python"
    }
  },
  "cells": [
    {
      "cell_type": "markdown",
      "metadata": {
        "id": "view-in-github",
        "colab_type": "text"
      },
      "source": [
        "<a href=\"https://colab.research.google.com/github/anshupandey/Working_with_Large_Language_models/blob/main/WWL_C13B_REST_Client.ipynb\" target=\"_parent\"><img src=\"https://colab.research.google.com/assets/colab-badge.svg\" alt=\"Open In Colab\"/></a>"
      ]
    },
    {
      "cell_type": "code",
      "execution_count": null,
      "metadata": {
        "colab": {
          "base_uri": "https://localhost:8080/"
        },
        "id": "v_BQRKhJT9DV",
        "outputId": "81dbfbd2-d9b5-468f-daa7-1c6ec965ba8c"
      },
      "outputs": [
        {
          "output_type": "stream",
          "name": "stdout",
          "text": [
            "200\n"
          ]
        }
      ],
      "source": [
        "url = \"https://759b-34-44-25-163.ngrok-free.app/trial\"\n",
        "import requests\n",
        "import json\n",
        "\n",
        "data = json.dumps({\"product_name\":\"Water Bottle\",\n",
        "                \"product_brief\":\"material: glass, 200 ML, sleek simple design, cover, wooden cap\"})\n",
        "response = requests.post(url,data=data)\n",
        "print(response.status_code)"
      ]
    },
    {
      "cell_type": "code",
      "source": [
        "response.text"
      ],
      "metadata": {
        "colab": {
          "base_uri": "https://localhost:8080/",
          "height": 52
        },
        "id": "Z5A6261OUUao",
        "outputId": "ca0a0a7e-6696-4aa5-fc2c-2f73845aa1e5"
      },
      "execution_count": null,
      "outputs": [
        {
          "output_type": "execute_result",
          "data": {
            "text/plain": [
              "'{\"product_description\":\"Stay hydrated in style with this sleek glass water bottle. Featuring a wooden cap and a protective cover, it\\'s perfect for on-the-go hydration. \\\\n\"}'"
            ],
            "application/vnd.google.colaboratory.intrinsic+json": {
              "type": "string"
            }
          },
          "metadata": {},
          "execution_count": 9
        }
      ]
    },
    {
      "cell_type": "code",
      "source": [
        "output = json.loads(response.text)\n",
        "print(output['product_description'])"
      ],
      "metadata": {
        "id": "4108frTrUas4",
        "colab": {
          "base_uri": "https://localhost:8080/"
        },
        "outputId": "db806f03-c5d2-4115-d39a-0ee026d4c7c0"
      },
      "execution_count": null,
      "outputs": [
        {
          "output_type": "stream",
          "name": "stdout",
          "text": [
            "Stay hydrated in style with this sleek glass water bottle. Featuring a wooden cap and a protective cover, it's perfect for on-the-go hydration. \n",
            "\n"
          ]
        }
      ]
    },
    {
      "cell_type": "code",
      "source": [],
      "metadata": {
        "id": "657uWblBN4XP"
      },
      "execution_count": null,
      "outputs": []
    }
  ]
}