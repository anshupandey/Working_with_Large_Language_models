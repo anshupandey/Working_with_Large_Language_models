{
  "nbformat": 4,
  "nbformat_minor": 0,
  "metadata": {
    "colab": {
      "provenance": [],
      "authorship_tag": "ABX9TyOd9k4fJ/FRh7sRk7gm9Cqg",
      "include_colab_link": true
    },
    "kernelspec": {
      "name": "python3",
      "display_name": "Python 3"
    },
    "language_info": {
      "name": "python"
    }
  },
  "cells": [
    {
      "cell_type": "markdown",
      "metadata": {
        "id": "view-in-github",
        "colab_type": "text"
      },
      "source": [
        "<a href=\"https://colab.research.google.com/github/anshupandey/Working_with_Large_Language_models/blob/main/WWL_C4_Word2vec_model.ipynb\" target=\"_parent\"><img src=\"https://colab.research.google.com/assets/colab-badge.svg\" alt=\"Open In Colab\"/></a>"
      ]
    },
    {
      "cell_type": "markdown",
      "source": [
        "# Exploring pretrained Word2vec model: Glove"
      ],
      "metadata": {
        "id": "913yS6t7qTGk"
      }
    },
    {
      "cell_type": "code",
      "source": [
        "import gensim.downloader as api\n",
        "\n",
        "# Load the GloVe model from Gensim-data repository\n",
        "# Here we use 'glove-wiki-gigaword-50' as an example. Other dimensions/models are available as well.\n",
        "glove_model = api.load('glove-wiki-gigaword-50')\n",
        "word = 'python'\n",
        "word_vector = glove_model[word]\n",
        "print(word_vector.shape)"
      ],
      "metadata": {
        "colab": {
          "base_uri": "https://localhost:8080/"
        },
        "id": "udAEGaj1khqf",
        "outputId": "9eb6f9a9-014e-4589-cb8b-9286f721a132"
      },
      "execution_count": null,
      "outputs": [
        {
          "output_type": "stream",
          "name": "stdout",
          "text": [
            "[==================================================] 100.0% 66.0/66.0MB downloaded\n",
            "(50,)\n"
          ]
        }
      ]
    },
    {
      "cell_type": "code",
      "source": [
        "v1 = glove_model[\"king\"]\n",
        "v2 = glove_model['ruler']\n",
        "v3 = glove_model['table']"
      ],
      "metadata": {
        "id": "SY34ZTvvna63"
      },
      "execution_count": null,
      "outputs": []
    },
    {
      "cell_type": "code",
      "source": [
        "# prompt: python code to calculate similarity between two vectors\n",
        "\n",
        "import numpy as np\n",
        "similarity = np.dot(v1, v2) / (np.linalg.norm(v1) * np.linalg.norm(v2))\n",
        "print(similarity)\n"
      ],
      "metadata": {
        "colab": {
          "base_uri": "https://localhost:8080/"
        },
        "id": "NZ5R4C_Jna3c",
        "outputId": "09970843-b73c-4b0b-de51-95df174850ae"
      },
      "execution_count": null,
      "outputs": [
        {
          "output_type": "stream",
          "name": "stdout",
          "text": [
            "0.74342537\n"
          ]
        }
      ]
    },
    {
      "cell_type": "code",
      "source": [
        "similarity = np.dot(v1, v3) / (np.linalg.norm(v1) * np.linalg.norm(v2))\n",
        "print(similarity)"
      ],
      "metadata": {
        "colab": {
          "base_uri": "https://localhost:8080/"
        },
        "id": "tvzDkg2wnbk1",
        "outputId": "011b22ed-f086-4e6d-a09e-d7e96954a9e3"
      },
      "execution_count": null,
      "outputs": [
        {
          "output_type": "stream",
          "name": "stdout",
          "text": [
            "0.26058447\n"
          ]
        }
      ]
    },
    {
      "cell_type": "code",
      "source": [
        "glove_model.most_similar(\"stocks\")"
      ],
      "metadata": {
        "colab": {
          "base_uri": "https://localhost:8080/"
        },
        "id": "ndtWkINIn1h-",
        "outputId": "07273cd4-ac50-45a7-aff0-46a58a5bbaed"
      },
      "execution_count": null,
      "outputs": [
        {
          "output_type": "execute_result",
          "data": {
            "text/plain": [
              "[('stock', 0.8653818368911743),\n",
              " ('markets', 0.8522835969924927),\n",
              " ('prices', 0.8431004285812378),\n",
              " ('market', 0.8400351405143738),\n",
              " ('traders', 0.8257467150688171),\n",
              " ('trading', 0.8112872838973999),\n",
              " ('investors', 0.8083530068397522),\n",
              " ('indexes', 0.7902355194091797),\n",
              " ('dealers', 0.7884277701377869),\n",
              " ('shares', 0.7868536114692688)]"
            ]
          },
          "metadata": {},
          "execution_count": 24
        }
      ]
    },
    {
      "cell_type": "code",
      "source": [
        "glove_model.most_similar(\"trading\")"
      ],
      "metadata": {
        "colab": {
          "base_uri": "https://localhost:8080/"
        },
        "id": "yN0gWdLDoC5b",
        "outputId": "00016d0c-1ba3-443e-a154-01c1989faee7"
      },
      "execution_count": null,
      "outputs": [
        {
          "output_type": "execute_result",
          "data": {
            "text/plain": [
              "[('stock', 0.9012669920921326),\n",
              " ('exchange', 0.898104190826416),\n",
              " ('futures', 0.8487032651901245),\n",
              " ('trades', 0.8236047029495239),\n",
              " ('traded', 0.8166490793228149),\n",
              " ('stocks', 0.8112873435020447),\n",
              " ('market', 0.8051413893699646),\n",
              " ('prices', 0.7966799139976501),\n",
              " ('closing', 0.7950035929679871),\n",
              " ('closed', 0.7914804220199585)]"
            ]
          },
          "metadata": {},
          "execution_count": 22
        }
      ]
    },
    {
      "cell_type": "code",
      "source": [
        "glove_model.most_similar(\"amazing\")"
      ],
      "metadata": {
        "colab": {
          "base_uri": "https://localhost:8080/"
        },
        "id": "VPxva6PfoFIz",
        "outputId": "b81d3766-7f02-4c4c-a148-39fb91554b25"
      },
      "execution_count": null,
      "outputs": [
        {
          "output_type": "execute_result",
          "data": {
            "text/plain": [
              "[('incredible', 0.9189565181732178),\n",
              " ('fantastic', 0.8799790143966675),\n",
              " ('awesome', 0.8620665669441223),\n",
              " ('wonderful', 0.8537988662719727),\n",
              " ('terrific', 0.8482187390327454),\n",
              " ('marvelous', 0.8439217805862427),\n",
              " ('astonishing', 0.8103041052818298),\n",
              " ('remarkable', 0.8091045022010803),\n",
              " ('exciting', 0.79411780834198),\n",
              " ('unbelievable', 0.7916541695594788)]"
            ]
          },
          "metadata": {},
          "execution_count": 25
        }
      ]
    }
  ]
}