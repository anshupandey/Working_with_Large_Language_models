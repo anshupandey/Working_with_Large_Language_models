{
  "nbformat": 4,
  "nbformat_minor": 0,
  "metadata": {
    "colab": {
      "provenance": [],
      "authorship_tag": "ABX9TyO5GRMGoPNc4152fkn393Bc",
      "include_colab_link": true
    },
    "kernelspec": {
      "name": "python3",
      "display_name": "Python 3"
    },
    "language_info": {
      "name": "python"
    }
  },
  "cells": [
    {
      "cell_type": "markdown",
      "metadata": {
        "id": "view-in-github",
        "colab_type": "text"
      },
      "source": [
        "<a href=\"https://colab.research.google.com/github/anshupandey/Working_with_Large_Language_models/blob/main/WWL_C12B_REST_Client.ipynb\" target=\"_parent\"><img src=\"https://colab.research.google.com/assets/colab-badge.svg\" alt=\"Open In Colab\"/></a>"
      ]
    },
    {
      "cell_type": "code",
      "execution_count": 7,
      "metadata": {
        "colab": {
          "base_uri": "https://localhost:8080/"
        },
        "id": "v_BQRKhJT9DV",
        "outputId": "1184fed0-e1be-4d7c-ee52-7537e250dc59"
      },
      "outputs": [
        {
          "output_type": "stream",
          "name": "stdout",
          "text": [
            "{\"translated_text\":\"Hi! It's nice to meet you. Is there something I can help you with or would you like to chat?\"}\n"
          ]
        }
      ],
      "source": [
        "url = \"https:xxxxxxxxxxxxxxxxxxxxxxxxx/trial\"\n",
        "import requests\n",
        "import json\n",
        "response = requests.post(url,data=json.dumps({\"input_str\":\"hi\"}))\n",
        "print(response.text)"
      ]
    },
    {
      "cell_type": "code",
      "source": [
        "response.status_code"
      ],
      "metadata": {
        "colab": {
          "base_uri": "https://localhost:8080/"
        },
        "id": "Z5A6261OUUao",
        "outputId": "bc1eadee-5a29-4f68-a1a6-e6b9894ccce3"
      },
      "execution_count": 8,
      "outputs": [
        {
          "output_type": "execute_result",
          "data": {
            "text/plain": [
              "200"
            ]
          },
          "metadata": {},
          "execution_count": 8
        }
      ]
    },
    {
      "cell_type": "code",
      "source": [],
      "metadata": {
        "id": "4108frTrUas4"
      },
      "execution_count": null,
      "outputs": []
    }
  ]
}