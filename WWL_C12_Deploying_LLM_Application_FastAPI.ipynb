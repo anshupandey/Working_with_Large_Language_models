{
  "nbformat": 4,
  "nbformat_minor": 0,
  "metadata": {
    "colab": {
      "provenance": [],
      "authorship_tag": "ABX9TyOH2dy7LzU0vtONOXCpk5tr",
      "include_colab_link": true
    },
    "kernelspec": {
      "name": "python3",
      "display_name": "Python 3"
    },
    "language_info": {
      "name": "python"
    }
  },
  "cells": [
    {
      "cell_type": "markdown",
      "metadata": {
        "id": "view-in-github",
        "colab_type": "text"
      },
      "source": [
        "<a href=\"https://colab.research.google.com/github/anshupandey/Working_with_Large_Language_models/blob/main/WWL_C12_Deploying_LLM_Application_FastAPI.ipynb\" target=\"_parent\"><img src=\"https://colab.research.google.com/assets/colab-badge.svg\" alt=\"Open In Colab\"/></a>"
      ]
    },
    {
      "cell_type": "code",
      "source": [
        "!pip install fastapi nest-asyncio pyngrok uvicorn together --quiet"
      ],
      "metadata": {
        "colab": {
          "base_uri": "https://localhost:8080/"
        },
        "id": "6tF_dlcES9sP",
        "outputId": "63238314-26a7-4be0-bedc-4b2c127fece3"
      },
      "execution_count": 4,
      "outputs": [
        {
          "output_type": "stream",
          "name": "stdout",
          "text": [
            "\u001b[2K     \u001b[90m━━━━━━━━━━━━━━━━━━━━━━━━━━━━━━━━━━━━━━━━\u001b[0m \u001b[32m61.4/61.4 kB\u001b[0m \u001b[31m496.2 kB/s\u001b[0m eta \u001b[36m0:00:00\u001b[0m\n",
            "\u001b[2K     \u001b[90m━━━━━━━━━━━━━━━━━━━━━━━━━━━━━━━━━━━━━━━━\u001b[0m \u001b[32m4.5/4.5 MB\u001b[0m \u001b[31m28.5 MB/s\u001b[0m eta \u001b[36m0:00:00\u001b[0m\n",
            "\u001b[?25h\u001b[31mERROR: pip's dependency resolver does not currently take into account all the packages that are installed. This behaviour is the source of the following dependency conflicts.\n",
            "imageio 2.31.6 requires pillow<10.1.0,>=8.3.2, but you have pillow 10.3.0 which is incompatible.\u001b[0m\u001b[31m\n",
            "\u001b[0m"
          ]
        }
      ]
    },
    {
      "cell_type": "code",
      "execution_count": 1,
      "metadata": {
        "id": "P3aw5RqZSMWz"
      },
      "outputs": [],
      "source": [
        "from fastapi import FastAPI, HTTPException\n",
        "from pydantic import BaseModel\n",
        "import os\n",
        "\n",
        "\n",
        "os.environ[\"TOGETHER_API_KEY\"] = \"xxxxxxxxxxxxxxxxx\"\n",
        "\n",
        "import os\n",
        "from together import Together\n",
        "\n",
        "client = Together()\n",
        "\n",
        "\n",
        "\n",
        "# Initialize FastAPI client\n",
        "app = FastAPI()\n",
        "\n",
        "\n",
        "# Create class with pydantic BaseModel\n",
        "class TranslationRequest(BaseModel):\n",
        "    input_str: str\n",
        "\n",
        "\n",
        "def translate_text(input_str):\n",
        "  response = client.chat.completions.create(\n",
        "      model=\"meta-llama/Llama-3-8b-chat-hf\",\n",
        "      messages=[{\"role\": \"user\", \"content\": input_str}],)\n",
        "  return response.choices[0].message.content\n",
        "\n",
        "\n",
        "@app.post(\"/trial/\")  # This line decorates 'translate' as a POST endpoint\n",
        "async def translate(request: TranslationRequest):\n",
        "    try:\n",
        "        # Call your translation function\n",
        "        translated_text = translate_text(request.input_str)\n",
        "        return {\"translated_text\": translated_text}\n",
        "    except Exception as e:\n",
        "        # Handle exceptions or errors during translation\n",
        "        raise HTTPException(status_code=500, detail=str(e))"
      ]
    },
    {
      "cell_type": "markdown",
      "source": [
        "# Setting up NGRok\n",
        "https://dashboard.ngrok.com/signup"
      ],
      "metadata": {
        "id": "HjPhK0LjTcxy"
      }
    },
    {
      "cell_type": "code",
      "source": [
        "!ngrok config add-authtoken xxxxxxxxxxxx"
      ],
      "metadata": {
        "colab": {
          "base_uri": "https://localhost:8080/"
        },
        "id": "orndzXyrToyw",
        "outputId": "148d86e1-8fbd-405d-8439-2cc9ccd58440"
      },
      "execution_count": 2,
      "outputs": [
        {
          "output_type": "stream",
          "name": "stdout",
          "text": [
            "Authtoken saved to configuration file: /root/.config/ngrok/ngrok.yml\n"
          ]
        }
      ]
    },
    {
      "cell_type": "code",
      "source": [
        "import nest_asyncio\n",
        "from pyngrok import ngrok\n",
        "import uvicorn\n",
        "\n",
        "ngrok_tunnel = ngrok.connect(8000)\n",
        "print('Public URL:', ngrok_tunnel.public_url)\n",
        "nest_asyncio.apply()\n",
        "uvicorn.run(app, port=8000)"
      ],
      "metadata": {
        "colab": {
          "base_uri": "https://localhost:8080/"
        },
        "id": "XcgXHSekSuSS",
        "outputId": "1c99cea1-2255-4734-f230-6ff1f566576c"
      },
      "execution_count": null,
      "outputs": [
        {
          "output_type": "stream",
          "name": "stderr",
          "text": [
            "INFO:     Started server process [2478]\n",
            "INFO:     Waiting for application startup.\n",
            "INFO:     Application startup complete.\n",
            "INFO:     Uvicorn running on http://127.0.0.1:8000 (Press CTRL+C to quit)\n"
          ]
        },
        {
          "output_type": "stream",
          "name": "stdout",
          "text": [
            "Public URL: https://cb8f-35-221-35-132.ngrok-free.app\n",
            "INFO:     34.28.166.69:0 - \"POST /trial HTTP/1.1\" 307 Temporary Redirect\n",
            "INFO:     34.28.166.69:0 - \"POST /trial/ HTTP/1.1\" 200 OK\n"
          ]
        }
      ]
    },
    {
      "cell_type": "code",
      "source": [],
      "metadata": {
        "id": "jOxhkG3lTWbY"
      },
      "execution_count": null,
      "outputs": []
    }
  ]
}