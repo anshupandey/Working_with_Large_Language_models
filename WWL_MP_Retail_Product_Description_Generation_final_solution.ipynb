{
  "nbformat": 4,
  "nbformat_minor": 0,
  "metadata": {
    "colab": {
      "provenance": [],
      "authorship_tag": "ABX9TyPkvcbLa/uL0PI0mccEZXhV",
      "include_colab_link": true
    },
    "kernelspec": {
      "name": "python3",
      "display_name": "Python 3"
    },
    "language_info": {
      "name": "python"
    }
  },
  "cells": [
    {
      "cell_type": "markdown",
      "metadata": {
        "id": "view-in-github",
        "colab_type": "text"
      },
      "source": [
        "<a href=\"https://colab.research.google.com/github/anshupandey/Working_with_Large_Language_models/blob/main/WWL_MP_Retail_Product_Description_Generation_final_solution.ipynb\" target=\"_parent\"><img src=\"https://colab.research.google.com/assets/colab-badge.svg\" alt=\"Open In Colab\"/></a>"
      ]
    },
    {
      "cell_type": "markdown",
      "source": [
        "# Industry Background\n",
        "\n",
        "## Company Name: TechRetail Solutions\n",
        "\n",
        "**TechRetail Solutions** is a leading e-commerce platform that connects vendors with customers worldwide. The company offers a wide range of products across various categories, including electronics, fashion, home appliances, and more. TechRetail Solutions is known for its user-friendly interface, extensive product catalog, and commitment to providing a seamless shopping experience.\n",
        "\n",
        "# Problem Statement\n",
        "\n",
        "One of the critical challenges faced by TechRetail Solutions is ensuring that vendors provide high-quality, clear, and accurate product descriptions. Many vendors struggle to write descriptions that meet the platform's standards and format requirements. This inconsistency leads to a suboptimal user experience, as poorly written descriptions can confuse customers, reduce trust, and ultimately impact sales.\n",
        "\n",
        "The lack of standardized, engaging, and informative product descriptions also hampers the platform's ability to showcase products effectively. To enhance user experience and improve sales, TechRetail Solutions needs a solution that can help vendors generate high-quality product descriptions effortlessly.\n",
        "\n",
        "# Solution Approach\n",
        "\n",
        "To address this challenge, TechRetail Solutions aims to leverage Large Language Models (LLMs) to automate the generation of product descriptions. By using advanced LLMs, the company can ensure that product descriptions are not only accurate and informative but also engaging and consistent with the platform's standards.\n",
        "\n",
        "The solution involves evaluating different LLMs to identify the most suitable model for generating product descriptions. The evaluation will be based on key metrics such as **BLEU**, **ROUGE**, human evaluation, latency, and resource usage. By selecting the best-performing LLM, TechRetail Solutions can provide vendors with a tool that generates high-quality product descriptions, enhancing the overall user experience and boosting sales.\n",
        "\n",
        "# Dataset Overview\n",
        "\n",
        "The dataset for evaluating LLMs consists of a diverse set of products across various categories. Each product scenario includes the product name, a brief description, and two high-quality reference descriptions. This dataset will be used to assess the performance of different LLMs based on their ability to generate product descriptions that closely match the reference descriptions.\n",
        "\n",
        "## Example Dataset:\n",
        "\n",
        "**Product 1: Wireless Earbuds**\n",
        "\n",
        "- **Brief Description:** High-fidelity wireless earbuds with noise-canceling technology and long battery life.\n",
        "\n",
        "- **Reference Description 1:** \"Experience the ultimate in wireless freedom with our high-fidelity earbuds. Featuring noise-canceling technology and up to 20 hours of battery life, these earbuds are perfect for music lovers on the go.\"\n",
        "\n",
        "- **Reference Description 2:** \"Our wireless earbuds offer superior sound quality and comfort. With easy touch controls and a sleek design, enjoy your favorite tunes anytime, anywhere.\"\n"
      ],
      "metadata": {
        "id": "kSVgTWPBcZnZ"
      }
    },
    {
      "cell_type": "markdown",
      "source": [
        "Dataset Link: https://github.com/anshupandey/Working_with_Large_Language_models/blob/main/retail_product_description_dataset.json"
      ],
      "metadata": {
        "id": "wdqF-ZvFccV4"
      }
    },
    {
      "cell_type": "code",
      "execution_count": null,
      "metadata": {
        "id": "Z6EkW0w5cYcY"
      },
      "outputs": [],
      "source": []
    },
    {
      "cell_type": "markdown",
      "source": [
        "## Solution: Evaluating LLMs for Retail Product Description Generation\n",
        "\n",
        "### Objective\n",
        "Select the best LLM for generating high-quality, engaging, and accurate product descriptions.\n",
        "\n",
        "### Metrics\n",
        "- **BLEU**: Aim for a BLEU score above 0.3.\n",
        "- **ROUGE**: Aim for a ROUGE-L score above 0.5.\n",
        "- **Perplexity**: Average score less than 20.\n",
        "- **Latency**: Less than 2 seconds per description.\n",
        "- **Model Size and Resource Usage**: Fit within available computational resources.\n",
        "\n",
        "### Steps\n",
        "\n",
        "### 1. Define Evaluation Criteria\n",
        "- BLEU score\n",
        "- ROUGE score\n",
        "- Perplexity Score\n",
        "- Latency\n",
        "- Model Size and Resource Usage\n",
        "\n",
        "### 2. Benchmarking\n",
        "- Select candidate LLMs. (Gemini 1.5 Flash, PaLM 2, GPT 35 Turbo)\n",
        "- Load the benchmark dataset.\n",
        "\n",
        "\n",
        "### 4. Evaluate LLMs\n",
        "1. **Generate Descriptions**\n",
        "   - Use each LLM to generate descriptions.\n",
        "2. **Calculate Metrics**\n",
        "   - BLEU Score\n",
        "   - ROUGE Score\n",
        "   - Perplexity Score\n",
        "3. **Analyze Results**\n",
        "   - Compare metrics.\n",
        "   - Identify the best-performing model.\n",
        "\n"
      ],
      "metadata": {
        "id": "Si_yZWVHcoNn"
      }
    },
    {
      "cell_type": "markdown",
      "source": [
        "## Environment Setup"
      ],
      "metadata": {
        "id": "1vgF_EFeF4gP"
      }
    },
    {
      "cell_type": "code",
      "source": [
        "!pip install together rouge-score --quiet"
      ],
      "metadata": {
        "colab": {
          "base_uri": "https://localhost:8080/"
        },
        "id": "igjnCi1wF65b",
        "outputId": "5fd5e0fd-0c02-4566-ab5c-9de347573305"
      },
      "execution_count": 17,
      "outputs": [
        {
          "output_type": "stream",
          "name": "stdout",
          "text": [
            "  Preparing metadata (setup.py) ... \u001b[?25l\u001b[?25hdone\n",
            "  Building wheel for rouge-score (setup.py) ... \u001b[?25l\u001b[?25hdone\n"
          ]
        }
      ]
    },
    {
      "cell_type": "code",
      "source": [
        "import os\n",
        "os.environ[\"TOGETHER_API_KEY\"] = \"xxxxxxxxxxxxxxxxxxxx\""
      ],
      "metadata": {
        "id": "eAPUT9KTGDs4"
      },
      "execution_count": 11,
      "outputs": []
    },
    {
      "cell_type": "code",
      "source": [
        "import sys\n",
        "if \"google.colab\" in sys.modules:\n",
        "    from google.colab import auth\n",
        "    auth.authenticate_user()"
      ],
      "metadata": {
        "id": "O-d66UwhGL-z"
      },
      "execution_count": 10,
      "outputs": []
    },
    {
      "cell_type": "markdown",
      "source": [
        "## Load Dta"
      ],
      "metadata": {
        "id": "aAo-9KtKJ4Qw"
      }
    },
    {
      "cell_type": "code",
      "source": [
        "url = \"https://raw.githubusercontent.com/anshupandey/Working_with_Large_Language_models/main/retail_product_description_dataset.json\""
      ],
      "metadata": {
        "id": "kSUfGSaF-lMd"
      },
      "execution_count": 5,
      "outputs": []
    },
    {
      "cell_type": "code",
      "source": [
        "import pandas as pd\n",
        "# load data\n",
        "df = pd.read_json(url)\n",
        "df.shape"
      ],
      "metadata": {
        "id": "1bFXH6sqdM8f",
        "colab": {
          "base_uri": "https://localhost:8080/"
        },
        "outputId": "36d983ef-9c6e-4541-9960-9cb274cb624d"
      },
      "execution_count": 6,
      "outputs": [
        {
          "output_type": "execute_result",
          "data": {
            "text/plain": [
              "(10, 3)"
            ]
          },
          "metadata": {},
          "execution_count": 6
        }
      ]
    },
    {
      "cell_type": "code",
      "source": [
        "df.head()"
      ],
      "metadata": {
        "colab": {
          "base_uri": "https://localhost:8080/",
          "height": 206
        },
        "id": "YckuCG94-qUV",
        "outputId": "50c1f4bd-24ee-4cda-9df2-8adb818564c1"
      },
      "execution_count": 7,
      "outputs": [
        {
          "output_type": "execute_result",
          "data": {
            "text/plain": [
              "               name                                  brief_description  \\\n",
              "0  Wireless Earbuds  High-fidelity wireless earbuds with noise-canc...   \n",
              "1        Smartwatch  A stylish smartwatch with fitness tracking and...   \n",
              "2   Electric Kettle  A 1.7-liter electric kettle with rapid boil te...   \n",
              "3     Gaming Laptop  A high-performance gaming laptop with a powerf...   \n",
              "4          Yoga Mat  A non-slip, eco-friendly yoga mat with cushion...   \n",
              "\n",
              "                              reference_descriptions  \n",
              "0  Experience the ultimate in wireless freedom wi...  \n",
              "1  Stay connected and track your fitness goals wi...  \n",
              "2  Boil water quickly and safely with our 1.7-lit...  \n",
              "3  Unleash your gaming potential with our high-pe...  \n",
              "4  Enhance your yoga practice with our eco-friend...  "
            ],
            "text/html": [
              "\n",
              "  <div id=\"df-e42a3fdf-d806-4cb5-b114-2388eee0cab6\" class=\"colab-df-container\">\n",
              "    <div>\n",
              "<style scoped>\n",
              "    .dataframe tbody tr th:only-of-type {\n",
              "        vertical-align: middle;\n",
              "    }\n",
              "\n",
              "    .dataframe tbody tr th {\n",
              "        vertical-align: top;\n",
              "    }\n",
              "\n",
              "    .dataframe thead th {\n",
              "        text-align: right;\n",
              "    }\n",
              "</style>\n",
              "<table border=\"1\" class=\"dataframe\">\n",
              "  <thead>\n",
              "    <tr style=\"text-align: right;\">\n",
              "      <th></th>\n",
              "      <th>name</th>\n",
              "      <th>brief_description</th>\n",
              "      <th>reference_descriptions</th>\n",
              "    </tr>\n",
              "  </thead>\n",
              "  <tbody>\n",
              "    <tr>\n",
              "      <th>0</th>\n",
              "      <td>Wireless Earbuds</td>\n",
              "      <td>High-fidelity wireless earbuds with noise-canc...</td>\n",
              "      <td>Experience the ultimate in wireless freedom wi...</td>\n",
              "    </tr>\n",
              "    <tr>\n",
              "      <th>1</th>\n",
              "      <td>Smartwatch</td>\n",
              "      <td>A stylish smartwatch with fitness tracking and...</td>\n",
              "      <td>Stay connected and track your fitness goals wi...</td>\n",
              "    </tr>\n",
              "    <tr>\n",
              "      <th>2</th>\n",
              "      <td>Electric Kettle</td>\n",
              "      <td>A 1.7-liter electric kettle with rapid boil te...</td>\n",
              "      <td>Boil water quickly and safely with our 1.7-lit...</td>\n",
              "    </tr>\n",
              "    <tr>\n",
              "      <th>3</th>\n",
              "      <td>Gaming Laptop</td>\n",
              "      <td>A high-performance gaming laptop with a powerf...</td>\n",
              "      <td>Unleash your gaming potential with our high-pe...</td>\n",
              "    </tr>\n",
              "    <tr>\n",
              "      <th>4</th>\n",
              "      <td>Yoga Mat</td>\n",
              "      <td>A non-slip, eco-friendly yoga mat with cushion...</td>\n",
              "      <td>Enhance your yoga practice with our eco-friend...</td>\n",
              "    </tr>\n",
              "  </tbody>\n",
              "</table>\n",
              "</div>\n",
              "    <div class=\"colab-df-buttons\">\n",
              "\n",
              "  <div class=\"colab-df-container\">\n",
              "    <button class=\"colab-df-convert\" onclick=\"convertToInteractive('df-e42a3fdf-d806-4cb5-b114-2388eee0cab6')\"\n",
              "            title=\"Convert this dataframe to an interactive table.\"\n",
              "            style=\"display:none;\">\n",
              "\n",
              "  <svg xmlns=\"http://www.w3.org/2000/svg\" height=\"24px\" viewBox=\"0 -960 960 960\">\n",
              "    <path d=\"M120-120v-720h720v720H120Zm60-500h600v-160H180v160Zm220 220h160v-160H400v160Zm0 220h160v-160H400v160ZM180-400h160v-160H180v160Zm440 0h160v-160H620v160ZM180-180h160v-160H180v160Zm440 0h160v-160H620v160Z\"/>\n",
              "  </svg>\n",
              "    </button>\n",
              "\n",
              "  <style>\n",
              "    .colab-df-container {\n",
              "      display:flex;\n",
              "      gap: 12px;\n",
              "    }\n",
              "\n",
              "    .colab-df-convert {\n",
              "      background-color: #E8F0FE;\n",
              "      border: none;\n",
              "      border-radius: 50%;\n",
              "      cursor: pointer;\n",
              "      display: none;\n",
              "      fill: #1967D2;\n",
              "      height: 32px;\n",
              "      padding: 0 0 0 0;\n",
              "      width: 32px;\n",
              "    }\n",
              "\n",
              "    .colab-df-convert:hover {\n",
              "      background-color: #E2EBFA;\n",
              "      box-shadow: 0px 1px 2px rgba(60, 64, 67, 0.3), 0px 1px 3px 1px rgba(60, 64, 67, 0.15);\n",
              "      fill: #174EA6;\n",
              "    }\n",
              "\n",
              "    .colab-df-buttons div {\n",
              "      margin-bottom: 4px;\n",
              "    }\n",
              "\n",
              "    [theme=dark] .colab-df-convert {\n",
              "      background-color: #3B4455;\n",
              "      fill: #D2E3FC;\n",
              "    }\n",
              "\n",
              "    [theme=dark] .colab-df-convert:hover {\n",
              "      background-color: #434B5C;\n",
              "      box-shadow: 0px 1px 3px 1px rgba(0, 0, 0, 0.15);\n",
              "      filter: drop-shadow(0px 1px 2px rgba(0, 0, 0, 0.3));\n",
              "      fill: #FFFFFF;\n",
              "    }\n",
              "  </style>\n",
              "\n",
              "    <script>\n",
              "      const buttonEl =\n",
              "        document.querySelector('#df-e42a3fdf-d806-4cb5-b114-2388eee0cab6 button.colab-df-convert');\n",
              "      buttonEl.style.display =\n",
              "        google.colab.kernel.accessAllowed ? 'block' : 'none';\n",
              "\n",
              "      async function convertToInteractive(key) {\n",
              "        const element = document.querySelector('#df-e42a3fdf-d806-4cb5-b114-2388eee0cab6');\n",
              "        const dataTable =\n",
              "          await google.colab.kernel.invokeFunction('convertToInteractive',\n",
              "                                                    [key], {});\n",
              "        if (!dataTable) return;\n",
              "\n",
              "        const docLinkHtml = 'Like what you see? Visit the ' +\n",
              "          '<a target=\"_blank\" href=https://colab.research.google.com/notebooks/data_table.ipynb>data table notebook</a>'\n",
              "          + ' to learn more about interactive tables.';\n",
              "        element.innerHTML = '';\n",
              "        dataTable['output_type'] = 'display_data';\n",
              "        await google.colab.output.renderOutput(dataTable, element);\n",
              "        const docLink = document.createElement('div');\n",
              "        docLink.innerHTML = docLinkHtml;\n",
              "        element.appendChild(docLink);\n",
              "      }\n",
              "    </script>\n",
              "  </div>\n",
              "\n",
              "\n",
              "<div id=\"df-9e322608-a528-4e43-86b6-8d9bc0d1cccd\">\n",
              "  <button class=\"colab-df-quickchart\" onclick=\"quickchart('df-9e322608-a528-4e43-86b6-8d9bc0d1cccd')\"\n",
              "            title=\"Suggest charts\"\n",
              "            style=\"display:none;\">\n",
              "\n",
              "<svg xmlns=\"http://www.w3.org/2000/svg\" height=\"24px\"viewBox=\"0 0 24 24\"\n",
              "     width=\"24px\">\n",
              "    <g>\n",
              "        <path d=\"M19 3H5c-1.1 0-2 .9-2 2v14c0 1.1.9 2 2 2h14c1.1 0 2-.9 2-2V5c0-1.1-.9-2-2-2zM9 17H7v-7h2v7zm4 0h-2V7h2v10zm4 0h-2v-4h2v4z\"/>\n",
              "    </g>\n",
              "</svg>\n",
              "  </button>\n",
              "\n",
              "<style>\n",
              "  .colab-df-quickchart {\n",
              "      --bg-color: #E8F0FE;\n",
              "      --fill-color: #1967D2;\n",
              "      --hover-bg-color: #E2EBFA;\n",
              "      --hover-fill-color: #174EA6;\n",
              "      --disabled-fill-color: #AAA;\n",
              "      --disabled-bg-color: #DDD;\n",
              "  }\n",
              "\n",
              "  [theme=dark] .colab-df-quickchart {\n",
              "      --bg-color: #3B4455;\n",
              "      --fill-color: #D2E3FC;\n",
              "      --hover-bg-color: #434B5C;\n",
              "      --hover-fill-color: #FFFFFF;\n",
              "      --disabled-bg-color: #3B4455;\n",
              "      --disabled-fill-color: #666;\n",
              "  }\n",
              "\n",
              "  .colab-df-quickchart {\n",
              "    background-color: var(--bg-color);\n",
              "    border: none;\n",
              "    border-radius: 50%;\n",
              "    cursor: pointer;\n",
              "    display: none;\n",
              "    fill: var(--fill-color);\n",
              "    height: 32px;\n",
              "    padding: 0;\n",
              "    width: 32px;\n",
              "  }\n",
              "\n",
              "  .colab-df-quickchart:hover {\n",
              "    background-color: var(--hover-bg-color);\n",
              "    box-shadow: 0 1px 2px rgba(60, 64, 67, 0.3), 0 1px 3px 1px rgba(60, 64, 67, 0.15);\n",
              "    fill: var(--button-hover-fill-color);\n",
              "  }\n",
              "\n",
              "  .colab-df-quickchart-complete:disabled,\n",
              "  .colab-df-quickchart-complete:disabled:hover {\n",
              "    background-color: var(--disabled-bg-color);\n",
              "    fill: var(--disabled-fill-color);\n",
              "    box-shadow: none;\n",
              "  }\n",
              "\n",
              "  .colab-df-spinner {\n",
              "    border: 2px solid var(--fill-color);\n",
              "    border-color: transparent;\n",
              "    border-bottom-color: var(--fill-color);\n",
              "    animation:\n",
              "      spin 1s steps(1) infinite;\n",
              "  }\n",
              "\n",
              "  @keyframes spin {\n",
              "    0% {\n",
              "      border-color: transparent;\n",
              "      border-bottom-color: var(--fill-color);\n",
              "      border-left-color: var(--fill-color);\n",
              "    }\n",
              "    20% {\n",
              "      border-color: transparent;\n",
              "      border-left-color: var(--fill-color);\n",
              "      border-top-color: var(--fill-color);\n",
              "    }\n",
              "    30% {\n",
              "      border-color: transparent;\n",
              "      border-left-color: var(--fill-color);\n",
              "      border-top-color: var(--fill-color);\n",
              "      border-right-color: var(--fill-color);\n",
              "    }\n",
              "    40% {\n",
              "      border-color: transparent;\n",
              "      border-right-color: var(--fill-color);\n",
              "      border-top-color: var(--fill-color);\n",
              "    }\n",
              "    60% {\n",
              "      border-color: transparent;\n",
              "      border-right-color: var(--fill-color);\n",
              "    }\n",
              "    80% {\n",
              "      border-color: transparent;\n",
              "      border-right-color: var(--fill-color);\n",
              "      border-bottom-color: var(--fill-color);\n",
              "    }\n",
              "    90% {\n",
              "      border-color: transparent;\n",
              "      border-bottom-color: var(--fill-color);\n",
              "    }\n",
              "  }\n",
              "</style>\n",
              "\n",
              "  <script>\n",
              "    async function quickchart(key) {\n",
              "      const quickchartButtonEl =\n",
              "        document.querySelector('#' + key + ' button');\n",
              "      quickchartButtonEl.disabled = true;  // To prevent multiple clicks.\n",
              "      quickchartButtonEl.classList.add('colab-df-spinner');\n",
              "      try {\n",
              "        const charts = await google.colab.kernel.invokeFunction(\n",
              "            'suggestCharts', [key], {});\n",
              "      } catch (error) {\n",
              "        console.error('Error during call to suggestCharts:', error);\n",
              "      }\n",
              "      quickchartButtonEl.classList.remove('colab-df-spinner');\n",
              "      quickchartButtonEl.classList.add('colab-df-quickchart-complete');\n",
              "    }\n",
              "    (() => {\n",
              "      let quickchartButtonEl =\n",
              "        document.querySelector('#df-9e322608-a528-4e43-86b6-8d9bc0d1cccd button');\n",
              "      quickchartButtonEl.style.display =\n",
              "        google.colab.kernel.accessAllowed ? 'block' : 'none';\n",
              "    })();\n",
              "  </script>\n",
              "</div>\n",
              "\n",
              "    </div>\n",
              "  </div>\n"
            ],
            "application/vnd.google.colaboratory.intrinsic+json": {
              "type": "dataframe",
              "variable_name": "df",
              "summary": "{\n  \"name\": \"df\",\n  \"rows\": 10,\n  \"fields\": [\n    {\n      \"column\": \"name\",\n      \"properties\": {\n        \"dtype\": \"string\",\n        \"num_unique_values\": 10,\n        \"samples\": [\n          \"Coffee Maker\",\n          \"Smartwatch\",\n          \"DSLR Camera\"\n        ],\n        \"semantic_type\": \"\",\n        \"description\": \"\"\n      }\n    },\n    {\n      \"column\": \"brief_description\",\n      \"properties\": {\n        \"dtype\": \"string\",\n        \"num_unique_values\": 10,\n        \"samples\": [\n          \"A programmable coffee maker with a built-in grinder and multiple brew settings.\",\n          \"A stylish smartwatch with fitness tracking and heart rate monitoring.\",\n          \"A professional-grade DSLR camera with high resolution and fast autofocus.\"\n        ],\n        \"semantic_type\": \"\",\n        \"description\": \"\"\n      }\n    },\n    {\n      \"column\": \"reference_descriptions\",\n      \"properties\": {\n        \"dtype\": \"string\",\n        \"num_unique_values\": 10,\n        \"samples\": [\n          \"Enjoy fresh coffee every morning with our programmable coffee maker. With a built-in grinder and multiple brew settings, it's easy to make the perfect cup.|Our coffee maker combines convenience and quality. Featuring a built-in grinder and customizable brew options, it ensures a fresh and delicious coffee experience.\",\n          \"Stay connected and track your fitness goals with our latest smartwatch. Featuring heart rate monitoring, step counting, and notifications, it's the perfect companion for an active lifestyle.|Our smartwatch combines style and functionality. Monitor your heart rate, track your steps, and receive notifications directly on your wrist.\",\n          \"Capture stunning photos with our professional-grade DSLR camera. Featuring high resolution and fast autofocus, it's perfect for both amateurs and professionals.|Take your photography to the next level with our DSLR camera. With exceptional resolution and rapid autofocus, it's ideal for capturing every moment with clarity.\"\n        ],\n        \"semantic_type\": \"\",\n        \"description\": \"\"\n      }\n    }\n  ]\n}"
            }
          },
          "metadata": {},
          "execution_count": 7
        }
      ]
    },
    {
      "cell_type": "markdown",
      "source": [
        "## Setup Prediction Functions"
      ],
      "metadata": {
        "id": "m_eSpAIoJ7xi"
      }
    },
    {
      "cell_type": "code",
      "source": [
        "def get_prompt(name,brief_desc):\n",
        "  prompt = f\"\"\"\n",
        "  for the give product name and brief description, Generate a 2 line product description.\n",
        "  DO not add any additional information on your own which is not present in the information provided.\n",
        "  Write the brief description so that its easy to read and interpret,  Add call to action at the end.\n",
        "  Product Name: {name}\n",
        "  Brief Description: {brief_desc}\n",
        "  \"\"\"\n",
        "  return prompt"
      ],
      "metadata": {
        "id": "RYtHlTPa-ury"
      },
      "execution_count": 8,
      "outputs": []
    },
    {
      "cell_type": "code",
      "source": [
        "from together import Together\n",
        "import vertexai"
      ],
      "metadata": {
        "id": "K5mM2EHTGmrZ"
      },
      "execution_count": 12,
      "outputs": []
    },
    {
      "cell_type": "code",
      "source": [
        "PROJECT_ID = \"jrproject-402905\"\n",
        "LOCATION = \"us-central1\"\n",
        "MODEL_ID = \"gemini-1.5-flash-preview-0514\"\n",
        "vertexai.init(project=PROJECT_ID, location=LOCATION)"
      ],
      "metadata": {
        "id": "TZ-PA0WiG0Wy"
      },
      "execution_count": 13,
      "outputs": []
    },
    {
      "cell_type": "code",
      "source": [
        "\n",
        "from vertexai.generative_models import GenerationConfig, GenerativeModel\n",
        "gemini_model = GenerativeModel(MODEL_ID)\n",
        "generation_config = GenerationConfig( temperature=0.9, top_k=32,)"
      ],
      "metadata": {
        "id": "hLrbqP5WHHtb"
      },
      "execution_count": 14,
      "outputs": []
    },
    {
      "cell_type": "code",
      "source": [],
      "metadata": {
        "id": "FhG1vijqILMb"
      },
      "execution_count": null,
      "outputs": []
    },
    {
      "cell_type": "code",
      "source": [
        "def get_prediction_llama(prompt):\n",
        "  client = Together()\n",
        "  response = client.chat.completions.create(\n",
        "    model=\"meta-llama/Llama-3-8b-chat-hf\",\n",
        "    messages=[{\"role\": \"user\", \"content\": prompt}],)\n",
        "  return response.choices[0].message.content\n",
        "\n",
        "\n",
        "def get_prediction_gemini(prompt):\n",
        "  contents = [prompt]\n",
        "  response = gemini_model.generate_content(contents, generation_config=generation_config,)\n",
        "  return response.text\n",
        "\n",
        "\n",
        "def get_prediction_gemma(prompt):\n",
        "  client = Together()\n",
        "  response = client.chat.completions.create(\n",
        "    model=\"google/gemma-7b-it\",\n",
        "    messages=[{\"role\": \"user\", \"content\": prompt}],)\n",
        "  return response.choices[0].message.content"
      ],
      "metadata": {
        "id": "EGJDK5kZFx0I"
      },
      "execution_count": 22,
      "outputs": []
    },
    {
      "cell_type": "code",
      "source": [
        "import math\n",
        "import nltk\n",
        "from rouge_score import rouge_scorer\n",
        "from nltk.translate.bleu_score import sentence_bleu"
      ],
      "metadata": {
        "id": "s897hwguIrfq"
      },
      "execution_count": 18,
      "outputs": []
    },
    {
      "cell_type": "code",
      "source": [
        "def calculate_perplexity(predicted_sentence, reference_sentence):\n",
        "    ref_len = len(reference_sentence.split()) # calculating total num of words in reference\n",
        "    log_prob_sum = 0\n",
        "    for word in reference_sentence.split():\n",
        "        if word in predicted_sentence.split():\n",
        "            log_prob_sum += math.log(1 / (predicted_sentence.split().count(word) / len(predicted_sentence.split())))\n",
        "        else:\n",
        "            log_prob_sum += math.log(1 / len(predicted_sentence.split()))\n",
        "    return math.exp(log_prob_sum / ref_len)\n",
        "\n",
        "\n",
        "def calculate_bleu(predicted_sentence, reference_sentence):\n",
        "    return sentence_bleu([reference_sentence.split()], predicted_sentence.split())\n",
        "\n",
        "# ROUGE Score Calculation\n",
        "scorer = rouge_scorer.RougeScorer(['rouge1', 'rouge2', 'rougeL'], use_stemmer=True)\n",
        "\n",
        "def calculate_rouge(predicted_sentence, reference_sentence):\n",
        "    scores = scorer.score(reference_sentence, predicted_sentence)\n",
        "    return scores"
      ],
      "metadata": {
        "id": "_I6QCmyPIgmm"
      },
      "execution_count": 19,
      "outputs": []
    },
    {
      "cell_type": "code",
      "source": [
        "def get_comparison_report(df):\n",
        "  print(\"Evaluating LLMs\")\n",
        "  predictions = {\"gemini\":[],\"llama\":[],\"gemma\":[]}\n",
        "  reference = []\n",
        "  import time\n",
        "\n",
        "  for i in range(len(df)):\n",
        "    name = df.iloc[i][\"name\"]\n",
        "    time.sleep(55)\n",
        "    brief_desc = df.iloc[i][\"brief_description\"]\n",
        "    prompt = get_prompt(name,brief_desc)\n",
        "    predictions[\"gemini\"].append(get_prediction_gemini(prompt))\n",
        "    predictions[\"llama\"].append(get_prediction_llama(prompt))\n",
        "    predictions[\"gemma\"].append(get_prediction_gemma(prompt))\n",
        "    reference.append(df.iloc[i][\"reference_descriptions\"].split(\"|\")[0])\n",
        "\n",
        "\n",
        "  result = {\"perplexity\":[],\"bleu\":[],\"rouge1\":[],\"rouge2\":[],\"rougeL\":[]}\n",
        "  for model in predictions.keys():\n",
        "    perplexities = [calculate_perplexity(pred, ref) for pred, ref in zip(predictions[model], reference)]\n",
        "    average_perplexity = sum(perplexities) / len(perplexities)\n",
        "    result[\"perplexity\"].append(average_perplexity)\n",
        "\n",
        "    bleus = [calculate_bleu(pred, ref) for pred, ref in zip(predictions[model], reference)]\n",
        "    average_bleu = sum(bleus) / len(bleus)\n",
        "    result[\"bleu\"].append(average_bleu)\n",
        "\n",
        "    rouge_scores = [calculate_rouge(pred, ref) for pred, ref in zip(predictions[model], reference)]\n",
        "\n",
        "    average_rouge = {\n",
        "    'rouge1': sum([score['rouge1'].fmeasure for score in rouge_scores]) / len(rouge_scores),\n",
        "    'rouge2': sum([score['rouge2'].fmeasure for score in rouge_scores]) / len(rouge_scores),\n",
        "    'rougeL': sum([score['rougeL'].fmeasure for score in rouge_scores]) / len(rouge_scores),\n",
        "    }\n",
        "    result[\"rouge1\"].append(average_rouge['rouge1'])\n",
        "    result[\"rouge2\"].append(average_rouge['rouge2'])\n",
        "    result[\"rougeL\"].append(average_rouge['rougeL'])\n",
        "  return pd.DataFrame(result,index=predictions.keys())\n",
        ""
      ],
      "metadata": {
        "id": "QRIwrqWnHO_U"
      },
      "execution_count": 29,
      "outputs": []
    },
    {
      "cell_type": "code",
      "source": [
        "get_comparison_report(df)"
      ],
      "metadata": {
        "colab": {
          "base_uri": "https://localhost:8080/"
        },
        "id": "nmHU4gIrJfOp",
        "outputId": "24b2f794-eddf-4b0e-c95e-b825c2fd4267"
      },
      "execution_count": null,
      "outputs": [
        {
          "output_type": "stream",
          "name": "stdout",
          "text": [
            "Evaluating LLMs\n"
          ]
        }
      ]
    },
    {
      "cell_type": "code",
      "source": [],
      "metadata": {
        "id": "4JlXD2ssJhdo"
      },
      "execution_count": null,
      "outputs": []
    }
  ]
}