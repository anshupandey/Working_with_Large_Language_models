{
  "nbformat": 4,
  "nbformat_minor": 0,
  "metadata": {
    "colab": {
      "provenance": [],
      "authorship_tag": "ABX9TyMMTPWz3eZId0gVCuUrBWaS",
      "include_colab_link": true
    },
    "kernelspec": {
      "name": "python3",
      "display_name": "Python 3"
    },
    "language_info": {
      "name": "python"
    }
  },
  "cells": [
    {
      "cell_type": "markdown",
      "metadata": {
        "id": "view-in-github",
        "colab_type": "text"
      },
      "source": [
        "<a href=\"https://colab.research.google.com/github/anshupandey/Working_with_Large_Language_models/blob/main/WWL_C10_Accessing_LLMs.ipynb\" target=\"_parent\"><img src=\"https://colab.research.google.com/assets/colab-badge.svg\" alt=\"Open In Colab\"/></a>"
      ]
    },
    {
      "cell_type": "markdown",
      "source": [
        "#1. OpenAI GPT"
      ],
      "metadata": {
        "id": "CCN-QkJL_dEs"
      }
    },
    {
      "cell_type": "code",
      "execution_count": 1,
      "metadata": {
        "id": "KB85L9Fs6jMM",
        "outputId": "504dbd7b-b1f9-48cf-f294-a075cba332f8",
        "colab": {
          "base_uri": "https://localhost:8080/"
        }
      },
      "outputs": [
        {
          "output_type": "stream",
          "name": "stdout",
          "text": [
            "\u001b[2K     \u001b[90m━━━━━━━━━━━━━━━━━━━━━━━━━━━━━━━━━━━━━━━━\u001b[0m \u001b[32m327.5/327.5 kB\u001b[0m \u001b[31m1.7 MB/s\u001b[0m eta \u001b[36m0:00:00\u001b[0m\n",
            "\u001b[2K     \u001b[90m━━━━━━━━━━━━━━━━━━━━━━━━━━━━━━━━━━━━━━━━\u001b[0m \u001b[32m75.6/75.6 kB\u001b[0m \u001b[31m2.9 MB/s\u001b[0m eta \u001b[36m0:00:00\u001b[0m\n",
            "\u001b[2K     \u001b[90m━━━━━━━━━━━━━━━━━━━━━━━━━━━━━━━━━━━━━━━━\u001b[0m \u001b[32m77.9/77.9 kB\u001b[0m \u001b[31m2.7 MB/s\u001b[0m eta \u001b[36m0:00:00\u001b[0m\n",
            "\u001b[2K     \u001b[90m━━━━━━━━━━━━━━━━━━━━━━━━━━━━━━━━━━━━━━━━\u001b[0m \u001b[32m58.3/58.3 kB\u001b[0m \u001b[31m3.9 MB/s\u001b[0m eta \u001b[36m0:00:00\u001b[0m\n",
            "\u001b[?25h"
          ]
        }
      ],
      "source": [
        "!pip install openai --quiet"
      ]
    },
    {
      "cell_type": "code",
      "execution_count": 2,
      "metadata": {
        "id": "noj0x1VU6zlA"
      },
      "outputs": [],
      "source": [
        "api_key = \"sk-proj-xxxxxxxxxxxxx\" # replace this with your openai api key\n",
        "model_name = \"gpt-3.5-turbo\""
      ]
    },
    {
      "cell_type": "code",
      "execution_count": 3,
      "metadata": {
        "id": "BC0L6Sa6LkGm"
      },
      "outputs": [],
      "source": [
        "from openai import OpenAI\n",
        "client = OpenAI(api_key=api_key)"
      ]
    },
    {
      "cell_type": "code",
      "execution_count": 4,
      "metadata": {
        "id": "y_ba7QKuLkGm",
        "outputId": "0441b34a-e419-4676-fd67-dd4613c887c8",
        "colab": {
          "base_uri": "https://localhost:8080/"
        }
      },
      "outputs": [
        {
          "output_type": "stream",
          "name": "stdout",
          "text": [
            "{\n",
            "  \"id\": \"chatcmpl-9ezS85Y6MBBRHrthMdXUSj7A5SQIY\",\n",
            "  \"choices\": [\n",
            "    {\n",
            "      \"finish_reason\": \"stop\",\n",
            "      \"index\": 0,\n",
            "      \"logprobs\": null,\n",
            "      \"message\": {\n",
            "        \"content\": \"You can use the `os` module in Python to list all files in a directory. Here is an example code snippet that demonstrates how to do this:\\n\\n```python\\nimport os\\n\\n# Specify the directory path\\ndirectory = 'path_to_directory'\\n\\n# List all files in the directory\\nfiles = os.listdir(directory)\\n\\n# Print the list of files\\nfor file in files:\\n    print(file)\\n```\\n\\nMake sure to replace `'path_to_directory'` with the actual path to the directory you want to list the files from.\",\n",
            "        \"role\": \"assistant\",\n",
            "        \"function_call\": null,\n",
            "        \"tool_calls\": null\n",
            "      }\n",
            "    }\n",
            "  ],\n",
            "  \"created\": 1719556372,\n",
            "  \"model\": \"gpt-3.5-turbo-0125\",\n",
            "  \"object\": \"chat.completion\",\n",
            "  \"service_tier\": null,\n",
            "  \"system_fingerprint\": null,\n",
            "  \"usage\": {\n",
            "    \"completion_tokens\": 107,\n",
            "    \"prompt_tokens\": 19,\n",
            "    \"total_tokens\": 126\n",
            "  }\n",
            "}\n"
          ]
        }
      ],
      "source": [
        "result = client.chat.completions.create(\n",
        "    model=model_name,  # e.g. gpt-35-instant\n",
        "    max_tokens=500,\n",
        "    temperature=0.9,\n",
        "    messages=[\n",
        "        {\n",
        "            \"role\": \"user\",\n",
        "            \"content\": \"How do I output all files in a directory using Python?\",\n",
        "        },\n",
        "    ],\n",
        ")\n",
        "print(result.model_dump_json(indent=2))"
      ]
    },
    {
      "cell_type": "code",
      "execution_count": 5,
      "metadata": {
        "id": "-cNZj6nuLkGm",
        "outputId": "8ab527b3-6078-48ef-b1d6-e217fd903118",
        "colab": {
          "base_uri": "https://localhost:8080/"
        }
      },
      "outputs": [
        {
          "output_type": "stream",
          "name": "stdout",
          "text": [
            "You can use the `os` module in Python to list all files in a directory. Here is an example code snippet that demonstrates how to do this:\n",
            "\n",
            "```python\n",
            "import os\n",
            "\n",
            "# Specify the directory path\n",
            "directory = 'path_to_directory'\n",
            "\n",
            "# List all files in the directory\n",
            "files = os.listdir(directory)\n",
            "\n",
            "# Print the list of files\n",
            "for file in files:\n",
            "    print(file)\n",
            "```\n",
            "\n",
            "Make sure to replace `'path_to_directory'` with the actual path to the directory you want to list the files from.\n"
          ]
        }
      ],
      "source": [
        "print(result.choices[0].message.content)"
      ]
    },
    {
      "cell_type": "code",
      "execution_count": 6,
      "metadata": {
        "id": "0WAxkVWZ7LRi"
      },
      "outputs": [],
      "source": [
        "# creating a function to get outcome\n",
        "def generate_response(prompt,model=model_name):\n",
        "  messages = [{\"role\":\"user\",\"content\":prompt}]\n",
        "  response = client.chat.completions.create(\n",
        "      model = model,\n",
        "      messages = messages,\n",
        "      temperature=0\n",
        "  )\n",
        "  return response.choices[0].message.content\n"
      ]
    },
    {
      "cell_type": "code",
      "execution_count": 7,
      "metadata": {
        "colab": {
          "base_uri": "https://localhost:8080/"
        },
        "id": "tLgNfQbz7xpQ",
        "outputId": "68b48805-1d79-4015-d0c7-56cfa2ae235b"
      },
      "outputs": [
        {
          "output_type": "stream",
          "name": "stdout",
          "text": [
            "Manila, city of beauty and grace,\n",
            "Where the sun shines bright on your face.\n",
            "Skyscrapers reaching for the sky,\n",
            "A bustling metropolis, never shy.\n",
            "\n",
            "The streets alive with vibrant colors,\n",
            "The people's laughter like music to the ears.\n",
            "From historic churches to modern malls,\n",
            "Manila's beauty never palls.\n",
            "\n",
            "The bay glistens in the setting sun,\n",
            "A sight that takes your breath away.\n",
            "The warmth of the people, the food so divine,\n",
            "In Manila, beauty is always in line.\n",
            "\n",
            "From Intramuros to Makati's skyline,\n",
            "Manila's beauty is truly divine.\n",
            "A city of contrasts, old and new,\n",
            "In every corner, there's something to view.\n",
            "\n",
            "So let's raise a toast to Manila's charm,\n",
            "A city that never fails to disarm.\n",
            "In its chaos and beauty, we find our place,\n",
            "Manila, a city of endless grace.\n"
          ]
        }
      ],
      "source": [
        "response = generate_response(\"Write a poem on how beautiful city Manila is\")\n",
        "print(response)"
      ]
    },
    {
      "cell_type": "code",
      "source": [
        "response = generate_response(\"Write a poem on how beautiful city Manila is\",model='gpt-4o')\n",
        "print(response)"
      ],
      "metadata": {
        "id": "XXc38RMb_0lk",
        "outputId": "19bc7046-0c39-4159-ff02-b4c5cde8d44d",
        "colab": {
          "base_uri": "https://localhost:8080/"
        }
      },
      "execution_count": 8,
      "outputs": [
        {
          "output_type": "stream",
          "name": "stdout",
          "text": [
            "In the heart of the archipelago, where the sun kisses the sea,\n",
            "Lies a city of vibrant hues, where history and future meet.\n",
            "Manila, oh Manila, with your skies so wide and blue,\n",
            "Your beauty is a tapestry, woven with threads both old and new.\n",
            "\n",
            "From the ancient walls of Intramuros, where stories whisper in the breeze,\n",
            "To the bustling streets of Binondo, where flavors dance with ease.\n",
            "The Pasig River winds its way, a silver ribbon through the land,\n",
            "Reflecting the golden sunsets, painted by nature's hand.\n",
            "\n",
            "Jeepneys adorned with colors bright, like rainbows on the move,\n",
            "Carry dreams and hopes each day, in a city that never loses its groove.\n",
            "The laughter of children in Luneta Park, where history stands tall,\n",
            "Echoes through the avenues, a joyous, endless call.\n",
            "\n",
            "In the markets of Divisoria, where life is a vibrant spree,\n",
            "The scent of sampaguita mingles with the salty air from the sea.\n",
            "Skyscrapers rise to kiss the clouds, a testament to progress and might,\n",
            "Yet in every corner, tradition holds, a beacon of enduring light.\n",
            "\n",
            "Manila, oh Manila, your spirit is a song,\n",
            "A melody of resilience, where every heart belongs.\n",
            "Through trials and triumphs, you stand with grace,\n",
            "A city of endless wonders, a truly enchanting place.\n",
            "\n",
            "So here's to you, dear Manila, with your charm so rare and true,\n",
            "A jewel in the Philippines, forever shining through.\n",
            "May your streets be filled with laughter, your skies with endless light,\n",
            "For in your embrace, we find a world so beautifully bright.\n"
          ]
        }
      ]
    },
    {
      "cell_type": "code",
      "source": [
        "# creating a function to get outcome\n",
        "def generate_response(messages,model=model_name):\n",
        "  response = client.chat.completions.create(\n",
        "      model = model,\n",
        "      messages = messages,\n",
        "      temperature=0\n",
        "  )\n",
        "  return response.choices[0].message.content"
      ],
      "metadata": {
        "id": "ura2Fh_wlH_w"
      },
      "execution_count": 9,
      "outputs": []
    },
    {
      "cell_type": "code",
      "source": [
        "messages = [{\"role\":\"system\",\"content\":\"You are a helpful assistant\"},]\n",
        "while True:\n",
        "  user_input = input(\"User: \")\n",
        "  if user_input == \"exit\":\n",
        "    break\n",
        "  messages.append({\"role\":\"user\",\"content\":user_input})\n",
        "  response = generate_response(messages)\n",
        "  messages.append({\"role\":\"assistant\",\"content\":response})\n",
        "  print(f\"Assistant: {response}\")"
      ],
      "metadata": {
        "colab": {
          "base_uri": "https://localhost:8080/"
        },
        "id": "0hbK-jSIlQNS",
        "outputId": "d6d4af61-83ea-48a5-e2ad-fc3a91989461"
      },
      "execution_count": 10,
      "outputs": [
        {
          "name": "stdout",
          "output_type": "stream",
          "text": [
            "User: hi\n",
            "Assistant: Hello! How can I assist you today?\n",
            "User: hi, my name is Anshu.\n",
            "Assistant: Hello Anshu! It's nice to meet you. How can I help you today?\n",
            "User: what is the capital of philippines\n",
            "Assistant: The capital of the Philippines is Manila.\n",
            "User: Tell me more special things about manila\n",
            "Assistant: Manila is a vibrant city with a rich history and diverse culture. Here are some special things about Manila:\n",
            "\n",
            "1. Intramuros: This historic walled area is known as the \"Walled City\" and is home to several well-preserved Spanish colonial buildings, churches, and museums.\n",
            "\n",
            "2. Rizal Park: Also known as Luneta Park, this is a popular green space in Manila where you can find the Rizal Monument, dedicated to the national hero Jose Rizal.\n",
            "\n",
            "3. Manila Bay: This iconic bay offers beautiful sunsets and is a popular spot for locals and tourists to relax and enjoy the view.\n",
            "\n",
            "4. Shopping and dining: Manila is known for its shopping malls, including SM Mall of Asia, one of the largest malls in the world. The city also offers a wide range of dining options, from street food to fine dining restaurants.\n",
            "\n",
            "5. Cultural attractions: Manila is home to a variety of cultural attractions, such as the National Museum of the Philippines, Ayala Museum, and the Cultural Center of the Philippines, where you can experience Filipino art, history, and performances.\n",
            "\n",
            "These are just a few of the special things that make Manila a unique and exciting city to visit.\n",
            "User: what is my name?\n",
            "Assistant: Your name is Anshu.\n",
            "User: exit\n"
          ]
        }
      ]
    },
    {
      "cell_type": "code",
      "source": [
        "messages"
      ],
      "metadata": {
        "colab": {
          "base_uri": "https://localhost:8080/"
        },
        "id": "VFDhBJSzmCrw",
        "outputId": "63006e64-8402-4a98-a222-4258c8e94092"
      },
      "execution_count": 11,
      "outputs": [
        {
          "output_type": "execute_result",
          "data": {
            "text/plain": [
              "[{'role': 'system', 'content': 'You are a helpful assistant'},\n",
              " {'role': 'user', 'content': 'hi'},\n",
              " {'role': 'assistant', 'content': 'Hello! How can I assist you today?'},\n",
              " {'role': 'user', 'content': 'hi, my name is Anshu.'},\n",
              " {'role': 'assistant',\n",
              "  'content': \"Hello Anshu! It's nice to meet you. How can I help you today?\"},\n",
              " {'role': 'user', 'content': 'what is the capital of philippines'},\n",
              " {'role': 'assistant', 'content': 'The capital of the Philippines is Manila.'},\n",
              " {'role': 'user', 'content': 'Tell me more special things about manila'},\n",
              " {'role': 'assistant',\n",
              "  'content': 'Manila is a vibrant city with a rich history and diverse culture. Here are some special things about Manila:\\n\\n1. Intramuros: This historic walled area is known as the \"Walled City\" and is home to several well-preserved Spanish colonial buildings, churches, and museums.\\n\\n2. Rizal Park: Also known as Luneta Park, this is a popular green space in Manila where you can find the Rizal Monument, dedicated to the national hero Jose Rizal.\\n\\n3. Manila Bay: This iconic bay offers beautiful sunsets and is a popular spot for locals and tourists to relax and enjoy the view.\\n\\n4. Shopping and dining: Manila is known for its shopping malls, including SM Mall of Asia, one of the largest malls in the world. The city also offers a wide range of dining options, from street food to fine dining restaurants.\\n\\n5. Cultural attractions: Manila is home to a variety of cultural attractions, such as the National Museum of the Philippines, Ayala Museum, and the Cultural Center of the Philippines, where you can experience Filipino art, history, and performances.\\n\\nThese are just a few of the special things that make Manila a unique and exciting city to visit.'},\n",
              " {'role': 'user', 'content': 'what is my name?'},\n",
              " {'role': 'assistant', 'content': 'Your name is Anshu.'}]"
            ]
          },
          "metadata": {},
          "execution_count": 11
        }
      ]
    },
    {
      "cell_type": "markdown",
      "source": [
        "# 2. Together AI"
      ],
      "metadata": {
        "id": "nxtqvAaUoMVU"
      }
    },
    {
      "cell_type": "code",
      "source": [
        "import os\n",
        "os.environ['TOGETHER_API_KEY'] = \"xxxxxxxxxxxxxxxx\""
      ],
      "metadata": {
        "id": "DR5OBPFxoQKy"
      },
      "execution_count": 12,
      "outputs": []
    },
    {
      "cell_type": "code",
      "source": [
        "!pip install together --quiet"
      ],
      "metadata": {
        "id": "dsLNW8KQq0yb",
        "outputId": "e3169a4d-4287-4ef9-9e01-ca90b54b6756",
        "colab": {
          "base_uri": "https://localhost:8080/"
        }
      },
      "execution_count": 13,
      "outputs": [
        {
          "output_type": "stream",
          "name": "stdout",
          "text": [
            "\u001b[2K     \u001b[90m━━━━━━━━━━━━━━━━━━━━━━━━━━━━━━━━━━━━━━━━\u001b[0m \u001b[32m61.4/61.4 kB\u001b[0m \u001b[31m642.5 kB/s\u001b[0m eta \u001b[36m0:00:00\u001b[0m\n",
            "\u001b[2K     \u001b[90m━━━━━━━━━━━━━━━━━━━━━━━━━━━━━━━━━━━━━━━━\u001b[0m \u001b[32m4.5/4.5 MB\u001b[0m \u001b[31m15.9 MB/s\u001b[0m eta \u001b[36m0:00:00\u001b[0m\n",
            "\u001b[?25h\u001b[31mERROR: pip's dependency resolver does not currently take into account all the packages that are installed. This behaviour is the source of the following dependency conflicts.\n",
            "imageio 2.31.6 requires pillow<10.1.0,>=8.3.2, but you have pillow 10.3.0 which is incompatible.\u001b[0m\u001b[31m\n",
            "\u001b[0m"
          ]
        }
      ]
    },
    {
      "cell_type": "markdown",
      "source": [
        "## META LLAMA 3 8B CHAT\n",
        "BY: META\n",
        "\n",
        "LICENSE: LLAMA-3 (OTHER)\n",
        "\n",
        "Llama 3 is an auto-regressive language model that uses an optimized transformer architecture. The tuned versions use supervised fine-tuning (SFT) and reinforcement learning with human feedback (RLHF) to align with human preferences for helpfulness and safety."
      ],
      "metadata": {
        "id": "N9Pf7zPyqma2"
      }
    },
    {
      "cell_type": "code",
      "source": [
        "import os\n",
        "from together import Together\n",
        "\n",
        "client = Together()\n",
        "\n",
        "response = client.chat.completions.create(\n",
        "    model=\"meta-llama/Llama-3-8b-chat-hf\",\n",
        "    messages=[{\"role\": \"user\", \"content\": \"What are some fun things to do in Manila?\"}],\n",
        ")\n",
        "print(response.choices[0].message.content)"
      ],
      "metadata": {
        "colab": {
          "base_uri": "https://localhost:8080/"
        },
        "id": "nrEybRhjoP38",
        "outputId": "29e5a988-4fd3-465b-8474-9117f92d05ef"
      },
      "execution_count": 14,
      "outputs": [
        {
          "output_type": "stream",
          "name": "stdout",
          "text": [
            "Manila, the vibrant capital of the Philippines, offers a mix of cultural, historical, and entertainment attractions that cater to different interests and ages. Here are some fun things to do in Manila:\n",
            "\n",
            "1. **Intramuros**: Explore the historic walled city of Intramuros, a must-visit destination in Manila. Take a kalesa (horse-drawn carriage) ride or walk along the cobblestone streets to visit landmarks like Fort Santiago, San Agustin Church, and the Manila Cathedral.\n",
            "2. **National Museum**: Discover the country's rich history and culture at the National Museum, which features a collection of artifacts, exhibits, and interactive displays.\n",
            "3. **Rizal Park**: Visit Rizal Park, also known as Luneta Park, a popular spot for picnics, jogging, and people-watching. The park is home to several monuments, including the Rizal Monument, which honors the country's national hero, José Rizal.\n",
            "4. **Mall hopping**: Manila is known for its shopping malls, which offer a wide range of dining, entertainment, and retail options. Some popular malls include Greenhills Shopping Center, SM Mall of Asia, and Bonifacio High Street.\n",
            "5. **Food trip**: Manila is a foodie's paradise, with a diverse range of cuisines to try. Visit the famous street food markets like Mercato Centrale or try popular restaurants like Jollibee, Chowking, or Max's Restaurant.\n",
            "6. **Nightlife**: Manila's nightlife scene is lively, with many bars, clubs, and lounges to choose from. Some popular spots include Poblacion, Makati, and the Entertainment City complex.\n",
            "7. **Visit the Manila Ocean Park**: Get up close and personal with marine life at the Manila Ocean Park, which features a variety of fish, sharks, and other sea creatures.\n",
            "8. **Take a day trip to Corregidor Island**: Corregidor Island is a historic island located at the mouth of Manila Bay. Take a day trip to explore the island's military fortifications, lighthouses, and scenic views.\n",
            "9. **Go on a shopping spree at Divisoria**: Divisoria is a popular shopping destination for affordable clothing, accessories, and souvenirs. Be prepared for a crowded and chaotic experience!\n",
            "10. **Attend a festival or event**: Manila hosts various festivals and events throughout the year, such as the Manila International Book Fair, the Philippine International Pyromusical Competition, and the Manila FAME design and lifestyle event.\n",
            "11. **Visit the Ayala Museum**: The Ayala Museum is a cultural and historical institution that features exhibits on Filipino art, history, and culture. The museum also hosts various events and concerts throughout the year.\n",
            "12. **Take a cooking class**: Learn how to cook traditional Filipino dishes like adobo, sinigang, and lechon at a cooking class. This is a great way to experience the local cuisine and culture.\n",
            "13. **Go on a walking tour**: Join a guided walking tour to explore Manila's historic districts, such as Intramuros, Ermita, and Malate. These tours often include stops at landmarks, museums, and cultural attractions.\n",
            "14. **Visit the Star City amusement park**: Star City is an amusement park that features various rides, games, and attractions. It's a great place to visit with family and friends.\n",
            "15. **Explore the arts scene**: Manila has a thriving arts scene, with many galleries, museums, and performance venues to choose from. Visit the Cultural Center of the Philippines, the Metropolitan Museum of Manila, or the Power Plant Mall to experience the city's vibrant arts scene.\n",
            "\n",
            "These are just a few of the many fun things to do in Manila. Whether you're interested in history, culture, food, or entertainment, there's something for everyone in this vibrant city.\n"
          ]
        }
      ]
    },
    {
      "cell_type": "markdown",
      "source": [
        "### DBRX INSTRUCT\n",
        "\n",
        "BY: DATABRICKS\n",
        "\n",
        "LICENSE:DATABRICKS OPEN MODEL LICENSE\n",
        "\n",
        "DBRX Instruct is a mixture-of-experts (MoE) large language model trained from scratch by Databricks. DBRX Instruct specializes in few-turn interactions."
      ],
      "metadata": {
        "id": "KIUlNgVGsPbl"
      }
    },
    {
      "cell_type": "code",
      "source": [
        "import os\n",
        "from together import Together\n",
        "\n",
        "client = Together()\n",
        "\n",
        "response = client.chat.completions.create(\n",
        "    model=\"databricks/dbrx-instruct\",\n",
        "    messages=[{\"role\": \"user\", \"content\": \"What are some fun things to do in Manila?\"}],\n",
        ")\n",
        "print(response.choices[0].message.content)"
      ],
      "metadata": {
        "colab": {
          "base_uri": "https://localhost:8080/"
        },
        "id": "9UDqBL6esnvt",
        "outputId": "f2b2cb3b-40f4-47bc-8a41-387b91a26e68"
      },
      "execution_count": 15,
      "outputs": [
        {
          "output_type": "stream",
          "name": "stdout",
          "text": [
            "1. Visit Intramuros: This historic walled city is a must-visit in Manila. You can explore the old Spanish colonial architecture, visit the San Agustin Church and Museum, and take a stroll along the walls for a great view of the city.\n",
            "\n",
            "2. Explore Rizal Park: This large urban park is a great place to relax, have a picnic, or just take a leisurely walk. It's also home to the Rizal Monument, a national symbol of the Philippines.\n",
            "\n",
            "3. Shop at Divisoria: If you love shopping, Divisoria is the place to be. It's a huge market where you can find everything from clothes and shoes to electronics and souvenirs at very low prices.\n",
            "\n",
            "4. Visit the National Museum: The National Museum of the Philippines houses a vast collection of art, archaeology, and natural history. It's a great place to learn about the country's rich history and culture.\n",
            "\n",
            "5. Experience the nightlife in Makati: Makati is the central business district of Manila and is known for its vibrant nightlife. You can find a wide range of bars, clubs, and restaurants to suit all tastes.\n",
            "\n",
            "6. Take a day trip to Taal Volcano: Located just a few hours south of Manila, Taal Volcano is one of the most popular tourist destinations in the Philippines. You can take a boat ride to the volcano island and hike to the crater lake.\n",
            "\n",
            "7. Visit the Manila Ocean Park: This oceanarium is home to a wide variety of marine life, including sharks, rays, and sea turtles. You can also watch live shows and even swim with the sharks!\n",
            "\n",
            "8. Explore Binondo: Also known as Manila's Chinatown, Binondo is a bustling district filled with shops, restaurants, and temples. It's a great place to try authentic Chinese-Filipino cuisine.\n",
            "\n",
            "9. Visit the Mall of Asia: The Mall of Asia is one of the largest malls in the world and is a great place to shop, eat, and be entertained. It's also home to an IMAX theater, an ice skating rink, and a science museum.\n",
            "\n",
            "10. Take a stroll along Roxas Boulevard: This scenic boulevard runs along Manila Bay and is a great place to watch the sunset. You can also find a number of restaurants and bars along the way.\n"
          ]
        }
      ]
    },
    {
      "cell_type": "markdown",
      "source": [
        "## GEMMA INSTRUCT (7B)\n",
        "\n",
        "\n",
        "By: GOOGLE\n",
        "\n",
        "LICENSE: GEMMA-TERMS-OF-USE\n",
        "\n",
        "Gemma is a family of lightweight, state-of-the-art open models from Google, built from the same research and technology used to create the Gemini models."
      ],
      "metadata": {
        "id": "xpwmqmLBs3LD"
      }
    },
    {
      "cell_type": "code",
      "source": [
        "import os\n",
        "from together import Together\n",
        "\n",
        "client = Together()\n",
        "\n",
        "response = client.chat.completions.create(\n",
        "    model=\"google/gemma-7b-it\",\n",
        "    messages=[{\"role\": \"user\", \"content\": \"What are some fun things to do in New York?\"}],\n",
        ")\n",
        "print(response.choices[0].message.content)"
      ],
      "metadata": {
        "colab": {
          "base_uri": "https://localhost:8080/"
        },
        "id": "-PFTe5F0s7Ed",
        "outputId": "89ebb5da-f9a2-436e-bc2c-664921d3df6a"
      },
      "execution_count": 16,
      "outputs": [
        {
          "output_type": "stream",
          "name": "stdout",
          "text": [
            "New York has a lot to offer visitors, from its iconic landmarks to its diverse neighborhoods. Here are a few ideas to get you started:\n",
            "\n",
            "**Must-See Landmarks:**\n",
            "\n",
            "* **Empire State Building:** Take an elevator to the top for stunning views of the city from the highest building in the world.\n",
            "* **Times Square:** Experience the bright lights and dazzling billboards of this bustling intersection.\n",
            "* **Central Park:** Escape the city hustle and bustle with a relaxing stroll through this beautiful park.\n",
            "* **Brooklyn Bridge Park:** Enjoy a scenic waterfront view of the Manhattan Bridge and the East River.\n",
            "* **The High Line:** Walk along this elevated park for a unique perspective of the city's streets.\n",
            "\n",
            "**Neighborhood Experiences:**\n",
            "\n",
            "* **Soho:** Explore the trendy shops, restaurants, and art galleries in this historic neighborhood.\n",
            "* **Greenwich Village:** Discover the bohemian atmosphere and unique shops in this charming village.\n",
            "* **Chinatown:** Immerse yourself in the vibrant culture and delicious food of this historic neighborhood.\n",
            "* **Little Italy:** Experience the traditional Italian atmosphere and mouth-watering cuisine in this vibrant neighborhood.\n",
            "* **Harlem:** Learn about the rich history and culture of this historic neighborhood.\n",
            "\n",
            "**Other Activities:**\n",
            "\n",
            "* **Catch a Broadway show:** New York is the home of Broadway, so catch a show for an unforgettable experience.\n",
            "* **Take a boat ride on the Hudson River:** Enjoy a scenic boat ride along the Hudson River and see the city from a different perspective.\n",
            "* **Visit the Metropolitan Museum of Art:** Explore the vast collection of art from around the world.\n",
            "* **Explore the Empire State Building Observatory:** Take a helicopter tour over the city for a unique view of New York.\n",
            "* **Go shopping:** New York has some of the best shopping malls in the world.\n",
            "\n",
            "**Additional Tips:**\n",
            "\n",
            "* **Purchase a CityPASS:** This pass offers discounts on admission to many popular attractions.\n",
            "* **Take advantage of the subway:** The subway is a convenient way to get around the city.\n",
            "* **Be prepared for the weather:** New York has four distinct seasons, so pack accordingly.\n",
            "* **Enjoy the city's diversity:** New York is a melting pot of cultures, so explore the different neighborhoods and experience the city's vibrant atmosphere.\n"
          ]
        }
      ]
    },
    {
      "cell_type": "markdown",
      "source": [
        "# 3. Anthropic"
      ],
      "metadata": {
        "id": "ICEIuJJ2_32S"
      }
    },
    {
      "cell_type": "code",
      "source": [],
      "metadata": {
        "id": "h0NoVlXD_7hl"
      },
      "execution_count": null,
      "outputs": []
    },
    {
      "cell_type": "code",
      "execution_count": null,
      "metadata": {
        "id": "5c0bed1d-553c-47ea-9d8a-c5295fc4841e"
      },
      "outputs": [],
      "source": [
        "!pip install -q anthropic"
      ]
    },
    {
      "cell_type": "markdown",
      "metadata": {
        "id": "4bd9e939-154a-4c74-a1e2-8fe48971f955"
      },
      "source": [
        "### Importing libraries"
      ]
    },
    {
      "cell_type": "code",
      "source": [],
      "metadata": {
        "id": "4GLTyP1F0Sep"
      },
      "execution_count": null,
      "outputs": []
    },
    {
      "cell_type": "code",
      "execution_count": null,
      "metadata": {
        "id": "b3856fcd-437d-4223-8ac8-2e281de6bf15"
      },
      "outputs": [],
      "source": [
        "import anthropic\n",
        "from anthropic import HUMAN_PROMPT, AI_PROMPT\n",
        "from getpass import getpass"
      ]
    },
    {
      "cell_type": "code",
      "execution_count": null,
      "metadata": {
        "colab": {
          "base_uri": "https://localhost:8080/"
        },
        "id": "43bf18ec-08d5-4885-9555-9055fb6536db",
        "outputId": "7872d262-a5d8-4673-9436-ef508eb845cf"
      },
      "outputs": [
        {
          "name": "stdout",
          "output_type": "stream",
          "text": [
            "··········\n"
          ]
        }
      ],
      "source": [
        "ANTHROPIC_API_KEY = getpass()"
      ]
    },
    {
      "cell_type": "code",
      "execution_count": null,
      "metadata": {
        "id": "9e2c880f-70cb-4d8a-b60d-e43bddef9732"
      },
      "outputs": [],
      "source": [
        "client = anthropic.Anthropic(\n",
        "    api_key=ANTHROPIC_API_KEY,\n",
        ")"
      ]
    },
    {
      "cell_type": "code",
      "execution_count": null,
      "metadata": {
        "id": "a0c213b9-f98f-4ad5-9303-3d1711d264e9"
      },
      "outputs": [],
      "source": [
        "model_1 = 'claude-instant-1.2'\n",
        "model_2 = 'claude-2.1'"
      ]
    },
    {
      "cell_type": "code",
      "execution_count": null,
      "metadata": {
        "id": "5da2ccde-3c7e-4719-a9c4-7c22949db94b"
      },
      "outputs": [],
      "source": [
        "def generate_response(PROMPT, model=\"claude-2.1\"):\n",
        "\n",
        "    completion = client.completions.create(\n",
        "        model = model,\n",
        "        max_tokens_to_sample = 300,\n",
        "        prompt = f\"{HUMAN_PROMPT} {PROMPT} {AI_PROMPT}\")\n",
        "\n",
        "    return completion.completion"
      ]
    },
    {
      "cell_type": "code",
      "source": [
        "response = generate_response(\"Write a python code to print 'Hello World'\")\n",
        "print(response)"
      ],
      "metadata": {
        "id": "FtlyXZhvAzB2",
        "outputId": "2aa94386-3124-4be8-d6d1-032b1d5646fb",
        "colab": {
          "base_uri": "https://localhost:8080/",
          "height": 321
        }
      },
      "execution_count": null,
      "outputs": [
        {
          "output_type": "error",
          "ename": "BadRequestError",
          "evalue": "Error code: 400 - {'type': 'error', 'error': {'type': 'invalid_request_error', 'message': 'Your credit balance is too low to access the Claude API. Please go to Plans & Billing to upgrade or purchase credits.'}}",
          "traceback": [
            "\u001b[0;31m---------------------------------------------------------------------------\u001b[0m",
            "\u001b[0;31mBadRequestError\u001b[0m                           Traceback (most recent call last)",
            "\u001b[0;32m<ipython-input-28-bd05ae1bf2ba>\u001b[0m in \u001b[0;36m<cell line: 1>\u001b[0;34m()\u001b[0m\n\u001b[0;32m----> 1\u001b[0;31m \u001b[0mresponse\u001b[0m \u001b[0;34m=\u001b[0m \u001b[0mgenerate_response\u001b[0m\u001b[0;34m(\u001b[0m\u001b[0;34m\"Write a python code to print 'Hello World'\"\u001b[0m\u001b[0;34m)\u001b[0m\u001b[0;34m\u001b[0m\u001b[0;34m\u001b[0m\u001b[0m\n\u001b[0m\u001b[1;32m      2\u001b[0m \u001b[0mprint\u001b[0m\u001b[0;34m(\u001b[0m\u001b[0mresponse\u001b[0m\u001b[0;34m)\u001b[0m\u001b[0;34m\u001b[0m\u001b[0;34m\u001b[0m\u001b[0m\n",
            "\u001b[0;32m<ipython-input-27-5c3b6f30b857>\u001b[0m in \u001b[0;36mgenerate_response\u001b[0;34m(PROMPT, model)\u001b[0m\n\u001b[1;32m      1\u001b[0m \u001b[0;32mdef\u001b[0m \u001b[0mgenerate_response\u001b[0m\u001b[0;34m(\u001b[0m\u001b[0mPROMPT\u001b[0m\u001b[0;34m,\u001b[0m \u001b[0mmodel\u001b[0m\u001b[0;34m=\u001b[0m\u001b[0;34m\"claude-2.1\"\u001b[0m\u001b[0;34m)\u001b[0m\u001b[0;34m:\u001b[0m\u001b[0;34m\u001b[0m\u001b[0;34m\u001b[0m\u001b[0m\n\u001b[1;32m      2\u001b[0m \u001b[0;34m\u001b[0m\u001b[0m\n\u001b[0;32m----> 3\u001b[0;31m     completion = client.completions.create(\n\u001b[0m\u001b[1;32m      4\u001b[0m         \u001b[0mmodel\u001b[0m \u001b[0;34m=\u001b[0m \u001b[0mmodel\u001b[0m\u001b[0;34m,\u001b[0m\u001b[0;34m\u001b[0m\u001b[0;34m\u001b[0m\u001b[0m\n\u001b[1;32m      5\u001b[0m         \u001b[0mmax_tokens_to_sample\u001b[0m \u001b[0;34m=\u001b[0m \u001b[0;36m300\u001b[0m\u001b[0;34m,\u001b[0m\u001b[0;34m\u001b[0m\u001b[0;34m\u001b[0m\u001b[0m\n",
            "\u001b[0;32m/usr/local/lib/python3.10/dist-packages/anthropic/_utils/_utils.py\u001b[0m in \u001b[0;36mwrapper\u001b[0;34m(*args, **kwargs)\u001b[0m\n\u001b[1;32m    275\u001b[0m                         \u001b[0mmsg\u001b[0m \u001b[0;34m=\u001b[0m \u001b[0;34mf\"Missing required argument: {quote(missing[0])}\"\u001b[0m\u001b[0;34m\u001b[0m\u001b[0;34m\u001b[0m\u001b[0m\n\u001b[1;32m    276\u001b[0m                 \u001b[0;32mraise\u001b[0m \u001b[0mTypeError\u001b[0m\u001b[0;34m(\u001b[0m\u001b[0mmsg\u001b[0m\u001b[0;34m)\u001b[0m\u001b[0;34m\u001b[0m\u001b[0;34m\u001b[0m\u001b[0m\n\u001b[0;32m--> 277\u001b[0;31m             \u001b[0;32mreturn\u001b[0m \u001b[0mfunc\u001b[0m\u001b[0;34m(\u001b[0m\u001b[0;34m*\u001b[0m\u001b[0margs\u001b[0m\u001b[0;34m,\u001b[0m \u001b[0;34m**\u001b[0m\u001b[0mkwargs\u001b[0m\u001b[0;34m)\u001b[0m\u001b[0;34m\u001b[0m\u001b[0;34m\u001b[0m\u001b[0m\n\u001b[0m\u001b[1;32m    278\u001b[0m \u001b[0;34m\u001b[0m\u001b[0m\n\u001b[1;32m    279\u001b[0m         \u001b[0;32mreturn\u001b[0m \u001b[0mwrapper\u001b[0m  \u001b[0;31m# type: ignore\u001b[0m\u001b[0;34m\u001b[0m\u001b[0;34m\u001b[0m\u001b[0m\n",
            "\u001b[0;32m/usr/local/lib/python3.10/dist-packages/anthropic/resources/completions.py\u001b[0m in \u001b[0;36mcreate\u001b[0;34m(self, max_tokens_to_sample, model, prompt, metadata, stop_sequences, stream, temperature, top_k, top_p, extra_headers, extra_query, extra_body, timeout)\u001b[0m\n\u001b[1;32m    372\u001b[0m         \u001b[0mtimeout\u001b[0m\u001b[0;34m:\u001b[0m \u001b[0mfloat\u001b[0m \u001b[0;34m|\u001b[0m \u001b[0mhttpx\u001b[0m\u001b[0;34m.\u001b[0m\u001b[0mTimeout\u001b[0m \u001b[0;34m|\u001b[0m \u001b[0;32mNone\u001b[0m \u001b[0;34m|\u001b[0m \u001b[0mNotGiven\u001b[0m \u001b[0;34m=\u001b[0m \u001b[0;36m600\u001b[0m\u001b[0;34m,\u001b[0m\u001b[0;34m\u001b[0m\u001b[0;34m\u001b[0m\u001b[0m\n\u001b[1;32m    373\u001b[0m     ) -> Completion | Stream[Completion]:\n\u001b[0;32m--> 374\u001b[0;31m         return self._post(\n\u001b[0m\u001b[1;32m    375\u001b[0m             \u001b[0;34m\"/v1/complete\"\u001b[0m\u001b[0;34m,\u001b[0m\u001b[0;34m\u001b[0m\u001b[0;34m\u001b[0m\u001b[0m\n\u001b[1;32m    376\u001b[0m             body=maybe_transform(\n",
            "\u001b[0;32m/usr/local/lib/python3.10/dist-packages/anthropic/_base_client.py\u001b[0m in \u001b[0;36mpost\u001b[0;34m(self, path, cast_to, body, options, files, stream, stream_cls)\u001b[0m\n\u001b[1;32m   1247\u001b[0m             \u001b[0mmethod\u001b[0m\u001b[0;34m=\u001b[0m\u001b[0;34m\"post\"\u001b[0m\u001b[0;34m,\u001b[0m \u001b[0murl\u001b[0m\u001b[0;34m=\u001b[0m\u001b[0mpath\u001b[0m\u001b[0;34m,\u001b[0m \u001b[0mjson_data\u001b[0m\u001b[0;34m=\u001b[0m\u001b[0mbody\u001b[0m\u001b[0;34m,\u001b[0m \u001b[0mfiles\u001b[0m\u001b[0;34m=\u001b[0m\u001b[0mto_httpx_files\u001b[0m\u001b[0;34m(\u001b[0m\u001b[0mfiles\u001b[0m\u001b[0;34m)\u001b[0m\u001b[0;34m,\u001b[0m \u001b[0;34m**\u001b[0m\u001b[0moptions\u001b[0m\u001b[0;34m\u001b[0m\u001b[0;34m\u001b[0m\u001b[0m\n\u001b[1;32m   1248\u001b[0m         )\n\u001b[0;32m-> 1249\u001b[0;31m         \u001b[0;32mreturn\u001b[0m \u001b[0mcast\u001b[0m\u001b[0;34m(\u001b[0m\u001b[0mResponseT\u001b[0m\u001b[0;34m,\u001b[0m \u001b[0mself\u001b[0m\u001b[0;34m.\u001b[0m\u001b[0mrequest\u001b[0m\u001b[0;34m(\u001b[0m\u001b[0mcast_to\u001b[0m\u001b[0;34m,\u001b[0m \u001b[0mopts\u001b[0m\u001b[0;34m,\u001b[0m \u001b[0mstream\u001b[0m\u001b[0;34m=\u001b[0m\u001b[0mstream\u001b[0m\u001b[0;34m,\u001b[0m \u001b[0mstream_cls\u001b[0m\u001b[0;34m=\u001b[0m\u001b[0mstream_cls\u001b[0m\u001b[0;34m)\u001b[0m\u001b[0;34m)\u001b[0m\u001b[0;34m\u001b[0m\u001b[0;34m\u001b[0m\u001b[0m\n\u001b[0m\u001b[1;32m   1250\u001b[0m \u001b[0;34m\u001b[0m\u001b[0m\n\u001b[1;32m   1251\u001b[0m     def patch(\n",
            "\u001b[0;32m/usr/local/lib/python3.10/dist-packages/anthropic/_base_client.py\u001b[0m in \u001b[0;36mrequest\u001b[0;34m(self, cast_to, options, remaining_retries, stream, stream_cls)\u001b[0m\n\u001b[1;32m    929\u001b[0m         \u001b[0mstream_cls\u001b[0m\u001b[0;34m:\u001b[0m \u001b[0mtype\u001b[0m\u001b[0;34m[\u001b[0m\u001b[0m_StreamT\u001b[0m\u001b[0;34m]\u001b[0m \u001b[0;34m|\u001b[0m \u001b[0;32mNone\u001b[0m \u001b[0;34m=\u001b[0m \u001b[0;32mNone\u001b[0m\u001b[0;34m,\u001b[0m\u001b[0;34m\u001b[0m\u001b[0;34m\u001b[0m\u001b[0m\n\u001b[1;32m    930\u001b[0m     ) -> ResponseT | _StreamT:\n\u001b[0;32m--> 931\u001b[0;31m         return self._request(\n\u001b[0m\u001b[1;32m    932\u001b[0m             \u001b[0mcast_to\u001b[0m\u001b[0;34m=\u001b[0m\u001b[0mcast_to\u001b[0m\u001b[0;34m,\u001b[0m\u001b[0;34m\u001b[0m\u001b[0;34m\u001b[0m\u001b[0m\n\u001b[1;32m    933\u001b[0m             \u001b[0moptions\u001b[0m\u001b[0;34m=\u001b[0m\u001b[0moptions\u001b[0m\u001b[0;34m,\u001b[0m\u001b[0;34m\u001b[0m\u001b[0;34m\u001b[0m\u001b[0m\n",
            "\u001b[0;32m/usr/local/lib/python3.10/dist-packages/anthropic/_base_client.py\u001b[0m in \u001b[0;36m_request\u001b[0;34m(self, cast_to, options, remaining_retries, stream, stream_cls)\u001b[0m\n\u001b[1;32m   1027\u001b[0m \u001b[0;34m\u001b[0m\u001b[0m\n\u001b[1;32m   1028\u001b[0m             \u001b[0mlog\u001b[0m\u001b[0;34m.\u001b[0m\u001b[0mdebug\u001b[0m\u001b[0;34m(\u001b[0m\u001b[0;34m\"Re-raising status error\"\u001b[0m\u001b[0;34m)\u001b[0m\u001b[0;34m\u001b[0m\u001b[0;34m\u001b[0m\u001b[0m\n\u001b[0;32m-> 1029\u001b[0;31m             \u001b[0;32mraise\u001b[0m \u001b[0mself\u001b[0m\u001b[0;34m.\u001b[0m\u001b[0m_make_status_error_from_response\u001b[0m\u001b[0;34m(\u001b[0m\u001b[0merr\u001b[0m\u001b[0;34m.\u001b[0m\u001b[0mresponse\u001b[0m\u001b[0;34m)\u001b[0m \u001b[0;32mfrom\u001b[0m \u001b[0;32mNone\u001b[0m\u001b[0;34m\u001b[0m\u001b[0;34m\u001b[0m\u001b[0m\n\u001b[0m\u001b[1;32m   1030\u001b[0m \u001b[0;34m\u001b[0m\u001b[0m\n\u001b[1;32m   1031\u001b[0m         return self._process_response(\n",
            "\u001b[0;31mBadRequestError\u001b[0m: Error code: 400 - {'type': 'error', 'error': {'type': 'invalid_request_error', 'message': 'Your credit balance is too low to access the Claude API. Please go to Plans & Billing to upgrade or purchase credits.'}}"
          ]
        }
      ]
    },
    {
      "cell_type": "markdown",
      "source": [
        "# 4. Gemini 1.5 Flash"
      ],
      "metadata": {
        "id": "PtCRchzQA7cm"
      }
    },
    {
      "cell_type": "markdown",
      "metadata": {
        "id": "No17Cw5hgx12"
      },
      "source": [
        "### Install Vertex AI SDK for Python\n"
      ]
    },
    {
      "cell_type": "code",
      "execution_count": 18,
      "metadata": {
        "id": "tFy3H3aPgx12"
      },
      "outputs": [],
      "source": [
        "! pip3 install --upgrade --user --quiet google-cloud-aiplatform"
      ]
    },
    {
      "cell_type": "markdown",
      "metadata": {
        "id": "dmWOrTJ3gx13"
      },
      "source": [
        "### Authenticate your notebook environment (Colab only)\n",
        "\n",
        "If you are running this notebook on Google Colab, run the cell below to authenticate your environment.\n"
      ]
    },
    {
      "cell_type": "code",
      "execution_count": 19,
      "metadata": {
        "id": "NyKGtVQjgx13"
      },
      "outputs": [],
      "source": [
        "import sys\n",
        "if \"google.colab\" in sys.modules:\n",
        "    from google.colab import auth\n",
        "    auth.authenticate_user()"
      ]
    },
    {
      "cell_type": "markdown",
      "metadata": {
        "id": "DF4l8DTdWgPY"
      },
      "source": [
        "### Set Google Cloud project information and initialize Vertex AI SDK\n",
        "\n",
        "To get started using Vertex AI, you must have an existing Google Cloud project and [enable the Vertex AI API](https://console.cloud.google.com/flows/enableapi?apiid=aiplatform.googleapis.com).\n",
        "\n",
        "Learn more about [setting up a project and a development environment](https://cloud.google.com/vertex-ai/docs/start/cloud-environment)."
      ]
    },
    {
      "cell_type": "code",
      "execution_count": 20,
      "metadata": {
        "id": "Nqwi-5ufWp_B"
      },
      "outputs": [],
      "source": [
        "PROJECT_ID = \"jrproject-402905\"  # @param {type:\"string\"}\n",
        "LOCATION = \"us-central1\"  # @param {type:\"string\"}\n",
        "MODEL_ID = \"gemini-1.5-flash-preview-0514\"  # @param {type:\"string\"}\n",
        "import vertexai\n",
        "vertexai.init(project=PROJECT_ID, location=LOCATION)"
      ]
    },
    {
      "cell_type": "markdown",
      "source": [
        "## Gemini 1.5 Flash\n",
        "\n",
        "**Overview**\n",
        "\n",
        "Gemini 1.5 Flash is a foundation model that performs well at a variety of multimodal tasks such as visual understanding, classification, summarization, and creating content from image, audio and video. It's adept at processing visual and text inputs such as photographs, documents, infographics, and screenshots.\n",
        "\n",
        "Gemini 1.5 Flash is designed for high-volume, high-frequency tasks where cost and latency matter. On most common tasks, Flash achieves comparable quality to other Gemini Pro models at a significantly reduced cost. Flash is well-suited for applications like chat assistants and on-demand content generation where speed and scale matter."
      ],
      "metadata": {
        "id": "AzeSs139AzWG"
      }
    },
    {
      "cell_type": "code",
      "execution_count": 21,
      "metadata": {
        "id": "lslYAvw37JGQ"
      },
      "outputs": [],
      "source": [
        "from vertexai.generative_models import GenerationConfig, GenerativeModel\n",
        "\n",
        "# load the model\n",
        "model = GenerativeModel(MODEL_ID, system_instruction=[ \"You are a helpful assistant.\",\"Your answer questions in a concise way\",],)\n",
        "\n",
        "# Set model parameters\n",
        "generation_config = GenerationConfig( temperature=0.9, top_k=32,)\n",
        "\n",
        "def generate_response(prompt,model=model):\n",
        "  contents = [prompt]\n",
        "  response = model.generate_content(contents, generation_config=generation_config,)\n",
        "  return response.text"
      ]
    },
    {
      "cell_type": "code",
      "source": [
        "response = generate_response(\"Write a python code to print 'Hello World'\")\n",
        "print(response)"
      ],
      "metadata": {
        "id": "_OsroYzHBNnE",
        "outputId": "1337ad18-182e-45aa-ec20-371169457eb6",
        "colab": {
          "base_uri": "https://localhost:8080/"
        }
      },
      "execution_count": 22,
      "outputs": [
        {
          "output_type": "stream",
          "name": "stdout",
          "text": [
            "```python\n",
            "print(\"Hello World\")\n",
            "```\n"
          ]
        }
      ]
    },
    {
      "cell_type": "markdown",
      "source": [
        "## PaLM 2 Chat Bison\n",
        "\n",
        "**Overview**\n",
        "The chat-bison model is a large language model that excels at language understanding, language generation and conversations. This chat model is fine-tuned to conduct natural multi-turn conversations.\n",
        "\n",
        "The PaLM 2 Chat Bison is ideal for text tasks that require back-and-forth interactions. For text tasks that can be completed with one API response (without the need for continuous conversation), use the PaLM 2 Text Bison.\n",
        "\n",
        "**Model capabilities**\n",
        "\n",
        "* Text in, text out.\n",
        "* Generates text in a conversational format.\n",
        "* Optimized for natural language tasks like chat bots or help agents.\n",
        "* Can handle zero, one, and few-shot tasks (you provide no examples, one example, or several examples to inform model inference).\n",
        "\n",
        "**Model properties**\n",
        "\n",
        "* Max input token: 4,096\n",
        "* Max output tokens: 1,024\n",
        "* Training data: up to Feb 2023\n",
        "* Max turns : 2,500\n",
        "\n",
        "**Model safety**\n",
        "\n",
        "* No adjustable safety settings.\n",
        "* Error message instead of generated response for filtered input/output.\n",
        "* No safety rating or score returned with response.\n",
        "\n"
      ],
      "metadata": {
        "id": "WjIcOx69Ayce"
      }
    },
    {
      "cell_type": "code",
      "source": [
        "Model_ID = \"chat-bison@002\"\n",
        "# load the model\n",
        "model = GenerativeModel(MODEL_ID, system_instruction=[ \"You are a helpful assistant.\",\"Your answer questions in a concise way\",],)\n",
        "\n",
        "# Set model parameters\n",
        "generation_config = GenerationConfig( temperature=0.9, top_k=32,)\n",
        "\n",
        "def generate_response(prompt,model=model):\n",
        "  contents = [prompt]\n",
        "  response = model.generate_content(contents, generation_config=generation_config,)\n",
        "  return response.text\n",
        "\n",
        "response = generate_response(\"Write a poem on how beautiful city Manila is\")\n",
        "print(response)"
      ],
      "metadata": {
        "id": "JZM2hAxzAxTc",
        "outputId": "a89f76ed-bbdd-4fac-8438-297d91ad7c31",
        "colab": {
          "base_uri": "https://localhost:8080/"
        }
      },
      "execution_count": 23,
      "outputs": [
        {
          "output_type": "stream",
          "name": "stdout",
          "text": [
            "Manila, a city of vibrant hues,\n",
            "Where history whispers through ancient views.\n",
            "From Intramuros' walls, a story unfolds,\n",
            "Of Spanish grandeur, tales yet untold.\n",
            "\n",
            "The Bay's expanse, a shimmering sight,\n",
            "With sunset's gold, a breathtaking light.\n",
            "Rizal Park, a green oasis serene,\n",
            "Where laughter echoes, life's vibrant scene.\n",
            "\n",
            "Manila's heart, a bustling affair,\n",
            "A symphony of sounds, beyond compare.\n",
            "Jeepneys honk, a colorful parade,\n",
            "Through narrow streets, their journey made.\n",
            "\n",
            "From street food stalls to grand hotels,\n",
            "Manila's charm, a magic spell.\n",
            "A city of contrasts, old and new,\n",
            "A tapestry of beauty, forever true. \n",
            "\n"
          ]
        }
      ]
    },
    {
      "cell_type": "markdown",
      "source": [
        "## Calude Sonnet 3.5 by Anthropic\n",
        "**Overview**\n",
        "Anthropic's most powerful AI model. Claude 3.5 Sonnet raises the industry bar for intelligence, outperforming competitor models and Claude 3 Opus on a wide range of evaluations, with the speed and cost of our mid-tier model, Claude 3 Sonnet. Claude 3.5 Sonnet shows us the frontier of what's possible with generative AI.\n",
        "\n",
        "All Claude 3 models can process images and return text outputs, and feature a 200K context window.\n",
        "\n",
        "**Use cases**\n",
        "* Coding: When instructed and provided with the relevant tools, Claude 3.5 Sonnet can independently write, edit, and execute code with sophisticated reasoning and troubleshooting capabilities. It streamlines code translations, a key component of developer workflows and IT strategy, offering enhanced speed and accuracy.\n",
        "* Customer support: Claude 3.5 Sonnet handles intricate inquiries by understanding user context and orchestrating multi-step workflows. This enables round-the-clock support, faster response times, natural-sounding interactions, and improved customer satisfaction.\n",
        "* Data science & analysis: Claude 3.5 Sonnet enhances human expertise in data science by effortlessly navigating unstructured data and leveraging multiple tools to generate insights. It produces high-quality statistical visualizations and actionable predictions, ranging from business strategies to real-time product trends.\n",
        "* Visual processing: Claude 3.5 Sonnet excels in processing images, particularly in interpreting charts and graphs that require visual understanding. It accurately transcribes text from imperfect images—a core capability for retail, logistics, and financial services, where AI may garner more insights from an image, graphic or illustration than from text alone.\n",
        "* Writing: Claude has established itself as the leading LLM for creative writing, and Claude 3.5 Sonnet represents a step-change in Claude's ability to understand nuance and humor. The model produces high-quality written content with a more natural, human-like tone that feels more authentic and relatable."
      ],
      "metadata": {
        "id": "4id7Qr2SSu-K"
      }
    },
    {
      "cell_type": "code",
      "source": [
        "!pip install anthropic[vertex] --quiet"
      ],
      "metadata": {
        "id": "kwEryKUdBZM-",
        "outputId": "060b7bfa-1f45-455b-d105-a459e9840c5d",
        "colab": {
          "base_uri": "https://localhost:8080/"
        }
      },
      "execution_count": 24,
      "outputs": [
        {
          "output_type": "stream",
          "name": "stdout",
          "text": [
            "\u001b[2K     \u001b[90m━━━━━━━━━━━━━━━━━━━━━━━━━━━━━━━━━━━━━━━━\u001b[0m \u001b[32m863.5/863.5 kB\u001b[0m \u001b[31m4.2 MB/s\u001b[0m eta \u001b[36m0:00:00\u001b[0m\n",
            "\u001b[2K     \u001b[90m━━━━━━━━━━━━━━━━━━━━━━━━━━━━━━━━━━━━━━━━\u001b[0m \u001b[32m318.9/318.9 kB\u001b[0m \u001b[31m26.9 MB/s\u001b[0m eta \u001b[36m0:00:00\u001b[0m\n",
            "\u001b[?25h"
          ]
        }
      ]
    },
    {
      "cell_type": "code",
      "source": [
        "from anthropic import AnthropicVertex\n",
        "\n",
        "LOCATION=\"europe-west1\" # or \"us-east5\"\n",
        "\n",
        "client = AnthropicVertex(region=LOCATION, project_id=PROJECT_ID)\n",
        "\n",
        "message = client.messages.create(\n",
        "  max_tokens=1024,\n",
        "  messages=[\n",
        "    {\n",
        "      \"role\": \"user\",\n",
        "      \"content\": \"Send me a recipe for banana bread.\",\n",
        "    }\n",
        "  ],\n",
        "  model=\"claude-3-5-sonnet@20240620\",\n",
        ")\n",
        "print(message.model_dump_json(indent=2))"
      ],
      "metadata": {
        "colab": {
          "base_uri": "https://localhost:8080/"
        },
        "id": "13P0bAhP4YFT",
        "outputId": "764f1330-b0c4-49bf-8572-221d7f1d84df"
      },
      "execution_count": 25,
      "outputs": [
        {
          "output_type": "stream",
          "name": "stdout",
          "text": [
            "{\n",
            "  \"id\": \"msg_vrtx_01WZPdz4HCVo8GApjyN7pMne\",\n",
            "  \"content\": [\n",
            "    {\n",
            "      \"text\": \"Here's a simple recipe for delicious banana bread:\\n\\nIngredients:\\n- 2-3 ripe bananas, mashed\\n- 1/3 cup melted butter\\n- 1/2 cup sugar\\n- 1 egg\\n- 1 teaspoon vanilla extract\\n- 1 teaspoon baking soda\\n- Pinch of salt\\n- 1 1/2 cups all-purpose flour\\n- Optional: 1/2 cup chopped nuts or chocolate chips\\n\\nInstructions:\\n1. Preheat oven to 350°F (175°C). Grease a 4x8-inch loaf pan.\\n\\n2. In a large bowl, mix the mashed bananas with melted butter.\\n\\n3. Stir in sugar, egg, and vanilla extract.\\n\\n4. Sprinkle baking soda and salt over the mixture and stir in.\\n\\n5. Add flour and mix until just combined. Do not overmix.\\n\\n6. Fold in optional nuts or chocolate chips if using.\\n\\n7. Pour batter into the prepared loaf pan.\\n\\n8. Bake for 50-60 minutes, or until a toothpick inserted into the center comes out clean.\\n\\n9. Allow to cool in the pan for a few minutes, then remove and let cool completely on a wire rack.\\n\\nEnjoy your homemade banana bread!\",\n",
            "      \"type\": \"text\"\n",
            "    }\n",
            "  ],\n",
            "  \"model\": \"claude-3-5-sonnet-20240620\",\n",
            "  \"role\": \"assistant\",\n",
            "  \"stop_reason\": \"end_turn\",\n",
            "  \"stop_sequence\": null,\n",
            "  \"type\": \"message\",\n",
            "  \"usage\": {\n",
            "    \"input_tokens\": 15,\n",
            "    \"output_tokens\": 315\n",
            "  }\n",
            "}\n"
          ]
        }
      ]
    },
    {
      "cell_type": "code",
      "source": [
        "print(message.content[0].text)"
      ],
      "metadata": {
        "colab": {
          "base_uri": "https://localhost:8080/"
        },
        "id": "KMNuGyxT4eC3",
        "outputId": "5cf99d39-e7e8-45f6-eff7-307eac235826"
      },
      "execution_count": 26,
      "outputs": [
        {
          "output_type": "stream",
          "name": "stdout",
          "text": [
            "Here's a simple recipe for delicious banana bread:\n",
            "\n",
            "Ingredients:\n",
            "- 2-3 ripe bananas, mashed\n",
            "- 1/3 cup melted butter\n",
            "- 1/2 cup sugar\n",
            "- 1 egg\n",
            "- 1 teaspoon vanilla extract\n",
            "- 1 teaspoon baking soda\n",
            "- Pinch of salt\n",
            "- 1 1/2 cups all-purpose flour\n",
            "- Optional: 1/2 cup chopped nuts or chocolate chips\n",
            "\n",
            "Instructions:\n",
            "1. Preheat oven to 350°F (175°C). Grease a 4x8-inch loaf pan.\n",
            "\n",
            "2. In a large bowl, mix the mashed bananas with melted butter.\n",
            "\n",
            "3. Stir in sugar, egg, and vanilla extract.\n",
            "\n",
            "4. Sprinkle baking soda and salt over the mixture and stir in.\n",
            "\n",
            "5. Add flour and mix until just combined. Do not overmix.\n",
            "\n",
            "6. Fold in optional nuts or chocolate chips if using.\n",
            "\n",
            "7. Pour batter into the prepared loaf pan.\n",
            "\n",
            "8. Bake for 50-60 minutes, or until a toothpick inserted into the center comes out clean.\n",
            "\n",
            "9. Allow to cool in the pan for a few minutes, then remove and let cool completely on a wire rack.\n",
            "\n",
            "Enjoy your homemade banana bread!\n"
          ]
        }
      ]
    },
    {
      "cell_type": "code",
      "source": [],
      "metadata": {
        "id": "8pl3pFyT4jbn"
      },
      "execution_count": null,
      "outputs": []
    }
  ]
}