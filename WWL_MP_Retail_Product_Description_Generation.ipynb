{
  "nbformat": 4,
  "nbformat_minor": 0,
  "metadata": {
    "colab": {
      "provenance": [],
      "authorship_tag": "ABX9TyOfUUn91XgRn86gD41TTNa9",
      "include_colab_link": true
    },
    "kernelspec": {
      "name": "python3",
      "display_name": "Python 3"
    },
    "language_info": {
      "name": "python"
    }
  },
  "cells": [
    {
      "cell_type": "markdown",
      "metadata": {
        "id": "view-in-github",
        "colab_type": "text"
      },
      "source": [
        "<a href=\"https://colab.research.google.com/github/anshupandey/Working_with_Large_Language_models/blob/main/WWL_MP_Retail_Product_Description_Generation.ipynb\" target=\"_parent\"><img src=\"https://colab.research.google.com/assets/colab-badge.svg\" alt=\"Open In Colab\"/></a>"
      ]
    },
    {
      "cell_type": "markdown",
      "source": [
        "# Industry Background\n",
        "\n",
        "## Company Name: TechRetail Solutions\n",
        "\n",
        "**TechRetail Solutions** is a leading e-commerce platform that connects vendors with customers worldwide. The company offers a wide range of products across various categories, including electronics, fashion, home appliances, and more. TechRetail Solutions is known for its user-friendly interface, extensive product catalog, and commitment to providing a seamless shopping experience.\n",
        "\n",
        "# Problem Statement\n",
        "\n",
        "One of the critical challenges faced by TechRetail Solutions is ensuring that vendors provide high-quality, clear, and accurate product descriptions. Many vendors struggle to write descriptions that meet the platform's standards and format requirements. This inconsistency leads to a suboptimal user experience, as poorly written descriptions can confuse customers, reduce trust, and ultimately impact sales.\n",
        "\n",
        "The lack of standardized, engaging, and informative product descriptions also hampers the platform's ability to showcase products effectively. To enhance user experience and improve sales, TechRetail Solutions needs a solution that can help vendors generate high-quality product descriptions effortlessly.\n",
        "\n",
        "# Solution Approach\n",
        "\n",
        "To address this challenge, TechRetail Solutions aims to leverage Large Language Models (LLMs) to automate the generation of product descriptions. By using advanced LLMs, the company can ensure that product descriptions are not only accurate and informative but also engaging and consistent with the platform's standards.\n",
        "\n",
        "The solution involves evaluating different LLMs to identify the most suitable model for generating product descriptions. The evaluation will be based on key metrics such as **BLEU**, **ROUGE**, human evaluation, latency, and resource usage. By selecting the best-performing LLM, TechRetail Solutions can provide vendors with a tool that generates high-quality product descriptions, enhancing the overall user experience and boosting sales.\n",
        "\n",
        "# Dataset Overview\n",
        "\n",
        "The dataset for evaluating LLMs consists of a diverse set of products across various categories. Each product scenario includes the product name, a brief description, and two high-quality reference descriptions. This dataset will be used to assess the performance of different LLMs based on their ability to generate product descriptions that closely match the reference descriptions.\n",
        "\n",
        "## Example Dataset:\n",
        "\n",
        "**Product 1: Wireless Earbuds**\n",
        "\n",
        "- **Brief Description:** High-fidelity wireless earbuds with noise-canceling technology and long battery life.\n",
        "\n",
        "- **Reference Description 1:** \"Experience the ultimate in wireless freedom with our high-fidelity earbuds. Featuring noise-canceling technology and up to 20 hours of battery life, these earbuds are perfect for music lovers on the go.\"\n",
        "\n",
        "- **Reference Description 2:** \"Our wireless earbuds offer superior sound quality and comfort. With easy touch controls and a sleek design, enjoy your favorite tunes anytime, anywhere.\"\n"
      ],
      "metadata": {
        "id": "kSVgTWPBcZnZ"
      }
    },
    {
      "cell_type": "markdown",
      "source": [
        "Dataset Link: https://github.com/anshupandey/Working_with_Large_Language_models/blob/main/retail_product_description_dataset.json"
      ],
      "metadata": {
        "id": "wdqF-ZvFccV4"
      }
    },
    {
      "cell_type": "code",
      "execution_count": null,
      "metadata": {
        "id": "Z6EkW0w5cYcY"
      },
      "outputs": [],
      "source": []
    },
    {
      "cell_type": "markdown",
      "source": [
        "## Solution: Evaluating LLMs for Retail Product Description Generation\n",
        "\n",
        "### Objective\n",
        "Select the best LLM for generating high-quality, engaging, and accurate product descriptions.\n",
        "\n",
        "### Metrics\n",
        "- **BLEU**: Aim for a BLEU score above 0.3.\n",
        "- **ROUGE**: Aim for a ROUGE-L score above 0.5.\n",
        "- **Perplexity**: Average score less than 20.\n",
        "- **Latency**: Less than 2 seconds per description.\n",
        "- **Model Size and Resource Usage**: Fit within available computational resources.\n",
        "\n",
        "### Steps\n",
        "\n",
        "### 1. Define Evaluation Criteria\n",
        "- BLEU score\n",
        "- ROUGE score\n",
        "- Perplexity Score\n",
        "- Latency\n",
        "- Model Size and Resource Usage\n",
        "\n",
        "### 2. Benchmarking\n",
        "- Select candidate LLMs. (Gemini 1.5 Flash, PaLM 2, GPT 35 Turbo)\n",
        "- Load the benchmark dataset.\n",
        "\n",
        "\n",
        "### 4. Evaluate LLMs\n",
        "1. **Generate Descriptions**\n",
        "   - Use each LLM to generate descriptions.\n",
        "2. **Calculate Metrics**\n",
        "   - BLEU Score\n",
        "   - ROUGE Score\n",
        "   - Perplexity Score\n",
        "3. **Analyze Results**\n",
        "   - Compare metrics.\n",
        "   - Identify the best-performing model.\n",
        "\n"
      ],
      "metadata": {
        "id": "Si_yZWVHcoNn"
      }
    },
    {
      "cell_type": "code",
      "source": [],
      "metadata": {
        "id": "1bFXH6sqdM8f"
      },
      "execution_count": null,
      "outputs": []
    }
  ]
}