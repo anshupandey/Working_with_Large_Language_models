{
  "nbformat": 4,
  "nbformat_minor": 0,
  "metadata": {
    "colab": {
      "provenance": [],
      "authorship_tag": "ABX9TyMAmEsqnNjzVPsXl4UZpaw2",
      "include_colab_link": true
    },
    "kernelspec": {
      "name": "python3",
      "display_name": "Python 3"
    },
    "language_info": {
      "name": "python"
    }
  },
  "cells": [
    {
      "cell_type": "markdown",
      "metadata": {
        "id": "view-in-github",
        "colab_type": "text"
      },
      "source": [
        "<a href=\"https://colab.research.google.com/github/anshupandey/Working_with_Large_Language_models/blob/main/WWL_C10_Accessing_LLMs.ipynb\" target=\"_parent\"><img src=\"https://colab.research.google.com/assets/colab-badge.svg\" alt=\"Open In Colab\"/></a>"
      ]
    },
    {
      "cell_type": "markdown",
      "source": [
        "#1. OpenAI GPT"
      ],
      "metadata": {
        "id": "CCN-QkJL_dEs"
      }
    },
    {
      "cell_type": "code",
      "execution_count": 10,
      "metadata": {
        "id": "KB85L9Fs6jMM"
      },
      "outputs": [],
      "source": [
        "!pip install openai --quiet"
      ]
    },
    {
      "cell_type": "code",
      "execution_count": 11,
      "metadata": {
        "id": "noj0x1VU6zlA"
      },
      "outputs": [],
      "source": [
        "api_key = \"xxxxxxxx\" # replace this with your openai api key\n",
        "# demo key: sk-proj-DoVpTQ5xUu3XfRva9iHJT3BlbkFJWemfRPTKStFlCUzgD6En\n",
        "model_name = \"gpt-3.5-turbo\""
      ]
    },
    {
      "cell_type": "code",
      "execution_count": 12,
      "metadata": {
        "id": "BC0L6Sa6LkGm"
      },
      "outputs": [],
      "source": [
        "from openai import OpenAI\n",
        "client = OpenAI(api_key=api_key)"
      ]
    },
    {
      "cell_type": "code",
      "execution_count": 13,
      "metadata": {
        "id": "y_ba7QKuLkGm",
        "outputId": "cec13f95-e269-4175-f619-ba63777d06fb",
        "colab": {
          "base_uri": "https://localhost:8080/"
        }
      },
      "outputs": [
        {
          "output_type": "stream",
          "name": "stdout",
          "text": [
            "{\n",
            "  \"id\": \"chatcmpl-9ev8zzohn4HuBOqz1rp96xW8hNoaD\",\n",
            "  \"choices\": [\n",
            "    {\n",
            "      \"finish_reason\": \"stop\",\n",
            "      \"index\": 0,\n",
            "      \"logprobs\": null,\n",
            "      \"message\": {\n",
            "        \"content\": \"You can use the `os` module in Python to list all files in a directory. Here is a simple example:\\n\\n```python\\nimport os\\n\\ndirectory = '/path/to/directory'\\n\\n# List all files in the directory\\nfiles = os.listdir(directory)\\n\\n# Print each file in the directory\\nfor file in files:\\n    print(file)\\n```\\n\\nReplace `'/path/to/directory'` with the path to the directory you want to list. This code will print out all the files in that directory.\",\n",
            "        \"role\": \"assistant\",\n",
            "        \"function_call\": null,\n",
            "        \"tool_calls\": null\n",
            "      }\n",
            "    }\n",
            "  ],\n",
            "  \"created\": 1719539809,\n",
            "  \"model\": \"gpt-3.5-turbo-0125\",\n",
            "  \"object\": \"chat.completion\",\n",
            "  \"service_tier\": null,\n",
            "  \"system_fingerprint\": null,\n",
            "  \"usage\": {\n",
            "    \"completion_tokens\": 103,\n",
            "    \"prompt_tokens\": 19,\n",
            "    \"total_tokens\": 122\n",
            "  }\n",
            "}\n"
          ]
        }
      ],
      "source": [
        "result = client.chat.completions.create(\n",
        "    model=model_name,  # e.g. gpt-35-instant\n",
        "    max_tokens=500,\n",
        "    temperature=0.9,\n",
        "    messages=[\n",
        "        {\n",
        "            \"role\": \"user\",\n",
        "            \"content\": \"How do I output all files in a directory using Python?\",\n",
        "        },\n",
        "    ],\n",
        ")\n",
        "print(result.model_dump_json(indent=2))"
      ]
    },
    {
      "cell_type": "code",
      "execution_count": 14,
      "metadata": {
        "id": "-cNZj6nuLkGm",
        "outputId": "4176084c-1b10-4c99-bef9-5096253a16db",
        "colab": {
          "base_uri": "https://localhost:8080/"
        }
      },
      "outputs": [
        {
          "output_type": "stream",
          "name": "stdout",
          "text": [
            "You can use the `os` module in Python to list all files in a directory. Here is a simple example:\n",
            "\n",
            "```python\n",
            "import os\n",
            "\n",
            "directory = '/path/to/directory'\n",
            "\n",
            "# List all files in the directory\n",
            "files = os.listdir(directory)\n",
            "\n",
            "# Print each file in the directory\n",
            "for file in files:\n",
            "    print(file)\n",
            "```\n",
            "\n",
            "Replace `'/path/to/directory'` with the path to the directory you want to list. This code will print out all the files in that directory.\n"
          ]
        }
      ],
      "source": [
        "print(result.choices[0].message.content)"
      ]
    },
    {
      "cell_type": "code",
      "execution_count": 15,
      "metadata": {
        "id": "0WAxkVWZ7LRi"
      },
      "outputs": [],
      "source": [
        "# creating a function to get outcome\n",
        "def generate_response(prompt,model=model_name):\n",
        "  messages = [{\"role\":\"user\",\"content\":prompt}]\n",
        "  response = client.chat.completions.create(\n",
        "      model = model,\n",
        "      messages = messages,\n",
        "      temperature=0\n",
        "  )\n",
        "  return response.choices[0].message.content\n"
      ]
    },
    {
      "cell_type": "code",
      "execution_count": 16,
      "metadata": {
        "colab": {
          "base_uri": "https://localhost:8080/"
        },
        "id": "tLgNfQbz7xpQ",
        "outputId": "56299db5-9e17-48c3-9ad7-d92ae4b7c5b0"
      },
      "outputs": [
        {
          "output_type": "stream",
          "name": "stdout",
          "text": [
            "Manila, city of beauty and grace,\n",
            "With its bustling streets and vibrant pace.\n",
            "Skyscrapers reaching for the sky,\n",
            "A sight that always catches the eye.\n",
            "\n",
            "The Manila Bay, with its golden sunset,\n",
            "A breathtaking view that one can't forget.\n",
            "The sound of jeepneys and tricycles,\n",
            "Echoing through the city's bustling streets.\n",
            "\n",
            "Intramuros, with its ancient walls,\n",
            "A reminder of the city's storied past.\n",
            "The churches and cathedrals, standing tall,\n",
            "A testament to the faith that will forever last.\n",
            "\n",
            "The food, oh the food, so delicious and diverse,\n",
            "From adobo to halo-halo, a culinary universe.\n",
            "The people, warm and welcoming,\n",
            "Their smiles bright and ever beaming.\n",
            "\n",
            "Manila, city of dreams and hope,\n",
            "A place where cultures and traditions interlope.\n",
            "A city that never fails to inspire,\n",
            "With its beauty that never tires.\n",
            "\n",
            "So here's to Manila, a city so grand,\n",
            "A place that will always hold a special stand.\n",
            "A city that's beautiful in every way,\n",
            "A city that will forever stay.\n"
          ]
        }
      ],
      "source": [
        "response = generate_response(\"Write a poem on how beautiful city Manila is\")\n",
        "print(response)"
      ]
    },
    {
      "cell_type": "code",
      "source": [
        "response = generate_response(\"Write a poem on how beautiful city Manila is\",model='gpt-4o')\n",
        "print(response)"
      ],
      "metadata": {
        "id": "XXc38RMb_0lk",
        "outputId": "a0bccbbf-dbd8-4bcc-dc9b-14115c3232c3",
        "colab": {
          "base_uri": "https://localhost:8080/"
        }
      },
      "execution_count": 17,
      "outputs": [
        {
          "output_type": "stream",
          "name": "stdout",
          "text": [
            "In the heart of the archipelago, where the sun kisses the sea,\n",
            "Lies a city of vibrant hues, where history and future meet.\n",
            "Manila, oh Manila, with your streets alive and free,\n",
            "A tapestry of cultures, where every corner is a treat.\n",
            "\n",
            "From the ancient walls of Intramuros, echoing tales of yore,\n",
            "To the bustling markets of Divisoria, where treasures are in store.\n",
            "The Pasig River winds through, a lifeline of the past,\n",
            "While skyscrapers rise above, a testament to dreams so vast.\n",
            "\n",
            "Jeepneys painted with stories, weaving through the lanes,\n",
            "Church bells mingling with laughter, in sun or in rains.\n",
            "Rizal Park stands proud, a tribute to a hero's fight,\n",
            "While the sunset at Manila Bay paints the sky with golden light.\n",
            "\n",
            "Binondo's flavors entice, a feast for every sense,\n",
            "Chinatown's vibrant pulse, where tradition is immense.\n",
            "The music of the streets, a symphony of life,\n",
            "From the serenades of harana to the rhythm of daily strife.\n",
            "\n",
            "In the heart of every Manileño, beats a spirit bold and true,\n",
            "Resilient and warm, with a heart that always grew.\n",
            "Through trials and triumphs, the city stands tall,\n",
            "A beacon of hope, a home for all.\n",
            "\n",
            "Manila, oh Manila, your beauty is profound,\n",
            "In every smile, in every sound.\n",
            "A city of contrasts, yet harmoniously whole,\n",
            "A place that captures the heart, and forever holds the soul.\n"
          ]
        }
      ]
    },
    {
      "cell_type": "code",
      "source": [
        "# creating a function to get outcome\n",
        "def generate_response(messages,model=model_name):\n",
        "  response = client.chat.completions.create(\n",
        "      model = model,\n",
        "      messages = messages,\n",
        "      temperature=0\n",
        "  )\n",
        "  return response.choices[0].message.content"
      ],
      "metadata": {
        "id": "ura2Fh_wlH_w"
      },
      "execution_count": 22,
      "outputs": []
    },
    {
      "cell_type": "code",
      "source": [
        "messages = [{\"role\":\"system\",\"content\":\"You are a helpful assistant\"},]\n",
        "while True:\n",
        "  user_input = input(\"User: \")\n",
        "  if user_input == \"exit\":\n",
        "    break\n",
        "  messages.append({\"role\":\"user\",\"content\":user_input})\n",
        "  response = generate_response(messages)\n",
        "  messages.append({\"role\":\"assistant\",\"content\":response})\n",
        "  print(f\"Assistant: {response}\")"
      ],
      "metadata": {
        "colab": {
          "base_uri": "https://localhost:8080/"
        },
        "id": "0hbK-jSIlQNS",
        "outputId": "a2b8b49f-4d8b-4e23-cf2c-c74480607894"
      },
      "execution_count": 23,
      "outputs": [
        {
          "name": "stdout",
          "output_type": "stream",
          "text": [
            "User: Hi\n",
            "Assistant: Hello! How can I assist you today?\n",
            "User: My name is Anshu\n",
            "Assistant: Nice to meet you, Anshu! How can I help you today?\n",
            "User: how different Manila timezone is from Jakarta time zone?\n",
            "Assistant: Manila, Philippines is in the Philippine Time Zone (PHT), which is 8 hours ahead of Coordinated Universal Time (UTC+8). Jakarta, Indonesia is in the Western Indonesia Time Zone (WIB), which is 7 hours ahead of Coordinated Universal Time (UTC+7). \n",
            "\n",
            "Therefore, Manila is 1 hour ahead of Jakarta.\n",
            "User: what is my name?\n",
            "Assistant: Your name is Anshu.\n",
            "User: exit\n"
          ]
        }
      ]
    },
    {
      "cell_type": "code",
      "source": [
        "messages"
      ],
      "metadata": {
        "colab": {
          "base_uri": "https://localhost:8080/"
        },
        "id": "VFDhBJSzmCrw",
        "outputId": "789f4354-31e1-485b-f5e5-2c8d6dc6b7ea"
      },
      "execution_count": 24,
      "outputs": [
        {
          "output_type": "execute_result",
          "data": {
            "text/plain": [
              "[{'role': 'system', 'content': 'You are a helpful assistant'},\n",
              " {'role': 'user', 'content': 'Hi'},\n",
              " {'role': 'assistant', 'content': 'Hello! How can I assist you today?'},\n",
              " {'role': 'user', 'content': 'My name is Anshu'},\n",
              " {'role': 'assistant',\n",
              "  'content': 'Nice to meet you, Anshu! How can I help you today?'},\n",
              " {'role': 'user',\n",
              "  'content': 'how different Manila timezone is from Jakarta time zone?'},\n",
              " {'role': 'assistant',\n",
              "  'content': 'Manila, Philippines is in the Philippine Time Zone (PHT), which is 8 hours ahead of Coordinated Universal Time (UTC+8). Jakarta, Indonesia is in the Western Indonesia Time Zone (WIB), which is 7 hours ahead of Coordinated Universal Time (UTC+7). \\n\\nTherefore, Manila is 1 hour ahead of Jakarta.'},\n",
              " {'role': 'user', 'content': 'what is my name?'},\n",
              " {'role': 'assistant', 'content': 'Your name is Anshu.'}]"
            ]
          },
          "metadata": {},
          "execution_count": 24
        }
      ]
    },
    {
      "cell_type": "markdown",
      "source": [
        "# 2. Together AI"
      ],
      "metadata": {
        "id": "nxtqvAaUoMVU"
      }
    },
    {
      "cell_type": "code",
      "source": [
        "import os\n",
        "os.environ['TOGETHER_API_KEY'] = \"xxxxxxxxxxxxxxxxx\""
      ],
      "metadata": {
        "id": "DR5OBPFxoQKy"
      },
      "execution_count": 29,
      "outputs": []
    },
    {
      "cell_type": "code",
      "source": [
        "!pip install together --quiet"
      ],
      "metadata": {
        "id": "dsLNW8KQq0yb"
      },
      "execution_count": 27,
      "outputs": []
    },
    {
      "cell_type": "markdown",
      "source": [
        "## META LLAMA 3 8B CHAT\n",
        "BY: META\n",
        "\n",
        "LICENSE: LLAMA-3 (OTHER)\n",
        "\n",
        "Llama 3 is an auto-regressive language model that uses an optimized transformer architecture. The tuned versions use supervised fine-tuning (SFT) and reinforcement learning with human feedback (RLHF) to align with human preferences for helpfulness and safety."
      ],
      "metadata": {
        "id": "N9Pf7zPyqma2"
      }
    },
    {
      "cell_type": "code",
      "source": [
        "import os\n",
        "from together import Together\n",
        "\n",
        "client = Together()\n",
        "\n",
        "response = client.chat.completions.create(\n",
        "    model=\"meta-llama/Llama-3-8b-chat-hf\",\n",
        "    messages=[{\"role\": \"user\", \"content\": \"What are some fun things to do in Manila?\"}],\n",
        ")\n",
        "print(response.choices[0].message.content)"
      ],
      "metadata": {
        "colab": {
          "base_uri": "https://localhost:8080/"
        },
        "id": "nrEybRhjoP38",
        "outputId": "f88f8e81-9f93-4ba3-ff34-86ce12fd7f4d"
      },
      "execution_count": 31,
      "outputs": [
        {
          "output_type": "stream",
          "name": "stdout",
          "text": [
            "Manila, the vibrant capital of the Philippines, offers a mix of cultural, historical, and entertainment attractions that cater to different interests and ages. Here are some fun things to do in Manila:\n",
            "\n",
            "1. **Intramuros**: Explore the historic walled city of Intramuros, a must-visit destination in Manila. Take a kalesa (horse-drawn carriage) tour or walk along the cobblestone streets to visit landmarks like Fort Santiago, San Agustin Church, and the Manila Cathedral.\n",
            "2. **National Museum**: Discover the country's rich history and culture at the National Museum, which features a collection of artifacts, exhibits, and interactive displays.\n",
            "3. **Rizal Park**: Visit Rizal Park, also known as Luneta Park, a popular spot for picnics, jogging, and people-watching. The park is home to several monuments, including the Rizal Monument, which honors the country's national hero.\n",
            "4. **Mall hopping**: Manila is known for its shopping malls, which offer a wide range of dining, entertainment, and retail options. Some popular malls include Greenhills Shopping Center, SM Mall of Asia, and Bonifacio High Street.\n",
            "5. **Food trip**: Manila is a foodie's paradise, with a diverse range of cuisines to try. Visit the famous street food markets like Mercato Centrale or try popular restaurants like Jollibee, Chowking, or Max's Restaurant.\n",
            "6. **Nightlife**: Manila's nightlife scene is lively, with many bars, clubs, and lounges to choose from. Some popular spots include Poblacion, Makati, and the Entertainment City complex.\n",
            "7. **Visit the Manila Ocean Park**: Get up close and personal with marine life at the Manila Ocean Park, which features a stunning aquarium and interactive exhibits.\n",
            "8. **Take a day trip to Corregidor Island**: Explore the historic Corregidor Island, which played a significant role in the country's history during World War II. Take a ferry from Manila and enjoy the island's scenic views, museums, and historical landmarks.\n",
            "9. **Go on a shopping spree at Divisoria**: Visit Divisoria, a popular shopping district in Manila, where you can find affordable prices on clothing, accessories, and souvenirs.\n",
            "10. **Attend a festival or event**: Manila hosts various festivals and events throughout the year, such as the Manila International Book Fair, the Philippine International Pyromusical Competition, and the Manila FAME.\n",
            "11. **Visit the Ayala Museum**: Learn about the country's history and culture at the Ayala Museum, which features a collection of artifacts, exhibits, and interactive displays.\n",
            "12. **Take a stroll along the Pasig River**: Enjoy a relaxing walk along the Pasig River, which offers stunning views of the city skyline and the historic Intramuros district.\n",
            "13. **Visit the Star City amusement park**: Have fun at Star City, an amusement park that features thrill rides, games, and attractions for all ages.\n",
            "14. **Explore the Chinatown**: Visit Manila's Chinatown, also known as Binondo, which is one of the oldest Chinatowns in the world. Try some Chinese cuisine and shop for souvenirs at the many stores and markets.\n",
            "15. **Go on a walking tour**: Join a guided walking tour to explore Manila's historic districts, such as Intramuros, Ermita, or Malate, and learn about the city's rich history and culture.\n",
            "\n",
            "These are just a few of the many fun things to do in Manila. Whether you're interested in history, culture, food, or entertainment, there's something for everyone in this vibrant city.\n"
          ]
        }
      ]
    },
    {
      "cell_type": "markdown",
      "source": [
        "### DBRX INSTRUCT\n",
        "\n",
        "BY: DATABRICKS\n",
        "\n",
        "LICENSE:DATABRICKS OPEN MODEL LICENSE\n",
        "\n",
        "DBRX Instruct is a mixture-of-experts (MoE) large language model trained from scratch by Databricks. DBRX Instruct specializes in few-turn interactions."
      ],
      "metadata": {
        "id": "KIUlNgVGsPbl"
      }
    },
    {
      "cell_type": "code",
      "source": [
        "import os\n",
        "from together import Together\n",
        "\n",
        "client = Together()\n",
        "\n",
        "response = client.chat.completions.create(\n",
        "    model=\"databricks/dbrx-instruct\",\n",
        "    messages=[{\"role\": \"user\", \"content\": \"What are some fun things to do in Manila?\"}],\n",
        ")\n",
        "print(response.choices[0].message.content)"
      ],
      "metadata": {
        "colab": {
          "base_uri": "https://localhost:8080/"
        },
        "id": "9UDqBL6esnvt",
        "outputId": "f0287c0b-ecb3-4a6f-97e3-49c9d6c3750e"
      },
      "execution_count": 32,
      "outputs": [
        {
          "output_type": "stream",
          "name": "stdout",
          "text": [
            "1. Visit Intramuros: This historic walled city is a must-visit in Manila. You can explore the old Spanish colonial architecture, visit the San Agustin Church and Museum, and take a stroll along the walls for a great view of the city.\n",
            "\n",
            "2. Explore Rizal Park: This large urban park is a great place to relax, have a picnic, or just take a leisurely walk. It's also home to the Rizal Monument, a national symbol of the Philippines.\n",
            "\n",
            "3. Shop at Divisoria: If you love to shop, Divisoria is the place to be. It's a bustling market where you can find everything from clothes and shoes to electronics and souvenirs at very low prices.\n",
            "\n",
            "4. Visit the National Museum: The National Museum of the Philippines houses a vast collection of art, archaeology, and natural history. It's a great place to learn about the country's rich history and culture.\n",
            "\n",
            "5. Experience the nightlife in Makati: Makati is the business district of Manila, but it also has a vibrant nightlife. You can find a variety of bars, clubs, and restaurants to suit your taste.\n",
            "\n",
            "6. Try local food: Manila is a foodie's paradise. Don't miss out on trying local dishes like adobo, sisig, and halo-halo.\n",
            "\n",
            "7. Visit the Mall of Asia: This is one of the largest malls in the world. It has an IMAX theater, an Olympic-sized ice skating rink, and a variety of shops and restaurants.\n",
            "\n",
            "8. Take a day trip to Tagaytay: Just a couple of hours away from Manila, Tagaytay offers a cooler climate and a stunning view of the Taal Volcano.\n",
            "\n",
            "9. Visit the Manila Ocean Park: This oceanarium features a variety of marine life and offers different activities like swimming with the sharks and interacting with sea lions.\n",
            "\n",
            "10. Explore Binondo (Chinatown): Binondo is the oldest Chinatown in the world. It's a great place to try Chinese-Filipino food and buy lucky charms and traditional Chinese medicine.\n"
          ]
        }
      ]
    },
    {
      "cell_type": "markdown",
      "source": [
        "## GEMMA INSTRUCT (7B)\n",
        "\n",
        "\n",
        "By: GOOGLE\n",
        "\n",
        "LICENSE: GEMMA-TERMS-OF-USE\n",
        "\n",
        "Gemma is a family of lightweight, state-of-the-art open models from Google, built from the same research and technology used to create the Gemini models."
      ],
      "metadata": {
        "id": "xpwmqmLBs3LD"
      }
    },
    {
      "cell_type": "code",
      "source": [
        "import os\n",
        "from together import Together\n",
        "\n",
        "client = Together()\n",
        "\n",
        "response = client.chat.completions.create(\n",
        "    model=\"google/gemma-7b-it\",\n",
        "    messages=[{\"role\": \"user\", \"content\": \"What are some fun things to do in New York?\"}],\n",
        ")\n",
        "print(response.choices[0].message.content)"
      ],
      "metadata": {
        "colab": {
          "base_uri": "https://localhost:8080/"
        },
        "id": "-PFTe5F0s7Ed",
        "outputId": "f7511081-a337-4cce-e07f-7c5786562452"
      },
      "execution_count": 33,
      "outputs": [
        {
          "output_type": "stream",
          "name": "stdout",
          "text": [
            "New York has a lot to offer visitors, from its iconic landmarks to its diverse neighborhoods. Here are a few ideas to get you started:\n",
            "\n",
            "**Must-See Landmarks:**\n",
            "\n",
            "* **Empire State Building:** Take an elevator to the top for stunning views of the city from the highest building in the world.\n",
            "* **Times Square:** Experience the bright lights and dazzling billboards of this bustling intersection.\n",
            "* **Central Park:** Escape the city hustle and bustle with a relaxing stroll through this beautiful park.\n",
            "* **Brooklyn Bridge Park:** Enjoy a scenic waterfront view of the Manhattan Bridge and the East River.\n",
            "* **The High Line:** Walk along this elevated park for a unique perspective of the city's streets.\n",
            "\n",
            "**Neighborhood Experiences:**\n",
            "\n",
            "* **Soho:** Explore the trendy shops, restaurants, and art galleries in this historic neighborhood.\n",
            "* **Greenwich Village:** Discover the bohemian atmosphere and unique shops in this charming village.\n",
            "* **Chinatown:** Immerse yourself in the vibrant culture and delicious food of this historic neighborhood.\n",
            "* **Little Italy:** Experience the traditional Italian atmosphere and mouth-watering cuisine in this vibrant neighborhood.\n",
            "* **Harlem:** Learn about the rich history and culture of this historic neighborhood.\n",
            "\n",
            "**Other Activities:**\n",
            "\n",
            "* **Catch a Broadway show:** New York is the home of Broadway, so catch a show for an unforgettable experience.\n",
            "* **Take a boat ride on the Hudson River:** Enjoy a scenic boat ride along the Hudson River and see the city from a different perspective.\n",
            "* **Visit the Metropolitan Museum of Art:** Explore the vast collection of art from around the world.\n",
            "* **Explore the Empire State Building Observatory:** Take a helicopter tour over the city for a unique view of New York.\n",
            "* **Go shopping:** New York has some of the best shopping malls in the world.\n",
            "\n",
            "**Additional Tips:**\n",
            "\n",
            "* **Purchase a CityPASS:** This pass offers discounts on admission to many popular attractions.\n",
            "* **Take advantage of the subway:** The subway is a convenient way to get around the city.\n",
            "* **Be prepared for the weather:** New York has four distinct seasons, so pack accordingly.\n",
            "* **Enjoy the city's diversity:** New York is a melting pot of cultures, so explore the different neighborhoods and experience the city's vibrant atmosphere.\n"
          ]
        }
      ]
    },
    {
      "cell_type": "markdown",
      "source": [
        "# 3. Anthropic"
      ],
      "metadata": {
        "id": "ICEIuJJ2_32S"
      }
    },
    {
      "cell_type": "code",
      "source": [],
      "metadata": {
        "id": "h0NoVlXD_7hl"
      },
      "execution_count": null,
      "outputs": []
    },
    {
      "cell_type": "code",
      "execution_count": null,
      "metadata": {
        "id": "5c0bed1d-553c-47ea-9d8a-c5295fc4841e"
      },
      "outputs": [],
      "source": [
        "!pip install -q anthropic"
      ]
    },
    {
      "cell_type": "markdown",
      "metadata": {
        "id": "4bd9e939-154a-4c74-a1e2-8fe48971f955"
      },
      "source": [
        "### Importing libraries"
      ]
    },
    {
      "cell_type": "code",
      "source": [],
      "metadata": {
        "id": "4GLTyP1F0Sep"
      },
      "execution_count": null,
      "outputs": []
    },
    {
      "cell_type": "code",
      "execution_count": null,
      "metadata": {
        "id": "b3856fcd-437d-4223-8ac8-2e281de6bf15"
      },
      "outputs": [],
      "source": [
        "import anthropic\n",
        "from anthropic import HUMAN_PROMPT, AI_PROMPT\n",
        "from getpass import getpass"
      ]
    },
    {
      "cell_type": "code",
      "execution_count": null,
      "metadata": {
        "colab": {
          "base_uri": "https://localhost:8080/"
        },
        "id": "43bf18ec-08d5-4885-9555-9055fb6536db",
        "outputId": "7872d262-a5d8-4673-9436-ef508eb845cf"
      },
      "outputs": [
        {
          "name": "stdout",
          "output_type": "stream",
          "text": [
            "··········\n"
          ]
        }
      ],
      "source": [
        "ANTHROPIC_API_KEY = getpass()"
      ]
    },
    {
      "cell_type": "code",
      "execution_count": null,
      "metadata": {
        "id": "9e2c880f-70cb-4d8a-b60d-e43bddef9732"
      },
      "outputs": [],
      "source": [
        "client = anthropic.Anthropic(\n",
        "    api_key=ANTHROPIC_API_KEY,\n",
        ")"
      ]
    },
    {
      "cell_type": "code",
      "execution_count": null,
      "metadata": {
        "id": "a0c213b9-f98f-4ad5-9303-3d1711d264e9"
      },
      "outputs": [],
      "source": [
        "model_1 = 'claude-instant-1.2'\n",
        "model_2 = 'claude-2.1'"
      ]
    },
    {
      "cell_type": "code",
      "execution_count": null,
      "metadata": {
        "id": "5da2ccde-3c7e-4719-a9c4-7c22949db94b"
      },
      "outputs": [],
      "source": [
        "def generate_response(PROMPT, model=\"claude-2.1\"):\n",
        "\n",
        "    completion = client.completions.create(\n",
        "        model = model,\n",
        "        max_tokens_to_sample = 300,\n",
        "        prompt = f\"{HUMAN_PROMPT} {PROMPT} {AI_PROMPT}\")\n",
        "\n",
        "    return completion.completion"
      ]
    },
    {
      "cell_type": "code",
      "source": [
        "response = generate_response(\"Write a python code to print 'Hello World'\")\n",
        "print(response)"
      ],
      "metadata": {
        "id": "FtlyXZhvAzB2",
        "outputId": "2aa94386-3124-4be8-d6d1-032b1d5646fb",
        "colab": {
          "base_uri": "https://localhost:8080/",
          "height": 321
        }
      },
      "execution_count": null,
      "outputs": [
        {
          "output_type": "error",
          "ename": "BadRequestError",
          "evalue": "Error code: 400 - {'type': 'error', 'error': {'type': 'invalid_request_error', 'message': 'Your credit balance is too low to access the Claude API. Please go to Plans & Billing to upgrade or purchase credits.'}}",
          "traceback": [
            "\u001b[0;31m---------------------------------------------------------------------------\u001b[0m",
            "\u001b[0;31mBadRequestError\u001b[0m                           Traceback (most recent call last)",
            "\u001b[0;32m<ipython-input-28-bd05ae1bf2ba>\u001b[0m in \u001b[0;36m<cell line: 1>\u001b[0;34m()\u001b[0m\n\u001b[0;32m----> 1\u001b[0;31m \u001b[0mresponse\u001b[0m \u001b[0;34m=\u001b[0m \u001b[0mgenerate_response\u001b[0m\u001b[0;34m(\u001b[0m\u001b[0;34m\"Write a python code to print 'Hello World'\"\u001b[0m\u001b[0;34m)\u001b[0m\u001b[0;34m\u001b[0m\u001b[0;34m\u001b[0m\u001b[0m\n\u001b[0m\u001b[1;32m      2\u001b[0m \u001b[0mprint\u001b[0m\u001b[0;34m(\u001b[0m\u001b[0mresponse\u001b[0m\u001b[0;34m)\u001b[0m\u001b[0;34m\u001b[0m\u001b[0;34m\u001b[0m\u001b[0m\n",
            "\u001b[0;32m<ipython-input-27-5c3b6f30b857>\u001b[0m in \u001b[0;36mgenerate_response\u001b[0;34m(PROMPT, model)\u001b[0m\n\u001b[1;32m      1\u001b[0m \u001b[0;32mdef\u001b[0m \u001b[0mgenerate_response\u001b[0m\u001b[0;34m(\u001b[0m\u001b[0mPROMPT\u001b[0m\u001b[0;34m,\u001b[0m \u001b[0mmodel\u001b[0m\u001b[0;34m=\u001b[0m\u001b[0;34m\"claude-2.1\"\u001b[0m\u001b[0;34m)\u001b[0m\u001b[0;34m:\u001b[0m\u001b[0;34m\u001b[0m\u001b[0;34m\u001b[0m\u001b[0m\n\u001b[1;32m      2\u001b[0m \u001b[0;34m\u001b[0m\u001b[0m\n\u001b[0;32m----> 3\u001b[0;31m     completion = client.completions.create(\n\u001b[0m\u001b[1;32m      4\u001b[0m         \u001b[0mmodel\u001b[0m \u001b[0;34m=\u001b[0m \u001b[0mmodel\u001b[0m\u001b[0;34m,\u001b[0m\u001b[0;34m\u001b[0m\u001b[0;34m\u001b[0m\u001b[0m\n\u001b[1;32m      5\u001b[0m         \u001b[0mmax_tokens_to_sample\u001b[0m \u001b[0;34m=\u001b[0m \u001b[0;36m300\u001b[0m\u001b[0;34m,\u001b[0m\u001b[0;34m\u001b[0m\u001b[0;34m\u001b[0m\u001b[0m\n",
            "\u001b[0;32m/usr/local/lib/python3.10/dist-packages/anthropic/_utils/_utils.py\u001b[0m in \u001b[0;36mwrapper\u001b[0;34m(*args, **kwargs)\u001b[0m\n\u001b[1;32m    275\u001b[0m                         \u001b[0mmsg\u001b[0m \u001b[0;34m=\u001b[0m \u001b[0;34mf\"Missing required argument: {quote(missing[0])}\"\u001b[0m\u001b[0;34m\u001b[0m\u001b[0;34m\u001b[0m\u001b[0m\n\u001b[1;32m    276\u001b[0m                 \u001b[0;32mraise\u001b[0m \u001b[0mTypeError\u001b[0m\u001b[0;34m(\u001b[0m\u001b[0mmsg\u001b[0m\u001b[0;34m)\u001b[0m\u001b[0;34m\u001b[0m\u001b[0;34m\u001b[0m\u001b[0m\n\u001b[0;32m--> 277\u001b[0;31m             \u001b[0;32mreturn\u001b[0m \u001b[0mfunc\u001b[0m\u001b[0;34m(\u001b[0m\u001b[0;34m*\u001b[0m\u001b[0margs\u001b[0m\u001b[0;34m,\u001b[0m \u001b[0;34m**\u001b[0m\u001b[0mkwargs\u001b[0m\u001b[0;34m)\u001b[0m\u001b[0;34m\u001b[0m\u001b[0;34m\u001b[0m\u001b[0m\n\u001b[0m\u001b[1;32m    278\u001b[0m \u001b[0;34m\u001b[0m\u001b[0m\n\u001b[1;32m    279\u001b[0m         \u001b[0;32mreturn\u001b[0m \u001b[0mwrapper\u001b[0m  \u001b[0;31m# type: ignore\u001b[0m\u001b[0;34m\u001b[0m\u001b[0;34m\u001b[0m\u001b[0m\n",
            "\u001b[0;32m/usr/local/lib/python3.10/dist-packages/anthropic/resources/completions.py\u001b[0m in \u001b[0;36mcreate\u001b[0;34m(self, max_tokens_to_sample, model, prompt, metadata, stop_sequences, stream, temperature, top_k, top_p, extra_headers, extra_query, extra_body, timeout)\u001b[0m\n\u001b[1;32m    372\u001b[0m         \u001b[0mtimeout\u001b[0m\u001b[0;34m:\u001b[0m \u001b[0mfloat\u001b[0m \u001b[0;34m|\u001b[0m \u001b[0mhttpx\u001b[0m\u001b[0;34m.\u001b[0m\u001b[0mTimeout\u001b[0m \u001b[0;34m|\u001b[0m \u001b[0;32mNone\u001b[0m \u001b[0;34m|\u001b[0m \u001b[0mNotGiven\u001b[0m \u001b[0;34m=\u001b[0m \u001b[0;36m600\u001b[0m\u001b[0;34m,\u001b[0m\u001b[0;34m\u001b[0m\u001b[0;34m\u001b[0m\u001b[0m\n\u001b[1;32m    373\u001b[0m     ) -> Completion | Stream[Completion]:\n\u001b[0;32m--> 374\u001b[0;31m         return self._post(\n\u001b[0m\u001b[1;32m    375\u001b[0m             \u001b[0;34m\"/v1/complete\"\u001b[0m\u001b[0;34m,\u001b[0m\u001b[0;34m\u001b[0m\u001b[0;34m\u001b[0m\u001b[0m\n\u001b[1;32m    376\u001b[0m             body=maybe_transform(\n",
            "\u001b[0;32m/usr/local/lib/python3.10/dist-packages/anthropic/_base_client.py\u001b[0m in \u001b[0;36mpost\u001b[0;34m(self, path, cast_to, body, options, files, stream, stream_cls)\u001b[0m\n\u001b[1;32m   1247\u001b[0m             \u001b[0mmethod\u001b[0m\u001b[0;34m=\u001b[0m\u001b[0;34m\"post\"\u001b[0m\u001b[0;34m,\u001b[0m \u001b[0murl\u001b[0m\u001b[0;34m=\u001b[0m\u001b[0mpath\u001b[0m\u001b[0;34m,\u001b[0m \u001b[0mjson_data\u001b[0m\u001b[0;34m=\u001b[0m\u001b[0mbody\u001b[0m\u001b[0;34m,\u001b[0m \u001b[0mfiles\u001b[0m\u001b[0;34m=\u001b[0m\u001b[0mto_httpx_files\u001b[0m\u001b[0;34m(\u001b[0m\u001b[0mfiles\u001b[0m\u001b[0;34m)\u001b[0m\u001b[0;34m,\u001b[0m \u001b[0;34m**\u001b[0m\u001b[0moptions\u001b[0m\u001b[0;34m\u001b[0m\u001b[0;34m\u001b[0m\u001b[0m\n\u001b[1;32m   1248\u001b[0m         )\n\u001b[0;32m-> 1249\u001b[0;31m         \u001b[0;32mreturn\u001b[0m \u001b[0mcast\u001b[0m\u001b[0;34m(\u001b[0m\u001b[0mResponseT\u001b[0m\u001b[0;34m,\u001b[0m \u001b[0mself\u001b[0m\u001b[0;34m.\u001b[0m\u001b[0mrequest\u001b[0m\u001b[0;34m(\u001b[0m\u001b[0mcast_to\u001b[0m\u001b[0;34m,\u001b[0m \u001b[0mopts\u001b[0m\u001b[0;34m,\u001b[0m \u001b[0mstream\u001b[0m\u001b[0;34m=\u001b[0m\u001b[0mstream\u001b[0m\u001b[0;34m,\u001b[0m \u001b[0mstream_cls\u001b[0m\u001b[0;34m=\u001b[0m\u001b[0mstream_cls\u001b[0m\u001b[0;34m)\u001b[0m\u001b[0;34m)\u001b[0m\u001b[0;34m\u001b[0m\u001b[0;34m\u001b[0m\u001b[0m\n\u001b[0m\u001b[1;32m   1250\u001b[0m \u001b[0;34m\u001b[0m\u001b[0m\n\u001b[1;32m   1251\u001b[0m     def patch(\n",
            "\u001b[0;32m/usr/local/lib/python3.10/dist-packages/anthropic/_base_client.py\u001b[0m in \u001b[0;36mrequest\u001b[0;34m(self, cast_to, options, remaining_retries, stream, stream_cls)\u001b[0m\n\u001b[1;32m    929\u001b[0m         \u001b[0mstream_cls\u001b[0m\u001b[0;34m:\u001b[0m \u001b[0mtype\u001b[0m\u001b[0;34m[\u001b[0m\u001b[0m_StreamT\u001b[0m\u001b[0;34m]\u001b[0m \u001b[0;34m|\u001b[0m \u001b[0;32mNone\u001b[0m \u001b[0;34m=\u001b[0m \u001b[0;32mNone\u001b[0m\u001b[0;34m,\u001b[0m\u001b[0;34m\u001b[0m\u001b[0;34m\u001b[0m\u001b[0m\n\u001b[1;32m    930\u001b[0m     ) -> ResponseT | _StreamT:\n\u001b[0;32m--> 931\u001b[0;31m         return self._request(\n\u001b[0m\u001b[1;32m    932\u001b[0m             \u001b[0mcast_to\u001b[0m\u001b[0;34m=\u001b[0m\u001b[0mcast_to\u001b[0m\u001b[0;34m,\u001b[0m\u001b[0;34m\u001b[0m\u001b[0;34m\u001b[0m\u001b[0m\n\u001b[1;32m    933\u001b[0m             \u001b[0moptions\u001b[0m\u001b[0;34m=\u001b[0m\u001b[0moptions\u001b[0m\u001b[0;34m,\u001b[0m\u001b[0;34m\u001b[0m\u001b[0;34m\u001b[0m\u001b[0m\n",
            "\u001b[0;32m/usr/local/lib/python3.10/dist-packages/anthropic/_base_client.py\u001b[0m in \u001b[0;36m_request\u001b[0;34m(self, cast_to, options, remaining_retries, stream, stream_cls)\u001b[0m\n\u001b[1;32m   1027\u001b[0m \u001b[0;34m\u001b[0m\u001b[0m\n\u001b[1;32m   1028\u001b[0m             \u001b[0mlog\u001b[0m\u001b[0;34m.\u001b[0m\u001b[0mdebug\u001b[0m\u001b[0;34m(\u001b[0m\u001b[0;34m\"Re-raising status error\"\u001b[0m\u001b[0;34m)\u001b[0m\u001b[0;34m\u001b[0m\u001b[0;34m\u001b[0m\u001b[0m\n\u001b[0;32m-> 1029\u001b[0;31m             \u001b[0;32mraise\u001b[0m \u001b[0mself\u001b[0m\u001b[0;34m.\u001b[0m\u001b[0m_make_status_error_from_response\u001b[0m\u001b[0;34m(\u001b[0m\u001b[0merr\u001b[0m\u001b[0;34m.\u001b[0m\u001b[0mresponse\u001b[0m\u001b[0;34m)\u001b[0m \u001b[0;32mfrom\u001b[0m \u001b[0;32mNone\u001b[0m\u001b[0;34m\u001b[0m\u001b[0;34m\u001b[0m\u001b[0m\n\u001b[0m\u001b[1;32m   1030\u001b[0m \u001b[0;34m\u001b[0m\u001b[0m\n\u001b[1;32m   1031\u001b[0m         return self._process_response(\n",
            "\u001b[0;31mBadRequestError\u001b[0m: Error code: 400 - {'type': 'error', 'error': {'type': 'invalid_request_error', 'message': 'Your credit balance is too low to access the Claude API. Please go to Plans & Billing to upgrade or purchase credits.'}}"
          ]
        }
      ]
    },
    {
      "cell_type": "markdown",
      "source": [
        "# 4. Gemini 1.5 Flash"
      ],
      "metadata": {
        "id": "PtCRchzQA7cm"
      }
    },
    {
      "cell_type": "markdown",
      "metadata": {
        "id": "No17Cw5hgx12"
      },
      "source": [
        "### Install Vertex AI SDK for Python\n"
      ]
    },
    {
      "cell_type": "code",
      "execution_count": 51,
      "metadata": {
        "id": "tFy3H3aPgx12",
        "outputId": "5b35f29a-6d10-4123-b926-b4ae4f6c651a",
        "colab": {
          "base_uri": "https://localhost:8080/"
        }
      },
      "outputs": [
        {
          "output_type": "stream",
          "name": "stdout",
          "text": [
            "\u001b[?25l     \u001b[90m━━━━━━━━━━━━━━━━━━━━━━━━━━━━━━━━━━━━━━━━\u001b[0m \u001b[32m0.0/5.1 MB\u001b[0m \u001b[31m?\u001b[0m eta \u001b[36m-:--:--\u001b[0m\r\u001b[2K     \u001b[91m━\u001b[0m\u001b[90m╺\u001b[0m\u001b[90m━━━━━━━━━━━━━━━━━━━━━━━━━━━━━━━━━━━━━━\u001b[0m \u001b[32m0.2/5.1 MB\u001b[0m \u001b[31m4.4 MB/s\u001b[0m eta \u001b[36m0:00:02\u001b[0m\r\u001b[2K     \u001b[91m━━━━━━━━━━\u001b[0m\u001b[90m╺\u001b[0m\u001b[90m━━━━━━━━━━━━━━━━━━━━━━━━━━━━━\u001b[0m \u001b[32m1.3/5.1 MB\u001b[0m \u001b[31m19.1 MB/s\u001b[0m eta \u001b[36m0:00:01\u001b[0m\r\u001b[2K     \u001b[91m━━━━━━━━━━━━━━━━━━━━━━━━━━━━━━━━━━━━━━━\u001b[0m\u001b[91m╸\u001b[0m \u001b[32m5.1/5.1 MB\u001b[0m \u001b[31m50.8 MB/s\u001b[0m eta \u001b[36m0:00:01\u001b[0m\r\u001b[2K     \u001b[90m━━━━━━━━━━━━━━━━━━━━━━━━━━━━━━━━━━━━━━━━\u001b[0m \u001b[32m5.1/5.1 MB\u001b[0m \u001b[31m39.5 MB/s\u001b[0m eta \u001b[36m0:00:00\u001b[0m\n",
            "\u001b[?25h\u001b[33m  WARNING: The script tb-gcp-uploader is installed in '/root/.local/bin' which is not on PATH.\n",
            "  Consider adding this directory to PATH or, if you prefer to suppress this warning, use --no-warn-script-location.\u001b[0m\u001b[33m\n",
            "\u001b[0m"
          ]
        }
      ],
      "source": [
        "! pip3 install --upgrade --user --quiet google-cloud-aiplatform"
      ]
    },
    {
      "cell_type": "markdown",
      "metadata": {
        "id": "dmWOrTJ3gx13"
      },
      "source": [
        "### Authenticate your notebook environment (Colab only)\n",
        "\n",
        "If you are running this notebook on Google Colab, run the cell below to authenticate your environment.\n"
      ]
    },
    {
      "cell_type": "code",
      "execution_count": 52,
      "metadata": {
        "id": "NyKGtVQjgx13"
      },
      "outputs": [],
      "source": [
        "import sys\n",
        "\n",
        "if \"google.colab\" in sys.modules:\n",
        "    from google.colab import auth\n",
        "    auth.authenticate_user()"
      ]
    },
    {
      "cell_type": "markdown",
      "metadata": {
        "id": "DF4l8DTdWgPY"
      },
      "source": [
        "### Set Google Cloud project information and initialize Vertex AI SDK\n",
        "\n",
        "To get started using Vertex AI, you must have an existing Google Cloud project and [enable the Vertex AI API](https://console.cloud.google.com/flows/enableapi?apiid=aiplatform.googleapis.com).\n",
        "\n",
        "Learn more about [setting up a project and a development environment](https://cloud.google.com/vertex-ai/docs/start/cloud-environment)."
      ]
    },
    {
      "cell_type": "code",
      "execution_count": 53,
      "metadata": {
        "id": "Nqwi-5ufWp_B"
      },
      "outputs": [],
      "source": [
        "PROJECT_ID = \"jrproject-402905\"  # @param {type:\"string\"}\n",
        "LOCATION = \"us-central1\"  # @param {type:\"string\"}\n",
        "MODEL_ID = \"gemini-1.5-flash-preview-0514\"  # @param {type:\"string\"}\n",
        "import vertexai\n",
        "vertexai.init(project=PROJECT_ID, location=LOCATION)"
      ]
    },
    {
      "cell_type": "markdown",
      "source": [
        "## Gemini 1.5 Flash\n",
        "\n",
        "**Overview**\n",
        "\n",
        "Gemini 1.5 Flash is a foundation model that performs well at a variety of multimodal tasks such as visual understanding, classification, summarization, and creating content from image, audio and video. It's adept at processing visual and text inputs such as photographs, documents, infographics, and screenshots.\n",
        "\n",
        "Gemini 1.5 Flash is designed for high-volume, high-frequency tasks where cost and latency matter. On most common tasks, Flash achieves comparable quality to other Gemini Pro models at a significantly reduced cost. Flash is well-suited for applications like chat assistants and on-demand content generation where speed and scale matter."
      ],
      "metadata": {
        "id": "AzeSs139AzWG"
      }
    },
    {
      "cell_type": "code",
      "execution_count": 54,
      "metadata": {
        "id": "lslYAvw37JGQ"
      },
      "outputs": [],
      "source": [
        "from vertexai.generative_models import GenerationConfig, GenerativeModel\n",
        "\n",
        "# load the model\n",
        "model = GenerativeModel(MODEL_ID, system_instruction=[ \"You are a helpful assistant.\",\"Your answer questions in a concise way\",],)\n",
        "\n",
        "# Set model parameters\n",
        "generation_config = GenerationConfig( temperature=0.9, top_k=32,)\n",
        "\n",
        "def generate_response(prompt,model=model):\n",
        "  contents = [prompt]\n",
        "  response = model.generate_content(contents, generation_config=generation_config,)\n",
        "  return response.text"
      ]
    },
    {
      "cell_type": "code",
      "source": [
        "response = generate_response(\"Write a python code to print 'Hello World'\")\n",
        "print(response)"
      ],
      "metadata": {
        "id": "_OsroYzHBNnE",
        "outputId": "d2efa1d3-6ee5-4220-c23f-9157e3914370",
        "colab": {
          "base_uri": "https://localhost:8080/"
        }
      },
      "execution_count": 55,
      "outputs": [
        {
          "output_type": "stream",
          "name": "stdout",
          "text": [
            "```python\n",
            "print(\"Hello World\")\n",
            "``` \n",
            "\n"
          ]
        }
      ]
    },
    {
      "cell_type": "markdown",
      "source": [
        "## PaLM 2 Chat Bison\n",
        "\n",
        "**Overview**\n",
        "The chat-bison model is a large language model that excels at language understanding, language generation and conversations. This chat model is fine-tuned to conduct natural multi-turn conversations.\n",
        "\n",
        "The PaLM 2 Chat Bison is ideal for text tasks that require back-and-forth interactions. For text tasks that can be completed with one API response (without the need for continuous conversation), use the PaLM 2 Text Bison.\n",
        "\n",
        "**Model capabilities**\n",
        "\n",
        "* Text in, text out.\n",
        "* Generates text in a conversational format.\n",
        "* Optimized for natural language tasks like chat bots or help agents.\n",
        "* Can handle zero, one, and few-shot tasks (you provide no examples, one example, or several examples to inform model inference).\n",
        "\n",
        "**Model properties**\n",
        "\n",
        "* Max input token: 4,096\n",
        "* Max output tokens: 1,024\n",
        "* Training data: up to Feb 2023\n",
        "* Max turns : 2,500\n",
        "\n",
        "**Model safety**\n",
        "\n",
        "* No adjustable safety settings.\n",
        "* Error message instead of generated response for filtered input/output.\n",
        "* No safety rating or score returned with response.\n",
        "\n"
      ],
      "metadata": {
        "id": "WjIcOx69Ayce"
      }
    },
    {
      "cell_type": "code",
      "source": [
        "Model_ID = \"chat-bison@002\"\n",
        "# load the model\n",
        "model = GenerativeModel(MODEL_ID, system_instruction=[ \"You are a helpful assistant.\",\"Your answer questions in a concise way\",],)\n",
        "\n",
        "# Set model parameters\n",
        "generation_config = GenerationConfig( temperature=0.9, top_k=32,)\n",
        "\n",
        "def generate_response(prompt,model=model):\n",
        "  contents = [prompt]\n",
        "  response = model.generate_content(contents, generation_config=generation_config,)\n",
        "  return response.text\n",
        "\n",
        "response = generate_response(\"Write a poem on how beautiful city Manila is\")\n",
        "print(response)"
      ],
      "metadata": {
        "id": "JZM2hAxzAxTc",
        "outputId": "e5e15d5b-483a-42ea-b185-f99d79f2f25a",
        "colab": {
          "base_uri": "https://localhost:8080/"
        }
      },
      "execution_count": 56,
      "outputs": [
        {
          "output_type": "stream",
          "name": "stdout",
          "text": [
            "Manila's heart beats fast and bold,\n",
            "A tapestry of stories told.\n",
            "From ancient walls to modern sprawl,\n",
            "A city where dreams rise and fall.\n",
            "\n",
            "Intramuros whispers of Spanish grace,\n",
            "With cobblestone streets and time's embrace.\n",
            "Rizal Park, a green and tranquil space,\n",
            "Where laughter echoes and memories chase.\n",
            "\n",
            "The Bay's embrace, a shimmering sight,\n",
            "As sunsets paint the sky with light.\n",
            "Manila's soul, a vibrant blend,\n",
            "Of ancient echoes and modern trend.\n",
            "\n",
            "A city of contrasts, rich and grand,\n",
            "Where history whispers, hand in hand\n",
            "With progress striving, reaching high,\n",
            "Manila's beauty, a sight to see, a reason to fly. \n",
            "\n"
          ]
        }
      ]
    },
    {
      "cell_type": "markdown",
      "source": [
        "## Calude Sonnet 3.5 by Anthropic\n",
        "**Overview**\n",
        "Anthropic's most powerful AI model. Claude 3.5 Sonnet raises the industry bar for intelligence, outperforming competitor models and Claude 3 Opus on a wide range of evaluations, with the speed and cost of our mid-tier model, Claude 3 Sonnet. Claude 3.5 Sonnet shows us the frontier of what's possible with generative AI.\n",
        "\n",
        "All Claude 3 models can process images and return text outputs, and feature a 200K context window.\n",
        "\n",
        "**Use cases**\n",
        "* Coding: When instructed and provided with the relevant tools, Claude 3.5 Sonnet can independently write, edit, and execute code with sophisticated reasoning and troubleshooting capabilities. It streamlines code translations, a key component of developer workflows and IT strategy, offering enhanced speed and accuracy.\n",
        "* Customer support: Claude 3.5 Sonnet handles intricate inquiries by understanding user context and orchestrating multi-step workflows. This enables round-the-clock support, faster response times, natural-sounding interactions, and improved customer satisfaction.\n",
        "* Data science & analysis: Claude 3.5 Sonnet enhances human expertise in data science by effortlessly navigating unstructured data and leveraging multiple tools to generate insights. It produces high-quality statistical visualizations and actionable predictions, ranging from business strategies to real-time product trends.\n",
        "* Visual processing: Claude 3.5 Sonnet excels in processing images, particularly in interpreting charts and graphs that require visual understanding. It accurately transcribes text from imperfect images—a core capability for retail, logistics, and financial services, where AI may garner more insights from an image, graphic or illustration than from text alone.\n",
        "* Writing: Claude has established itself as the leading LLM for creative writing, and Claude 3.5 Sonnet represents a step-change in Claude's ability to understand nuance and humor. The model produces high-quality written content with a more natural, human-like tone that feels more authentic and relatable."
      ],
      "metadata": {
        "id": "4id7Qr2SSu-K"
      }
    },
    {
      "cell_type": "code",
      "source": [
        "!pip install anthropic[vertex] --quiet"
      ],
      "metadata": {
        "id": "kwEryKUdBZM-"
      },
      "execution_count": null,
      "outputs": []
    },
    {
      "cell_type": "code",
      "source": [
        "from anthropic import AnthropicVertex\n",
        "\n",
        "LOCATION=\"europe-west1\" # or \"us-east5\"\n",
        "\n",
        "client = AnthropicVertex(region=LOCATION, project_id=PROJECT_ID)\n",
        "\n",
        "message = client.messages.create(\n",
        "  max_tokens=1024,\n",
        "  messages=[\n",
        "    {\n",
        "      \"role\": \"user\",\n",
        "      \"content\": \"Send me a recipe for banana bread.\",\n",
        "    }\n",
        "  ],\n",
        "  model=\"claude-3-5-sonnet@20240620\",\n",
        ")\n",
        "print(message.model_dump_json(indent=2))"
      ],
      "metadata": {
        "colab": {
          "base_uri": "https://localhost:8080/"
        },
        "id": "13P0bAhP4YFT",
        "outputId": "066b296d-2f6b-4cfe-b835-ea44d7bfc720"
      },
      "execution_count": 58,
      "outputs": [
        {
          "output_type": "stream",
          "name": "stdout",
          "text": [
            "{\n",
            "  \"id\": \"msg_vrtx_01G9cwcL3AgBF1RgXJDiGQQF\",\n",
            "  \"content\": [\n",
            "    {\n",
            "      \"text\": \"Here's a simple recipe for banana bread:\\n\\nIngredients:\\n- 2-3 ripe bananas, mashed\\n- 1/3 cup melted butter\\n- 1/2 cup sugar\\n- 1 egg\\n- 1 teaspoon vanilla extract\\n- 1 teaspoon baking soda\\n- Pinch of salt\\n- 1 1/2 cups all-purpose flour\\n- 1/2 cup chopped nuts (optional)\\n\\nInstructions:\\n\\n1. Preheat oven to 350°F (175°C). Grease a 4x8-inch loaf pan.\\n\\n2. In a large bowl, mix mashed bananas with melted butter.\\n\\n3. Mix in the sugar, egg, and vanilla extract.\\n\\n4. Sprinkle the baking soda and salt over the mixture and stir in.\\n\\n5. Add the flour and mix until just combined. Fold in nuts if using.\\n\\n6. Pour batter into the prepared loaf pan.\\n\\n7. Bake for 50-60 minutes, or until a toothpick inserted into the center comes out clean.\\n\\n8. Remove from oven and let cool in the pan for a few minutes. Then remove from pan and let cool completely on a wire rack.\\n\\nEnjoy your homemade banana bread!\",\n",
            "      \"type\": \"text\"\n",
            "    }\n",
            "  ],\n",
            "  \"model\": \"claude-3-5-sonnet-20240620\",\n",
            "  \"role\": \"assistant\",\n",
            "  \"stop_reason\": \"end_turn\",\n",
            "  \"stop_sequence\": null,\n",
            "  \"type\": \"message\",\n",
            "  \"usage\": {\n",
            "    \"input_tokens\": 15,\n",
            "    \"output_tokens\": 303\n",
            "  }\n",
            "}\n"
          ]
        }
      ]
    },
    {
      "cell_type": "code",
      "source": [
        "print(message.content[0].text)"
      ],
      "metadata": {
        "colab": {
          "base_uri": "https://localhost:8080/"
        },
        "id": "KMNuGyxT4eC3",
        "outputId": "318e3311-7d53-4916-c68f-8df34f0aa9cb"
      },
      "execution_count": 61,
      "outputs": [
        {
          "output_type": "stream",
          "name": "stdout",
          "text": [
            "Here's a simple recipe for banana bread:\n",
            "\n",
            "Ingredients:\n",
            "- 2-3 ripe bananas, mashed\n",
            "- 1/3 cup melted butter\n",
            "- 1/2 cup sugar\n",
            "- 1 egg\n",
            "- 1 teaspoon vanilla extract\n",
            "- 1 teaspoon baking soda\n",
            "- Pinch of salt\n",
            "- 1 1/2 cups all-purpose flour\n",
            "- 1/2 cup chopped nuts (optional)\n",
            "\n",
            "Instructions:\n",
            "\n",
            "1. Preheat oven to 350°F (175°C). Grease a 4x8-inch loaf pan.\n",
            "\n",
            "2. In a large bowl, mix mashed bananas with melted butter.\n",
            "\n",
            "3. Mix in the sugar, egg, and vanilla extract.\n",
            "\n",
            "4. Sprinkle the baking soda and salt over the mixture and stir in.\n",
            "\n",
            "5. Add the flour and mix until just combined. Fold in nuts if using.\n",
            "\n",
            "6. Pour batter into the prepared loaf pan.\n",
            "\n",
            "7. Bake for 50-60 minutes, or until a toothpick inserted into the center comes out clean.\n",
            "\n",
            "8. Remove from oven and let cool in the pan for a few minutes. Then remove from pan and let cool completely on a wire rack.\n",
            "\n",
            "Enjoy your homemade banana bread!\n"
          ]
        }
      ]
    },
    {
      "cell_type": "code",
      "source": [],
      "metadata": {
        "id": "8pl3pFyT4jbn"
      },
      "execution_count": null,
      "outputs": []
    }
  ]
}